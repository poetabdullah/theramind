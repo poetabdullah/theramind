{
  "nbformat": 4,
  "nbformat_minor": 0,
  "metadata": {
    "colab": {
      "provenance": []
    },
    "kernelspec": {
      "name": "python3",
      "display_name": "Python 3"
    },
    "language_info": {
      "name": "python"
    }
  },
  "cells": [
    {
      "cell_type": "markdown",
      "source": [
        "# \"No\" of the mental Health\""
      ],
      "metadata": {
        "id": "QgfrJUg2wMgN"
      }
    },
    {
      "cell_type": "markdown",
      "source": [
        "1st area:"
      ],
      "metadata": {
        "id": "s9VDyKMiytbr"
      }
    },
    {
      "cell_type": "code",
      "source": [
        "from google.colab import drive, userdata\n",
        "import google.generativeai as genai\n",
        "import os\n",
        "import pandas as pd\n",
        "from tqdm import tqdm\n",
        "import time\n",
        "import random\n",
        "from google.api_core.exceptions import ResourceExhausted\n",
        "\n",
        "# Securely configure Gemini API Key using Google Colab Secrets\n",
        "try:\n",
        "    genai.configure(api_key=userdata.get(\"GOOGLE_API_KEY_2\"))\n",
        "except Exception as e:\n",
        "    print(f\"Error configuring Gemini API: {e}\")\n",
        "    print(\"Please ensure you have set 'GEMINI_API_KEY' in Google Colab Secrets (key icon on the left sidebar).\")\n",
        "    exit()\n",
        "\n",
        "# Initialize the Generative Model with Gemini 1.5 Flash.\n",
        "model = genai.GenerativeModel('gemini-2.0-flash') # Using gemini-2.0-flash as it's powerful and cost-effective\n",
        "\n",
        "# Mount Google Drive\n",
        "drive.mount('/content/drive')\n",
        "\n",
        "# --- Categories for Non-Mental Health Content ---\n",
        "non_mh_categories = {\n",
        "    'Technology & Gadgets': [\n",
        "        \"latest smartphone review\", \"future of AI in daily life\", \"smart home automation tips\",\n",
        "        \"gaming console comparison\", \"cybersecurity best practices\", \"wearable tech innovations\",\n",
        "        \"how to build a custom PC\", \"review of a new software update\", \"evolution of virtual reality\"\n",
        "    ],\n",
        "    'Travel & Tourism': [\n",
        "        \"hiking trails in Patagonia\", \"top 10 beaches in Thailand\", \"exploring ancient Roman ruins\",\n",
        "        \"budget travel tips for Europe\", \"culinary tour of Italy\", \"wildlife safari in Africa\",\n",
        "        \"backpacking essentials\", \"guide to national parks in North America\", \"visiting historical landmarks\"\n",
        "    ],\n",
        "    'Cooking & Recipes': [\n",
        "        \"easy weeknight dinner recipes\", \"mastering sourdough bread\", \"vegan meal prep ideas\",\n",
        "        \"history of Italian pasta\", \"best barbecue techniques\", \"baking perfect cookies\",\n",
        "        \"fermentation basics\", \"review of a new kitchen gadget\", \"seasonal vegetable dishes\"\n",
        "    ],\n",
        "    'Home Improvement & DIY': [\n",
        "        \"renovating a bathroom on a budget\", \"gardening for beginners\", \"building a backyard deck\",\n",
        "        \"interior design trends\", \"DIY furniture projects\", \"painting tips for a smooth finish\",\n",
        "        \"smart home integration\", \"creating a sustainable garden\", \"repairing leaky faucets\"\n",
        "    ],\n",
        "    'Sports & Fitness': [\n",
        "        \"training for a marathon\", \"NBA season preview\", \"yoga for flexibility\",\n",
        "        \"benefits of strength training\", \"history of the Olympic Games\", \"soccer match analysis\",\n",
        "        \"cycling routes for adventurers\", \"nutrition for athletes\", \"review of new running shoes\"\n",
        "    ],\n",
        "    'Finance & Economics': [\n",
        "        \"personal budgeting strategies\", \"stock market trends for Q3\", \"understanding cryptocurrency\",\n",
        "        \"real estate investment tips\", \"retirement planning basics\", \"global economic outlook\",\n",
        "        \"starting a small business\", \"managing student debt\", \"impact of interest rates on loans\"\n",
        "    ],\n",
        "    'Science & Nature (non-medical)': [\n",
        "        \"discoveries in astrophysics\", \"the life cycle of butterflies\", \"climate change effects on oceans\",\n",
        "        \"geology of volcanoes\", \"robotics in manufacturing\", \"new findings in quantum physics\",\n",
        "        \"observing constellations\", \"marine biology research\", \"sustainable energy solutions\"\n",
        "    ],\n",
        "    'History & Culture': [\n",
        "        \"ancient Egyptian pharaohs\", \"the Renaissance art movement\", \"traditions of Japanese tea ceremony\",\n",
        "        \"World War II pivotal moments\", \"famous literary figures\", \"evolution of music genres\",\n",
        "        \"exploring indigenous cultures\", \"architecture of medieval castles\", \"cultural festivals worldwide\"\n",
        "    ],\n",
        "    'Everyday Life (neutral)': [\n",
        "        \"tips for organizing your workspace\", \"how to choose the right pet\", \"planning a successful road trip\",\n",
        "        \"daily commute challenges\", \"best ways to relax after work (non-mental health)\", \"volunteering in your community\",\n",
        "        \"a day in the life of a city dweller\", \"the benefits of reading fiction\", \"understanding local zoning laws\"\n",
        "    ]\n",
        "}\n",
        "\n",
        "# Specific prompts for \"confusing\" keywords in non-MH contexts\n",
        "confusing_prompts = [\n",
        "    {\"topic\": \"Travel\", \"prompt\": \"Write a short travel blog post about an 'emotional trip' through a historical city, focusing on the historical impact and personal awe, not psychological states. The emotions should be awe, wonder, fascination, not sadness or anxiety.\"},\n",
        "    {\"topic\": \"Engineering\", \"prompt\": \"Describe a 'stress test' performed on a new bridge design. Focus on the structural integrity, engineering principles, and physical limits, not human stress.\"},\n",
        "    {\"topic\": \"Finance\", \"prompt\": \"Discuss a 'depressed economy' and its indicators. Explain economic terms like recession, inflation, and unemployment, without focusing on the psychological impact on individuals.\"},\n",
        "    {\"topic\": \"Sports\", \"prompt\": \"Detail the 'anxious wait' for the final results of a major sporting event. Describe the tension of the game, the scores, and the anticipation of fans, not clinical anxiety.\"},\n",
        "    {\"topic\": \"Botany\", \"prompt\": \"Write about the 'healing properties' of a specific herb. Focus on its chemical compounds, traditional uses as a physical remedy, and cultivation, not mental or emotional healing.\"},\n",
        "    {\"topic\": \"DIY\", \"prompt\": \"Explain how to fix a 'broken window' at its 'breaking point'. Focus on the physical repair process, tools, and materials needed.\"},\n",
        "    {\"topic\": \"Daily Life\", \"prompt\": \"Write a short piece advising people to 'mind the gap' on a subway platform. Explain it as a safety instruction, not a mental state.\"},\n",
        "    {\"topic\": \"Culinary\", \"prompt\": \"Describe how to create a 'depressed' or 'sunken' cake, explaining the baking process and common baking errors.\"},\n",
        "    {\"topic\": \"Weather\", \"prompt\": \"Describe a 'blue' sky on a clear day, or a 'down' pour of rain. Focus on meteorological descriptions.\"},\n",
        "    {\"topic\": \"Music\", \"prompt\": \"Discuss the 'mood' of a particular piece of classical music, describing its tempo, instrumentation, and emotional impact on the listener purely from an aesthetic perspective, not mental health states.\"}\n",
        "]\n",
        "\n",
        "\n",
        "def generate_non_mental_health_entry(category, sub_topic, entry_number, is_confusing_keyword=False):\n",
        "    \"\"\"\n",
        "    Generates a single non-mental health entry based on category and sub-topic.\n",
        "    Includes retry mechanism and length enforcement.\n",
        "    `is_confusing_keyword` flag modifies prompts to use keywords that might be\n",
        "    mistaken for mental health topics but are used in a non-MH context.\n",
        "    \"\"\"\n",
        "    max_retries = 3\n",
        "    base_length_min = 500\n",
        "    base_length_max = 2000 # Keep content concise but informative\n",
        "\n",
        "    for attempt in range(max_retries):\n",
        "        if is_confusing_keyword:\n",
        "            # For confusing keywords, directly use the specific prompt\n",
        "            prompt_detail = sub_topic # Here sub_topic is actually the full prompt from confusing_prompts\n",
        "            final_prompt = f\"\"\"\n",
        "            Generate a concise, factual, and engaging piece of text NOT related to mental health.\n",
        "            Focus on the following specific scenario:\n",
        "            {prompt_detail}\n",
        "\n",
        "            Ensure the content clearly belongs to a non-mental health domain (e.g., engineering, sports, finance, travel, botany, daily safety).\n",
        "            Avoid any language that could be interpreted as describing a psychological condition, emotional struggle (beyond superficial, common-language usage like 'anticipation' or 'awe' in non-clinical contexts), therapy, diagnosis, or mental well-being.\n",
        "            Structure: Title, then content.\n",
        "            Length: Total content (excluding title) should be between {base_length_min} and {base_length_max} characters.\n",
        "            \"\"\"\n",
        "        else:\n",
        "            # For regular non-MH entries, use the category and sub-topic\n",
        "            final_prompt = f\"\"\"\n",
        "            Generate a concise, factual, and engaging article, review, or descriptive piece on the topic of \"{sub_topic}\" within the category of \"{category}\".\n",
        "            The content MUST NOT be related to mental health, psychology, emotional struggles, or therapy in any way.\n",
        "            Focus purely on the factual, technical, descriptive, or practical aspects of the subject.\n",
        "\n",
        "            Example styles: blog post, news report, product review, travel guide, recipe, technical explanation, historical overview, DIY guide.\n",
        "\n",
        "            Structure:\n",
        "            1.  **Title:** A clear, informative title (20-120 characters) directly related to the topic.\n",
        "            2.  **Content:** A well-structured, coherent body of text.\n",
        "                - For \"Travel & Tourism\": Describe destinations, practical tips, historical facts, local cuisine.\n",
        "                - For \"Technology & Gadgets\": Explain features, performance, user experience, market trends.\n",
        "                - For \"Cooking & Recipes\": Provide instructions, ingredients, culinary tips, background.\n",
        "                - For \"Home Improvement & DIY\": Detail steps, tools, materials, design ideas.\n",
        "                - For \"Sports & Fitness\": Report on events, explain techniques, discuss benefits, analyze performance.\n",
        "                - For \"Finance & Economics\": Explain concepts, analyze markets, offer practical advice, report on trends.\n",
        "                - For \"Science & Nature\": Describe phenomena, explain theories, report on discoveries, discuss species.\n",
        "                - For \"History & Culture\": Narrate events, describe art, explain traditions, outline biographies.\n",
        "                - For \"Everyday Life (neutral)\": Give advice on mundane tasks, describe observations, or neutral personal experiences.\n",
        "\n",
        "            Ensure the language is entirely devoid of mental health jargon or implications.\n",
        "            Length: Total content (excluding title) should be between {base_length_min} and {base_length_max} characters.\n",
        "            \"\"\"\n",
        "        try:\n",
        "            response = model.generate_content(\n",
        "                final_prompt,\n",
        "                generation_config=genai.types.GenerationConfig(\n",
        "                    temperature=0.7, # Slightly lower temperature for more factual content\n",
        "                    max_output_tokens=base_length_max + 200, # Allow a bit extra for safety\n",
        "                    stop_sequences=[]\n",
        "                )\n",
        "            )\n",
        "\n",
        "            text = response.text.strip()\n",
        "            first_newline_idx = text.find('\\n')\n",
        "\n",
        "            if first_newline_idx != -1:\n",
        "                title = text[:first_newline_idx].strip()\n",
        "                content = text[first_newline_idx+1:].strip()\n",
        "            else:\n",
        "                # If no newline, try to find a reasonable split point or just take first part as title\n",
        "                first_period_idx = text.find('.')\n",
        "                if first_period_idx != -1 and first_period_idx < 120: # Title max length check\n",
        "                    title = text[:first_period_idx+1].strip()\n",
        "                    content = text[first_period_idx+1:].strip()\n",
        "                else:\n",
        "                    # Fallback for very short or oddly formatted responses\n",
        "                    title = text[:80].strip() + \"...\" if len(text) > 80 else text.strip()\n",
        "                    content = text[80:].strip() if len(text) > 80 else \"\"\n",
        "\n",
        "            if len(title) > 120:\n",
        "                title = title[:117] + \"...\"\n",
        "\n",
        "            # Basic content length check\n",
        "            if len(content) < base_length_min:\n",
        "                print(f\"Warning: Content for non-MH entry {category}/{sub_topic} ({'confusing' if is_confusing_keyword else 'normal'}) entry {entry_number} too short ({len(content)} chars). Retrying...\")\n",
        "                time.sleep(2)\n",
        "                continue\n",
        "\n",
        "            return {\n",
        "                'category': category,\n",
        "                'sub_topic': sub_topic,\n",
        "                'title': title,\n",
        "                'content': content,\n",
        "                'is_mental_health': False, # This is the crucial label\n",
        "                'is_confusing_keyword_type': is_confusing_keyword # To track confusing entries\n",
        "            }\n",
        "\n",
        "        except ResourceExhausted as e:\n",
        "            print(f\"Error generating non-MH content for {category}/{sub_topic} ({'confusing' if is_confusing_keyword else 'normal'}) entry {entry_number} (Attempt {attempt+1}/{max_retries}): Quota Exceeded. Skipping further retries for this specific entry due to persistent quota error.\")\n",
        "            return {\n",
        "                'category': category,\n",
        "                'sub_topic': sub_topic,\n",
        "                'title': f\"Failed (Quota) for {sub_topic}\",\n",
        "                'content': \"Content generation failed due to API quota limits.\",\n",
        "                'is_mental_health': False,\n",
        "                'is_confusing_keyword_type': is_confusing_keyword\n",
        "            }\n",
        "        except Exception as e:\n",
        "            print(f\"Error generating non-MH content for {category}/{sub_topic} ({'confusing' if is_confusing_keyword else 'normal'}) entry {entry_number} (Attempt {attempt+1}/{max_retries}): {e}\")\n",
        "            time.sleep(5)\n",
        "            continue\n",
        "\n",
        "    print(f\"Failed to generate non-MH content for {category}/{sub_topic} ({'confusing' if is_confusing_keyword else 'normal'}) entry {entry_number} after {max_retries} attempts.\")\n",
        "    return {\n",
        "        'category': category,\n",
        "        'sub_topic': sub_topic,\n",
        "        'title': f\"Failed to generate for {sub_topic}\",\n",
        "        'content': \"Content generation failed.\",\n",
        "        'is_mental_health': False,\n",
        "        'is_confusing_keyword_type': is_confusing_keyword\n",
        "    }\n",
        "\n",
        "# --- Generation Logic for Non-Mental Health Data ---\n",
        "output_dir = '/content/drive/MyDrive/Mental Health'\n",
        "# Save to a new CSV file for non-mental health data\n",
        "non_mh_output_path = os.path.join(output_dir, 'non_mental_health_dataset.csv')\n",
        "os.makedirs(output_dir, exist_ok=True)\n",
        "\n",
        "# Load existing non-MH data if the file exists, otherwise start with an empty DataFrame\n",
        "if os.path.exists(non_mh_output_path):\n",
        "    print(f\"Loading existing non-mental health dataset from {non_mh_output_path}...\")\n",
        "    df_existing_non_mh = pd.read_csv(non_mh_output_path)\n",
        "    non_mh_records = df_existing_non_mh.to_dict('records')\n",
        "    print(f\"Loaded {len(non_mh_records)} existing non-mental health entries.\")\n",
        "else:\n",
        "    non_mh_records = []\n",
        "    print(\"No existing non-mental health dataset found. Starting with an empty dataset.\")\n",
        "\n",
        "# Generation parameters for new non-MH entries\n",
        "# Target: ~750 new entries\n",
        "# Number of main non-MH category sub_topics: 9 categories * ~9 sub-topics = ~81\n",
        "# Number of confusing prompts: 10\n",
        "# Let's aim for 8-9 entries per standard sub-topic and 10-15 per confusing prompt.\n",
        "# We'll split the 750 target: e.g., 600 regular, 150 confusing\n",
        "# Regular: 600 / (len(non_mh_categories) * avg_subtopics_per_category)\n",
        "# approx 81 subtopics. 600 / 81 = ~7.4\n",
        "num_regular_entries_per_subtopic = 7 # Aim for 7 entries per regular sub-topic (7 * ~81 = ~567)\n",
        "num_confusing_entries_per_prompt = 15 # Aim for 15 entries per confusing prompt (15 * 10 = 150)\n",
        "\n",
        "print(f\"\\nGenerating new non-mental health entries (approx. {len(non_mh_categories.keys()) * len(non_mh_categories[list(non_mh_categories.keys())[0]]) * num_regular_entries_per_subtopic + len(confusing_prompts) * num_confusing_entries_per_prompt} total)...\")\n",
        "\n",
        "# Generate regular non-MH entries\n",
        "for category_name, sub_topics in non_mh_categories.items():\n",
        "    for sub_topic in tqdm(sub_topics, desc=f\"Generating regular non-MH '{category_name}' entries\"):\n",
        "        for i in range(num_regular_entries_per_subtopic):\n",
        "            entry = generate_non_mental_health_entry(category_name, sub_topic, i + 1, is_confusing_keyword=False)\n",
        "            non_mh_records.append(entry)\n",
        "            time.sleep(0.5) # Small delay\n",
        "\n",
        "# Generate \"confusing\" non-MH entries\n",
        "for j, conf_item in enumerate(tqdm(confusing_prompts, desc=\"Generating 'confusing' non-MH entries\")):\n",
        "    for k in range(num_confusing_entries_per_prompt):\n",
        "        entry = generate_non_mental_health_entry(conf_item['topic'], conf_item['prompt'], k + 1, is_confusing_keyword=True)\n",
        "        non_mh_records.append(entry)\n",
        "        time.sleep(0.5) # Small delay\n",
        "\n",
        "# Create DataFrame from all non-MH records (existing + new) and save\n",
        "df_non_mh_new = pd.DataFrame(non_mh_records)\n",
        "\n",
        "df_non_mh_new.to_csv(non_mh_output_path, index=False)\n",
        "print(f\"\\nTotal non-mental health entries generated and saved to {non_mh_output_path}: {len(df_non_mh_new)}\")\n",
        "\n",
        "# Display a sample of the updated non-MH data\n",
        "print(\"\\nSample of updated non-mental health data:\")\n",
        "print(df_non_mh_new.tail()) # Show tail to see newer entries\n",
        "\n",
        "print(\"\\nEntry counts by category and confusing type:\")\n",
        "# Use fill_value=0 for combinations that don't exist\n",
        "print(df_non_mh_new.groupby(['category', 'is_confusing_keyword_type']).size().unstack(fill_value=0))\n",
        "print(f\"\\nTotal non-mental health entries: {len(df_non_mh_new)}\")"
      ],
      "metadata": {
        "colab": {
          "base_uri": "https://localhost:8080/",
          "height": 1000
        },
        "id": "GemkkkznwRIN",
        "outputId": "51f0f8da-6fcc-41b8-d9c9-01f13146edd5"
      },
      "execution_count": null,
      "outputs": [
        {
          "output_type": "stream",
          "name": "stdout",
          "text": [
            "Drive already mounted at /content/drive; to attempt to forcibly remount, call drive.mount(\"/content/drive\", force_remount=True).\n",
            "No existing non-mental health dataset found. Starting with an empty dataset.\n",
            "\n",
            "Generating new non-mental health entries (approx. 717 total)...\n"
          ]
        },
        {
          "output_type": "stream",
          "name": "stderr",
          "text": [
            "\rGenerating regular non-MH 'Technology & Gadgets' entries:   0%|          | 0/9 [00:00<?, ?it/s]"
          ]
        },
        {
          "output_type": "stream",
          "name": "stdout",
          "text": [
            "Warning: Content for non-MH entry Technology & Gadgets/latest smartphone review (normal) entry 4 too short (487 chars). Retrying...\n"
          ]
        },
        {
          "output_type": "stream",
          "name": "stderr",
          "text": [
            "Generating regular non-MH 'Technology & Gadgets' entries:  22%|██▏       | 2/9 [00:49<02:41, 23.12s/it]WARNING:tornado.access:429 POST /v1beta/models/gemini-2.0-flash:generateContent?%24alt=json%3Benum-encoding%3Dint (127.0.0.1) 2125.68ms\n"
          ]
        },
        {
          "output_type": "stream",
          "name": "stdout",
          "text": [
            "Error generating non-MH content for Technology & Gadgets/smart home automation tips (normal) entry 2 (Attempt 1/3): 429 POST https://generativelanguage.googleapis.com/v1beta/models/gemini-2.0-flash:generateContent?%24alt=json%3Benum-encoding%3Dint: You exceeded your current quota, please check your plan and billing details. For more information on this error, head to: https://ai.google.dev/gemini-api/docs/rate-limits.\n",
            "Warning: Content for non-MH entry Technology & Gadgets/smart home automation tips (normal) entry 2 too short (418 chars). Retrying...\n"
          ]
        },
        {
          "output_type": "stream",
          "name": "stderr",
          "text": [
            "\rGenerating regular non-MH 'Technology & Gadgets' entries:  33%|███▎      | 3/9 [01:33<03:16, 32.68s/it]"
          ]
        },
        {
          "output_type": "stream",
          "name": "stdout",
          "text": [
            "Warning: Content for non-MH entry Technology & Gadgets/gaming console comparison (normal) entry 6 too short (471 chars). Retrying...\n"
          ]
        },
        {
          "output_type": "stream",
          "name": "stderr",
          "text": [
            "Generating regular non-MH 'Technology & Gadgets' entries:  67%|██████▋   | 6/9 [02:36<01:09, 23.33s/it]WARNING:tornado.access:429 POST /v1beta/models/gemini-2.0-flash:generateContent?%24alt=json%3Benum-encoding%3Dint (127.0.0.1) 633.25ms\n"
          ]
        },
        {
          "output_type": "stream",
          "name": "stdout",
          "text": [
            "Error generating non-MH content for Technology & Gadgets/how to build a custom PC (normal) entry 4 (Attempt 1/3): 429 POST https://generativelanguage.googleapis.com/v1beta/models/gemini-2.0-flash:generateContent?%24alt=json%3Benum-encoding%3Dint: You exceeded your current quota, please check your plan and billing details. For more information on this error, head to: https://ai.google.dev/gemini-api/docs/rate-limits.\n"
          ]
        },
        {
          "output_type": "stream",
          "name": "stderr",
          "text": [
            "WARNING:tornado.access:429 POST /v1beta/models/gemini-2.0-flash:generateContent?%24alt=json%3Benum-encoding%3Dint (127.0.0.1) 634.04ms\n"
          ]
        },
        {
          "output_type": "stream",
          "name": "stdout",
          "text": [
            "Error generating non-MH content for Technology & Gadgets/how to build a custom PC (normal) entry 4 (Attempt 2/3): 429 POST https://generativelanguage.googleapis.com/v1beta/models/gemini-2.0-flash:generateContent?%24alt=json%3Benum-encoding%3Dint: You exceeded your current quota, please check your plan and billing details. For more information on this error, head to: https://ai.google.dev/gemini-api/docs/rate-limits.\n"
          ]
        },
        {
          "output_type": "stream",
          "name": "stderr",
          "text": [
            "WARNING:tornado.access:429 POST /v1beta/models/gemini-2.0-flash:generateContent?%24alt=json%3Benum-encoding%3Dint (127.0.0.1) 658.73ms\n"
          ]
        },
        {
          "output_type": "stream",
          "name": "stdout",
          "text": [
            "Error generating non-MH content for Technology & Gadgets/how to build a custom PC (normal) entry 4 (Attempt 3/3): 429 POST https://generativelanguage.googleapis.com/v1beta/models/gemini-2.0-flash:generateContent?%24alt=json%3Benum-encoding%3Dint: You exceeded your current quota, please check your plan and billing details. For more information on this error, head to: https://ai.google.dev/gemini-api/docs/rate-limits.\n",
            "Failed to generate non-MH content for Technology & Gadgets/how to build a custom PC (normal) entry 4 after 3 attempts.\n"
          ]
        },
        {
          "output_type": "stream",
          "name": "stderr",
          "text": [
            "\rGenerating regular non-MH 'Technology & Gadgets' entries:  78%|███████▊  | 7/9 [03:13<00:55, 27.86s/it]"
          ]
        },
        {
          "output_type": "stream",
          "name": "stdout",
          "text": [
            "Warning: Content for non-MH entry Technology & Gadgets/review of a new software update (normal) entry 1 too short (477 chars). Retrying...\n",
            "Warning: Content for non-MH entry Technology & Gadgets/review of a new software update (normal) entry 4 too short (461 chars). Retrying...\n",
            "Warning: Content for non-MH entry Technology & Gadgets/review of a new software update (normal) entry 4 too short (426 chars). Retrying...\n"
          ]
        },
        {
          "output_type": "stream",
          "name": "stderr",
          "text": [
            "\rGenerating regular non-MH 'Technology & Gadgets' entries:  89%|████████▉ | 8/9 [03:44<00:28, 28.79s/it]WARNING:tornado.access:429 POST /v1beta/models/gemini-2.0-flash:generateContent?%24alt=json%3Benum-encoding%3Dint (127.0.0.1) 709.98ms\n"
          ]
        },
        {
          "output_type": "stream",
          "name": "stdout",
          "text": [
            "Error generating non-MH content for Technology & Gadgets/evolution of virtual reality (normal) entry 4 (Attempt 1/3): 429 POST https://generativelanguage.googleapis.com/v1beta/models/gemini-2.0-flash:generateContent?%24alt=json%3Benum-encoding%3Dint: You exceeded your current quota, please check your plan and billing details. For more information on this error, head to: https://ai.google.dev/gemini-api/docs/rate-limits.\n"
          ]
        },
        {
          "output_type": "stream",
          "name": "stderr",
          "text": [
            "WARNING:tornado.access:429 POST /v1beta/models/gemini-2.0-flash:generateContent?%24alt=json%3Benum-encoding%3Dint (127.0.0.1) 633.77ms\n"
          ]
        },
        {
          "output_type": "stream",
          "name": "stdout",
          "text": [
            "Error generating non-MH content for Technology & Gadgets/evolution of virtual reality (normal) entry 4 (Attempt 2/3): 429 POST https://generativelanguage.googleapis.com/v1beta/models/gemini-2.0-flash:generateContent?%24alt=json%3Benum-encoding%3Dint: You exceeded your current quota, please check your plan and billing details. For more information on this error, head to: https://ai.google.dev/gemini-api/docs/rate-limits.\n"
          ]
        },
        {
          "output_type": "stream",
          "name": "stderr",
          "text": [
            "Generating regular non-MH 'Technology & Gadgets' entries: 100%|██████████| 9/9 [04:16<00:00, 28.46s/it]\n",
            "Generating regular non-MH 'Travel & Tourism' entries:  11%|█         | 1/9 [00:17<02:20, 17.53s/it]WARNING:tornado.access:429 POST /v1beta/models/gemini-2.0-flash:generateContent?%24alt=json%3Benum-encoding%3Dint (127.0.0.1) 634.63ms\n"
          ]
        },
        {
          "output_type": "stream",
          "name": "stdout",
          "text": [
            "Error generating non-MH content for Travel & Tourism/top 10 beaches in Thailand (normal) entry 6 (Attempt 1/3): 429 POST https://generativelanguage.googleapis.com/v1beta/models/gemini-2.0-flash:generateContent?%24alt=json%3Benum-encoding%3Dint: You exceeded your current quota, please check your plan and billing details. For more information on this error, head to: https://ai.google.dev/gemini-api/docs/rate-limits.\n"
          ]
        },
        {
          "output_type": "stream",
          "name": "stderr",
          "text": [
            "Generating regular non-MH 'Travel & Tourism' entries:  33%|███▎      | 3/9 [01:10<02:16, 22.82s/it]"
          ]
        },
        {
          "output_type": "stream",
          "name": "stdout",
          "text": [
            "Warning: Content for non-MH entry Travel & Tourism/budget travel tips for Europe (normal) entry 2 too short (485 chars). Retrying...\n"
          ]
        },
        {
          "output_type": "stream",
          "name": "stderr",
          "text": [
            "WARNING:tornado.access:429 POST /v1beta/models/gemini-2.0-flash:generateContent?%24alt=json%3Benum-encoding%3Dint (127.0.0.1) 607.95ms\n"
          ]
        },
        {
          "output_type": "stream",
          "name": "stdout",
          "text": [
            "Error generating non-MH content for Travel & Tourism/budget travel tips for Europe (normal) entry 7 (Attempt 1/3): 429 POST https://generativelanguage.googleapis.com/v1beta/models/gemini-2.0-flash:generateContent?%24alt=json%3Benum-encoding%3Dint: You exceeded your current quota, please check your plan and billing details. For more information on this error, head to: https://ai.google.dev/gemini-api/docs/rate-limits.\n"
          ]
        },
        {
          "output_type": "stream",
          "name": "stderr",
          "text": [
            "WARNING:tornado.access:429 POST /v1beta/models/gemini-2.0-flash:generateContent?%24alt=json%3Benum-encoding%3Dint (127.0.0.1) 634.14ms\n"
          ]
        },
        {
          "output_type": "stream",
          "name": "stdout",
          "text": [
            "Error generating non-MH content for Travel & Tourism/budget travel tips for Europe (normal) entry 7 (Attempt 2/3): 429 POST https://generativelanguage.googleapis.com/v1beta/models/gemini-2.0-flash:generateContent?%24alt=json%3Benum-encoding%3Dint: You exceeded your current quota, please check your plan and billing details. For more information on this error, head to: https://ai.google.dev/gemini-api/docs/rate-limits.\n"
          ]
        },
        {
          "output_type": "stream",
          "name": "stderr",
          "text": [
            "WARNING:tornado.access:429 POST /v1beta/models/gemini-2.0-flash:generateContent?%24alt=json%3Benum-encoding%3Dint (127.0.0.1) 1316.59ms\n"
          ]
        },
        {
          "output_type": "stream",
          "name": "stdout",
          "text": [
            "Error generating non-MH content for Travel & Tourism/budget travel tips for Europe (normal) entry 7 (Attempt 3/3): 429 POST https://generativelanguage.googleapis.com/v1beta/models/gemini-2.0-flash:generateContent?%24alt=json%3Benum-encoding%3Dint: You exceeded your current quota, please check your plan and billing details. For more information on this error, head to: https://ai.google.dev/gemini-api/docs/rate-limits.\n",
            "Failed to generate non-MH content for Travel & Tourism/budget travel tips for Europe (normal) entry 7 after 3 attempts.\n"
          ]
        },
        {
          "output_type": "stream",
          "name": "stderr",
          "text": [
            "Generating regular non-MH 'Travel & Tourism' entries:  78%|███████▊  | 7/9 [02:59<00:48, 24.12s/it]"
          ]
        },
        {
          "output_type": "stream",
          "name": "stdout",
          "text": [
            "Warning: Content for non-MH entry Travel & Tourism/guide to national parks in North America (normal) entry 3 too short (481 chars). Retrying...\n",
            "Warning: Content for non-MH entry Travel & Tourism/guide to national parks in North America (normal) entry 6 too short (403 chars). Retrying...\n",
            "Warning: Content for non-MH entry Travel & Tourism/guide to national parks in North America (normal) entry 6 too short (492 chars). Retrying...\n",
            "Warning: Content for non-MH entry Travel & Tourism/guide to national parks in North America (normal) entry 6 too short (401 chars). Retrying...\n",
            "Failed to generate non-MH content for Travel & Tourism/guide to national parks in North America (normal) entry 6 after 3 attempts.\n",
            "Warning: Content for non-MH entry Travel & Tourism/guide to national parks in North America (normal) entry 7 too short (481 chars). Retrying...\n",
            "Warning: Content for non-MH entry Travel & Tourism/guide to national parks in North America (normal) entry 7 too short (384 chars). Retrying...\n"
          ]
        },
        {
          "output_type": "stream",
          "name": "stderr",
          "text": [
            "WARNING:tornado.access:429 POST /v1beta/models/gemini-2.0-flash:generateContent?%24alt=json%3Benum-encoding%3Dint (127.0.0.1) 735.11ms\n"
          ]
        },
        {
          "output_type": "stream",
          "name": "stdout",
          "text": [
            "Error generating non-MH content for Travel & Tourism/guide to national parks in North America (normal) entry 7 (Attempt 3/3): 429 POST https://generativelanguage.googleapis.com/v1beta/models/gemini-2.0-flash:generateContent?%24alt=json%3Benum-encoding%3Dint: You exceeded your current quota, please check your plan and billing details. For more information on this error, head to: https://ai.google.dev/gemini-api/docs/rate-limits.\n",
            "Failed to generate non-MH content for Travel & Tourism/guide to national parks in North America (normal) entry 7 after 3 attempts.\n"
          ]
        },
        {
          "output_type": "stream",
          "name": "stderr",
          "text": [
            "\rGenerating regular non-MH 'Travel & Tourism' entries:  89%|████████▉ | 8/9 [03:37<00:28, 28.74s/it]WARNING:tornado.access:429 POST /v1beta/models/gemini-2.0-flash:generateContent?%24alt=json%3Benum-encoding%3Dint (127.0.0.1) 685.14ms\n"
          ]
        },
        {
          "output_type": "stream",
          "name": "stdout",
          "text": [
            "Error generating non-MH content for Travel & Tourism/visiting historical landmarks (normal) entry 1 (Attempt 1/3): 429 POST https://generativelanguage.googleapis.com/v1beta/models/gemini-2.0-flash:generateContent?%24alt=json%3Benum-encoding%3Dint: You exceeded your current quota, please check your plan and billing details. For more information on this error, head to: https://ai.google.dev/gemini-api/docs/rate-limits.\n"
          ]
        },
        {
          "output_type": "stream",
          "name": "stderr",
          "text": [
            "WARNING:tornado.access:429 POST /v1beta/models/gemini-2.0-flash:generateContent?%24alt=json%3Benum-encoding%3Dint (127.0.0.1) 659.11ms\n"
          ]
        },
        {
          "output_type": "stream",
          "name": "stdout",
          "text": [
            "Error generating non-MH content for Travel & Tourism/visiting historical landmarks (normal) entry 1 (Attempt 2/3): 429 POST https://generativelanguage.googleapis.com/v1beta/models/gemini-2.0-flash:generateContent?%24alt=json%3Benum-encoding%3Dint: You exceeded your current quota, please check your plan and billing details. For more information on this error, head to: https://ai.google.dev/gemini-api/docs/rate-limits.\n",
            "Warning: Content for non-MH entry Travel & Tourism/visiting historical landmarks (normal) entry 7 too short (430 chars). Retrying...\n"
          ]
        },
        {
          "output_type": "stream",
          "name": "stderr",
          "text": [
            "Generating regular non-MH 'Travel & Tourism' entries: 100%|██████████| 9/9 [04:11<00:00, 27.90s/it]\n",
            "Generating regular non-MH 'Cooking & Recipes' entries:  11%|█         | 1/9 [00:19<02:32, 19.07s/it]WARNING:tornado.access:429 POST /v1beta/models/gemini-2.0-flash:generateContent?%24alt=json%3Benum-encoding%3Dint (127.0.0.1) 633.30ms\n"
          ]
        },
        {
          "output_type": "stream",
          "name": "stdout",
          "text": [
            "Error generating non-MH content for Cooking & Recipes/mastering sourdough bread (normal) entry 2 (Attempt 1/3): 429 POST https://generativelanguage.googleapis.com/v1beta/models/gemini-2.0-flash:generateContent?%24alt=json%3Benum-encoding%3Dint: You exceeded your current quota, please check your plan and billing details. For more information on this error, head to: https://ai.google.dev/gemini-api/docs/rate-limits.\n"
          ]
        },
        {
          "output_type": "stream",
          "name": "stderr",
          "text": [
            "WARNING:tornado.access:429 POST /v1beta/models/gemini-2.0-flash:generateContent?%24alt=json%3Benum-encoding%3Dint (127.0.0.1) 659.01ms\n"
          ]
        },
        {
          "output_type": "stream",
          "name": "stdout",
          "text": [
            "Error generating non-MH content for Cooking & Recipes/mastering sourdough bread (normal) entry 2 (Attempt 2/3): 429 POST https://generativelanguage.googleapis.com/v1beta/models/gemini-2.0-flash:generateContent?%24alt=json%3Benum-encoding%3Dint: You exceeded your current quota, please check your plan and billing details. For more information on this error, head to: https://ai.google.dev/gemini-api/docs/rate-limits.\n"
          ]
        },
        {
          "output_type": "stream",
          "name": "stderr",
          "text": [
            "\rGenerating regular non-MH 'Cooking & Recipes' entries:  22%|██▏       | 2/9 [00:50<03:03, 26.24s/it]"
          ]
        },
        {
          "output_type": "stream",
          "name": "stdout",
          "text": [
            "Warning: Content for non-MH entry Cooking & Recipes/vegan meal prep ideas (normal) entry 1 too short (495 chars). Retrying...\n"
          ]
        },
        {
          "output_type": "stream",
          "name": "stderr",
          "text": [
            "\rGenerating regular non-MH 'Cooking & Recipes' entries:  33%|███▎      | 3/9 [01:15<02:33, 25.55s/it]WARNING:tornado.access:429 POST /v1beta/models/gemini-2.0-flash:generateContent?%24alt=json%3Benum-encoding%3Dint (127.0.0.1) 683.28ms\n"
          ]
        },
        {
          "output_type": "stream",
          "name": "stdout",
          "text": [
            "Error generating non-MH content for Cooking & Recipes/history of Italian pasta (normal) entry 3 (Attempt 1/3): 429 POST https://generativelanguage.googleapis.com/v1beta/models/gemini-2.0-flash:generateContent?%24alt=json%3Benum-encoding%3Dint: You exceeded your current quota, please check your plan and billing details. For more information on this error, head to: https://ai.google.dev/gemini-api/docs/rate-limits.\n"
          ]
        },
        {
          "output_type": "stream",
          "name": "stderr",
          "text": [
            "WARNING:tornado.access:429 POST /v1beta/models/gemini-2.0-flash:generateContent?%24alt=json%3Benum-encoding%3Dint (127.0.0.1) 734.74ms\n"
          ]
        },
        {
          "output_type": "stream",
          "name": "stdout",
          "text": [
            "Error generating non-MH content for Cooking & Recipes/history of Italian pasta (normal) entry 3 (Attempt 2/3): 429 POST https://generativelanguage.googleapis.com/v1beta/models/gemini-2.0-flash:generateContent?%24alt=json%3Benum-encoding%3Dint: You exceeded your current quota, please check your plan and billing details. For more information on this error, head to: https://ai.google.dev/gemini-api/docs/rate-limits.\n"
          ]
        },
        {
          "output_type": "stream",
          "name": "stderr",
          "text": [
            "Generating regular non-MH 'Cooking & Recipes' entries:  56%|█████▌    | 5/9 [02:08<01:42, 25.51s/it]WARNING:tornado.access:429 POST /v1beta/models/gemini-2.0-flash:generateContent?%24alt=json%3Benum-encoding%3Dint (127.0.0.1) 684.45ms\n"
          ]
        },
        {
          "output_type": "stream",
          "name": "stdout",
          "text": [
            "Error generating non-MH content for Cooking & Recipes/baking perfect cookies (normal) entry 5 (Attempt 1/3): 429 POST https://generativelanguage.googleapis.com/v1beta/models/gemini-2.0-flash:generateContent?%24alt=json%3Benum-encoding%3Dint: You exceeded your current quota, please check your plan and billing details. For more information on this error, head to: https://ai.google.dev/gemini-api/docs/rate-limits.\n"
          ]
        },
        {
          "output_type": "stream",
          "name": "stderr",
          "text": [
            "WARNING:tornado.access:429 POST /v1beta/models/gemini-2.0-flash:generateContent?%24alt=json%3Benum-encoding%3Dint (127.0.0.1) 633.22ms\n"
          ]
        },
        {
          "output_type": "stream",
          "name": "stdout",
          "text": [
            "Error generating non-MH content for Cooking & Recipes/baking perfect cookies (normal) entry 5 (Attempt 2/3): 429 POST https://generativelanguage.googleapis.com/v1beta/models/gemini-2.0-flash:generateContent?%24alt=json%3Benum-encoding%3Dint: You exceeded your current quota, please check your plan and billing details. For more information on this error, head to: https://ai.google.dev/gemini-api/docs/rate-limits.\n"
          ]
        },
        {
          "output_type": "stream",
          "name": "stderr",
          "text": [
            "WARNING:tornado.access:429 POST /v1beta/models/gemini-2.0-flash:generateContent?%24alt=json%3Benum-encoding%3Dint (127.0.0.1) 861.52ms\n"
          ]
        },
        {
          "output_type": "stream",
          "name": "stdout",
          "text": [
            "Error generating non-MH content for Cooking & Recipes/baking perfect cookies (normal) entry 5 (Attempt 3/3): 429 POST https://generativelanguage.googleapis.com/v1beta/models/gemini-2.0-flash:generateContent?%24alt=json%3Benum-encoding%3Dint: You exceeded your current quota, please check your plan and billing details. For more information on this error, head to: https://ai.google.dev/gemini-api/docs/rate-limits.\n",
            "Failed to generate non-MH content for Cooking & Recipes/baking perfect cookies (normal) entry 5 after 3 attempts.\n"
          ]
        },
        {
          "output_type": "stream",
          "name": "stderr",
          "text": [
            "Generating regular non-MH 'Cooking & Recipes' entries:  89%|████████▉ | 8/9 [03:23<00:24, 24.23s/it]WARNING:tornado.access:429 POST /v1beta/models/gemini-2.0-flash:generateContent?%24alt=json%3Benum-encoding%3Dint (127.0.0.1) 2227.47ms\n"
          ]
        },
        {
          "output_type": "stream",
          "name": "stdout",
          "text": [
            "Error generating non-MH content for Cooking & Recipes/seasonal vegetable dishes (normal) entry 1 (Attempt 1/3): 429 POST https://generativelanguage.googleapis.com/v1beta/models/gemini-2.0-flash:generateContent?%24alt=json%3Benum-encoding%3Dint: You exceeded your current quota, please check your plan and billing details. For more information on this error, head to: https://ai.google.dev/gemini-api/docs/rate-limits.\n"
          ]
        },
        {
          "output_type": "stream",
          "name": "stderr",
          "text": [
            "WARNING:tornado.access:429 POST /v1beta/models/gemini-2.0-flash:generateContent?%24alt=json%3Benum-encoding%3Dint (127.0.0.1) 1316.50ms\n"
          ]
        },
        {
          "output_type": "stream",
          "name": "stdout",
          "text": [
            "Error generating non-MH content for Cooking & Recipes/seasonal vegetable dishes (normal) entry 1 (Attempt 2/3): 429 POST https://generativelanguage.googleapis.com/v1beta/models/gemini-2.0-flash:generateContent?%24alt=json%3Benum-encoding%3Dint: You exceeded your current quota, please check your plan and billing details. For more information on this error, head to: https://ai.google.dev/gemini-api/docs/rate-limits.\n",
            "Warning: Content for non-MH entry Cooking & Recipes/seasonal vegetable dishes (normal) entry 1 too short (460 chars). Retrying...\n",
            "Failed to generate non-MH content for Cooking & Recipes/seasonal vegetable dishes (normal) entry 1 after 3 attempts.\n"
          ]
        },
        {
          "output_type": "stream",
          "name": "stderr",
          "text": [
            "Generating regular non-MH 'Cooking & Recipes' entries: 100%|██████████| 9/9 [03:56<00:00, 26.28s/it]\n",
            "Generating regular non-MH 'Home Improvement & DIY' entries:   0%|          | 0/9 [00:00<?, ?it/s]"
          ]
        },
        {
          "output_type": "stream",
          "name": "stdout",
          "text": [
            "Warning: Content for non-MH entry Home Improvement & DIY/renovating a bathroom on a budget (normal) entry 3 too short (482 chars). Retrying...\n"
          ]
        },
        {
          "output_type": "stream",
          "name": "stderr",
          "text": [
            "\rGenerating regular non-MH 'Home Improvement & DIY' entries:  11%|█         | 1/9 [00:23<03:10, 23.83s/it]WARNING:tornado.access:429 POST /v1beta/models/gemini-2.0-flash:generateContent?%24alt=json%3Benum-encoding%3Dint (127.0.0.1) 634.10ms\n"
          ]
        },
        {
          "output_type": "stream",
          "name": "stdout",
          "text": [
            "Error generating non-MH content for Home Improvement & DIY/gardening for beginners (normal) entry 2 (Attempt 1/3): 429 POST https://generativelanguage.googleapis.com/v1beta/models/gemini-2.0-flash:generateContent?%24alt=json%3Benum-encoding%3Dint: You exceeded your current quota, please check your plan and billing details. For more information on this error, head to: https://ai.google.dev/gemini-api/docs/rate-limits.\n"
          ]
        },
        {
          "output_type": "stream",
          "name": "stderr",
          "text": [
            "WARNING:tornado.access:429 POST /v1beta/models/gemini-2.0-flash:generateContent?%24alt=json%3Benum-encoding%3Dint (127.0.0.1) 759.81ms\n"
          ]
        },
        {
          "output_type": "stream",
          "name": "stdout",
          "text": [
            "Error generating non-MH content for Home Improvement & DIY/gardening for beginners (normal) entry 2 (Attempt 2/3): 429 POST https://generativelanguage.googleapis.com/v1beta/models/gemini-2.0-flash:generateContent?%24alt=json%3Benum-encoding%3Dint: You exceeded your current quota, please check your plan and billing details. For more information on this error, head to: https://ai.google.dev/gemini-api/docs/rate-limits.\n"
          ]
        },
        {
          "output_type": "stream",
          "name": "stderr",
          "text": [
            "Generating regular non-MH 'Home Improvement & DIY' entries:  33%|███▎      | 3/9 [01:17<02:29, 25.00s/it]"
          ]
        },
        {
          "output_type": "stream",
          "name": "stdout",
          "text": [
            "Warning: Content for non-MH entry Home Improvement & DIY/interior design trends (normal) entry 1 too short (476 chars). Retrying...\n",
            "Warning: Content for non-MH entry Home Improvement & DIY/interior design trends (normal) entry 2 too short (443 chars). Retrying...\n"
          ]
        },
        {
          "output_type": "stream",
          "name": "stderr",
          "text": [
            "WARNING:tornado.access:429 POST /v1beta/models/gemini-2.0-flash:generateContent?%24alt=json%3Benum-encoding%3Dint (127.0.0.1) 608.09ms\n"
          ]
        },
        {
          "output_type": "stream",
          "name": "stdout",
          "text": [
            "Error generating non-MH content for Home Improvement & DIY/interior design trends (normal) entry 2 (Attempt 2/3): 429 POST https://generativelanguage.googleapis.com/v1beta/models/gemini-2.0-flash:generateContent?%24alt=json%3Benum-encoding%3Dint: You exceeded your current quota, please check your plan and billing details. For more information on this error, head to: https://ai.google.dev/gemini-api/docs/rate-limits.\n"
          ]
        },
        {
          "output_type": "stream",
          "name": "stderr",
          "text": [
            "WARNING:tornado.access:429 POST /v1beta/models/gemini-2.0-flash:generateContent?%24alt=json%3Benum-encoding%3Dint (127.0.0.1) 658.34ms\n"
          ]
        },
        {
          "output_type": "stream",
          "name": "stdout",
          "text": [
            "Error generating non-MH content for Home Improvement & DIY/interior design trends (normal) entry 2 (Attempt 3/3): 429 POST https://generativelanguage.googleapis.com/v1beta/models/gemini-2.0-flash:generateContent?%24alt=json%3Benum-encoding%3Dint: You exceeded your current quota, please check your plan and billing details. For more information on this error, head to: https://ai.google.dev/gemini-api/docs/rate-limits.\n",
            "Failed to generate non-MH content for Home Improvement & DIY/interior design trends (normal) entry 2 after 3 attempts.\n"
          ]
        },
        {
          "output_type": "stream",
          "name": "stderr",
          "text": [
            "Generating regular non-MH 'Home Improvement & DIY' entries:  56%|█████▌    | 5/9 [02:08<01:37, 24.42s/it]WARNING:tornado.access:429 POST /v1beta/models/gemini-2.0-flash:generateContent?%24alt=json%3Benum-encoding%3Dint (127.0.0.1) 608.02ms\n"
          ]
        },
        {
          "output_type": "stream",
          "name": "stdout",
          "text": [
            "Error generating non-MH content for Home Improvement & DIY/painting tips for a smooth finish (normal) entry 5 (Attempt 1/3): 429 POST https://generativelanguage.googleapis.com/v1beta/models/gemini-2.0-flash:generateContent?%24alt=json%3Benum-encoding%3Dint: You exceeded your current quota, please check your plan and billing details. For more information on this error, head to: https://ai.google.dev/gemini-api/docs/rate-limits.\n"
          ]
        },
        {
          "output_type": "stream",
          "name": "stderr",
          "text": [
            "WARNING:tornado.access:429 POST /v1beta/models/gemini-2.0-flash:generateContent?%24alt=json%3Benum-encoding%3Dint (127.0.0.1) 835.68ms\n"
          ]
        },
        {
          "output_type": "stream",
          "name": "stdout",
          "text": [
            "Error generating non-MH content for Home Improvement & DIY/painting tips for a smooth finish (normal) entry 5 (Attempt 2/3): 429 POST https://generativelanguage.googleapis.com/v1beta/models/gemini-2.0-flash:generateContent?%24alt=json%3Benum-encoding%3Dint: You exceeded your current quota, please check your plan and billing details. For more information on this error, head to: https://ai.google.dev/gemini-api/docs/rate-limits.\n"
          ]
        },
        {
          "output_type": "stream",
          "name": "stderr",
          "text": [
            "WARNING:tornado.access:429 POST /v1beta/models/gemini-2.0-flash:generateContent?%24alt=json%3Benum-encoding%3Dint (127.0.0.1) 634.00ms\n"
          ]
        },
        {
          "output_type": "stream",
          "name": "stdout",
          "text": [
            "Error generating non-MH content for Home Improvement & DIY/painting tips for a smooth finish (normal) entry 5 (Attempt 3/3): 429 POST https://generativelanguage.googleapis.com/v1beta/models/gemini-2.0-flash:generateContent?%24alt=json%3Benum-encoding%3Dint: You exceeded your current quota, please check your plan and billing details. For more information on this error, head to: https://ai.google.dev/gemini-api/docs/rate-limits.\n",
            "Failed to generate non-MH content for Home Improvement & DIY/painting tips for a smooth finish (normal) entry 5 after 3 attempts.\n"
          ]
        },
        {
          "output_type": "stream",
          "name": "stderr",
          "text": [
            "WARNING:tornado.access:429 POST /v1beta/models/gemini-2.0-flash:generateContent?%24alt=json%3Benum-encoding%3Dint (127.0.0.1) 634.11ms\n"
          ]
        },
        {
          "output_type": "stream",
          "name": "stdout",
          "text": [
            "Error generating non-MH content for Home Improvement & DIY/painting tips for a smooth finish (normal) entry 6 (Attempt 1/3): 429 POST https://generativelanguage.googleapis.com/v1beta/models/gemini-2.0-flash:generateContent?%24alt=json%3Benum-encoding%3Dint: You exceeded your current quota, please check your plan and billing details. For more information on this error, head to: https://ai.google.dev/gemini-api/docs/rate-limits.\n"
          ]
        },
        {
          "output_type": "stream",
          "name": "stderr",
          "text": [
            "Generating regular non-MH 'Home Improvement & DIY' entries:  89%|████████▉ | 8/9 [03:23<00:23, 23.25s/it]WARNING:tornado.access:429 POST /v1beta/models/gemini-2.0-flash:generateContent?%24alt=json%3Benum-encoding%3Dint (127.0.0.1) 861.09ms\n"
          ]
        },
        {
          "output_type": "stream",
          "name": "stdout",
          "text": [
            "Error generating non-MH content for Home Improvement & DIY/repairing leaky faucets (normal) entry 1 (Attempt 1/3): 429 POST https://generativelanguage.googleapis.com/v1beta/models/gemini-2.0-flash:generateContent?%24alt=json%3Benum-encoding%3Dint: You exceeded your current quota, please check your plan and billing details. For more information on this error, head to: https://ai.google.dev/gemini-api/docs/rate-limits.\n"
          ]
        },
        {
          "output_type": "stream",
          "name": "stderr",
          "text": [
            "WARNING:tornado.access:429 POST /v1beta/models/gemini-2.0-flash:generateContent?%24alt=json%3Benum-encoding%3Dint (127.0.0.1) 1974.19ms\n"
          ]
        },
        {
          "output_type": "stream",
          "name": "stdout",
          "text": [
            "Error generating non-MH content for Home Improvement & DIY/repairing leaky faucets (normal) entry 1 (Attempt 2/3): 429 POST https://generativelanguage.googleapis.com/v1beta/models/gemini-2.0-flash:generateContent?%24alt=json%3Benum-encoding%3Dint: You exceeded your current quota, please check your plan and billing details. For more information on this error, head to: https://ai.google.dev/gemini-api/docs/rate-limits.\n"
          ]
        },
        {
          "output_type": "stream",
          "name": "stderr",
          "text": [
            "Generating regular non-MH 'Home Improvement & DIY' entries: 100%|██████████| 9/9 [04:11<00:00, 28.00s/it]\n",
            "Generating regular non-MH 'Sports & Fitness' entries:  33%|███▎      | 3/9 [00:59<01:55, 19.32s/it]WARNING:tornado.access:429 POST /v1beta/models/gemini-2.0-flash:generateContent?%24alt=json%3Benum-encoding%3Dint (127.0.0.1) 633.65ms\n"
          ]
        },
        {
          "output_type": "stream",
          "name": "stdout",
          "text": [
            "Error generating non-MH content for Sports & Fitness/benefits of strength training (normal) entry 4 (Attempt 1/3): 429 POST https://generativelanguage.googleapis.com/v1beta/models/gemini-2.0-flash:generateContent?%24alt=json%3Benum-encoding%3Dint: You exceeded your current quota, please check your plan and billing details. For more information on this error, head to: https://ai.google.dev/gemini-api/docs/rate-limits.\n"
          ]
        },
        {
          "output_type": "stream",
          "name": "stderr",
          "text": [
            "WARNING:tornado.access:429 POST /v1beta/models/gemini-2.0-flash:generateContent?%24alt=json%3Benum-encoding%3Dint (127.0.0.1) 634.56ms\n"
          ]
        },
        {
          "output_type": "stream",
          "name": "stdout",
          "text": [
            "Error generating non-MH content for Sports & Fitness/benefits of strength training (normal) entry 4 (Attempt 2/3): 429 POST https://generativelanguage.googleapis.com/v1beta/models/gemini-2.0-flash:generateContent?%24alt=json%3Benum-encoding%3Dint: You exceeded your current quota, please check your plan and billing details. For more information on this error, head to: https://ai.google.dev/gemini-api/docs/rate-limits.\n"
          ]
        },
        {
          "output_type": "stream",
          "name": "stderr",
          "text": [
            "WARNING:tornado.access:429 POST /v1beta/models/gemini-2.0-flash:generateContent?%24alt=json%3Benum-encoding%3Dint (127.0.0.1) 634.37ms\n"
          ]
        },
        {
          "output_type": "stream",
          "name": "stdout",
          "text": [
            "Error generating non-MH content for Sports & Fitness/benefits of strength training (normal) entry 4 (Attempt 3/3): 429 POST https://generativelanguage.googleapis.com/v1beta/models/gemini-2.0-flash:generateContent?%24alt=json%3Benum-encoding%3Dint: You exceeded your current quota, please check your plan and billing details. For more information on this error, head to: https://ai.google.dev/gemini-api/docs/rate-limits.\n",
            "Failed to generate non-MH content for Sports & Fitness/benefits of strength training (normal) entry 4 after 3 attempts.\n"
          ]
        },
        {
          "output_type": "stream",
          "name": "stderr",
          "text": [
            "WARNING:tornado.access:429 POST /v1beta/models/gemini-2.0-flash:generateContent?%24alt=json%3Benum-encoding%3Dint (127.0.0.1) 634.19ms\n"
          ]
        },
        {
          "output_type": "stream",
          "name": "stdout",
          "text": [
            "Error generating non-MH content for Sports & Fitness/benefits of strength training (normal) entry 5 (Attempt 1/3): 429 POST https://generativelanguage.googleapis.com/v1beta/models/gemini-2.0-flash:generateContent?%24alt=json%3Benum-encoding%3Dint: You exceeded your current quota, please check your plan and billing details. For more information on this error, head to: https://ai.google.dev/gemini-api/docs/rate-limits.\n",
            "Warning: Content for non-MH entry Sports & Fitness/benefits of strength training (normal) entry 5 too short (497 chars). Retrying...\n"
          ]
        },
        {
          "output_type": "stream",
          "name": "stderr",
          "text": [
            "Generating regular non-MH 'Sports & Fitness' entries:  56%|█████▌    | 5/9 [02:02<01:42, 25.69s/it]WARNING:tornado.access:429 POST /v1beta/models/gemini-2.0-flash:generateContent?%24alt=json%3Benum-encoding%3Dint (127.0.0.1) 685.39ms\n"
          ]
        },
        {
          "output_type": "stream",
          "name": "stdout",
          "text": [
            "Error generating non-MH content for Sports & Fitness/soccer match analysis (normal) entry 6 (Attempt 1/3): 429 POST https://generativelanguage.googleapis.com/v1beta/models/gemini-2.0-flash:generateContent?%24alt=json%3Benum-encoding%3Dint: You exceeded your current quota, please check your plan and billing details. For more information on this error, head to: https://ai.google.dev/gemini-api/docs/rate-limits.\n"
          ]
        },
        {
          "output_type": "stream",
          "name": "stderr",
          "text": [
            "WARNING:tornado.access:429 POST /v1beta/models/gemini-2.0-flash:generateContent?%24alt=json%3Benum-encoding%3Dint (127.0.0.1) 633.87ms\n"
          ]
        },
        {
          "output_type": "stream",
          "name": "stdout",
          "text": [
            "Error generating non-MH content for Sports & Fitness/soccer match analysis (normal) entry 6 (Attempt 2/3): 429 POST https://generativelanguage.googleapis.com/v1beta/models/gemini-2.0-flash:generateContent?%24alt=json%3Benum-encoding%3Dint: You exceeded your current quota, please check your plan and billing details. For more information on this error, head to: https://ai.google.dev/gemini-api/docs/rate-limits.\n"
          ]
        },
        {
          "output_type": "stream",
          "name": "stderr",
          "text": [
            "Generating regular non-MH 'Sports & Fitness' entries:  89%|████████▉ | 8/9 [03:12<00:23, 23.19s/it]WARNING:tornado.access:429 POST /v1beta/models/gemini-2.0-flash:generateContent?%24alt=json%3Benum-encoding%3Dint (127.0.0.1) 634.12ms\n"
          ]
        },
        {
          "output_type": "stream",
          "name": "stdout",
          "text": [
            "Error generating non-MH content for Sports & Fitness/review of new running shoes (normal) entry 1 (Attempt 1/3): 429 POST https://generativelanguage.googleapis.com/v1beta/models/gemini-2.0-flash:generateContent?%24alt=json%3Benum-encoding%3Dint: You exceeded your current quota, please check your plan and billing details. For more information on this error, head to: https://ai.google.dev/gemini-api/docs/rate-limits.\n"
          ]
        },
        {
          "output_type": "stream",
          "name": "stderr",
          "text": [
            "WARNING:tornado.access:429 POST /v1beta/models/gemini-2.0-flash:generateContent?%24alt=json%3Benum-encoding%3Dint (127.0.0.1) 633.09ms\n"
          ]
        },
        {
          "output_type": "stream",
          "name": "stdout",
          "text": [
            "Error generating non-MH content for Sports & Fitness/review of new running shoes (normal) entry 1 (Attempt 2/3): 429 POST https://generativelanguage.googleapis.com/v1beta/models/gemini-2.0-flash:generateContent?%24alt=json%3Benum-encoding%3Dint: You exceeded your current quota, please check your plan and billing details. For more information on this error, head to: https://ai.google.dev/gemini-api/docs/rate-limits.\n"
          ]
        },
        {
          "output_type": "stream",
          "name": "stderr",
          "text": [
            "WARNING:tornado.access:429 POST /v1beta/models/gemini-2.0-flash:generateContent?%24alt=json%3Benum-encoding%3Dint (127.0.0.1) 633.37ms\n"
          ]
        },
        {
          "output_type": "stream",
          "name": "stdout",
          "text": [
            "Error generating non-MH content for Sports & Fitness/review of new running shoes (normal) entry 1 (Attempt 3/3): 429 POST https://generativelanguage.googleapis.com/v1beta/models/gemini-2.0-flash:generateContent?%24alt=json%3Benum-encoding%3Dint: You exceeded your current quota, please check your plan and billing details. For more information on this error, head to: https://ai.google.dev/gemini-api/docs/rate-limits.\n",
            "Failed to generate non-MH content for Sports & Fitness/review of new running shoes (normal) entry 1 after 3 attempts.\n",
            "Warning: Content for non-MH entry Sports & Fitness/review of new running shoes (normal) entry 7 too short (395 chars). Retrying...\n"
          ]
        },
        {
          "output_type": "stream",
          "name": "stderr",
          "text": [
            "Generating regular non-MH 'Sports & Fitness' entries: 100%|██████████| 9/9 [03:48<00:00, 25.36s/it]\n",
            "Generating regular non-MH 'Finance & Economics' entries:  11%|█         | 1/9 [00:17<02:20, 17.52s/it]WARNING:tornado.access:429 POST /v1beta/models/gemini-2.0-flash:generateContent?%24alt=json%3Benum-encoding%3Dint (127.0.0.1) 683.96ms\n"
          ]
        },
        {
          "output_type": "stream",
          "name": "stdout",
          "text": [
            "Error generating non-MH content for Finance & Economics/stock market trends for Q3 (normal) entry 3 (Attempt 1/3): 429 POST https://generativelanguage.googleapis.com/v1beta/models/gemini-2.0-flash:generateContent?%24alt=json%3Benum-encoding%3Dint: You exceeded your current quota, please check your plan and billing details. For more information on this error, head to: https://ai.google.dev/gemini-api/docs/rate-limits.\n"
          ]
        },
        {
          "output_type": "stream",
          "name": "stderr",
          "text": [
            "WARNING:tornado.access:429 POST /v1beta/models/gemini-2.0-flash:generateContent?%24alt=json%3Benum-encoding%3Dint (127.0.0.1) 659.25ms\n"
          ]
        },
        {
          "output_type": "stream",
          "name": "stdout",
          "text": [
            "Error generating non-MH content for Finance & Economics/stock market trends for Q3 (normal) entry 3 (Attempt 2/3): 429 POST https://generativelanguage.googleapis.com/v1beta/models/gemini-2.0-flash:generateContent?%24alt=json%3Benum-encoding%3Dint: You exceeded your current quota, please check your plan and billing details. For more information on this error, head to: https://ai.google.dev/gemini-api/docs/rate-limits.\n"
          ]
        },
        {
          "output_type": "stream",
          "name": "stderr",
          "text": [
            "WARNING:tornado.access:429 POST /v1beta/models/gemini-2.0-flash:generateContent?%24alt=json%3Benum-encoding%3Dint (127.0.0.1) 633.71ms\n"
          ]
        },
        {
          "output_type": "stream",
          "name": "stdout",
          "text": [
            "Error generating non-MH content for Finance & Economics/stock market trends for Q3 (normal) entry 3 (Attempt 3/3): 429 POST https://generativelanguage.googleapis.com/v1beta/models/gemini-2.0-flash:generateContent?%24alt=json%3Benum-encoding%3Dint: You exceeded your current quota, please check your plan and billing details. For more information on this error, head to: https://ai.google.dev/gemini-api/docs/rate-limits.\n",
            "Failed to generate non-MH content for Finance & Economics/stock market trends for Q3 (normal) entry 3 after 3 attempts.\n",
            "Warning: Content for non-MH entry Finance & Economics/stock market trends for Q3 (normal) entry 4 too short (289 chars). Retrying...\n",
            "Warning: Content for non-MH entry Finance & Economics/stock market trends for Q3 (normal) entry 4 too short (460 chars). Retrying...\n",
            "Warning: Content for non-MH entry Finance & Economics/stock market trends for Q3 (normal) entry 4 too short (386 chars). Retrying...\n",
            "Failed to generate non-MH content for Finance & Economics/stock market trends for Q3 (normal) entry 4 after 3 attempts.\n",
            "Warning: Content for non-MH entry Finance & Economics/stock market trends for Q3 (normal) entry 5 too short (353 chars). Retrying...\n",
            "Warning: Content for non-MH entry Finance & Economics/stock market trends for Q3 (normal) entry 5 too short (378 chars). Retrying...\n",
            "Warning: Content for non-MH entry Finance & Economics/stock market trends for Q3 (normal) entry 6 too short (432 chars). Retrying...\n",
            "Warning: Content for non-MH entry Finance & Economics/stock market trends for Q3 (normal) entry 6 too short (420 chars). Retrying...\n",
            "Warning: Content for non-MH entry Finance & Economics/stock market trends for Q3 (normal) entry 6 too short (293 chars). Retrying...\n",
            "Failed to generate non-MH content for Finance & Economics/stock market trends for Q3 (normal) entry 6 after 3 attempts.\n"
          ]
        },
        {
          "output_type": "stream",
          "name": "stderr",
          "text": [
            "Generating regular non-MH 'Finance & Economics' entries:  33%|███▎      | 3/9 [01:39<03:16, 32.71s/it]"
          ]
        },
        {
          "output_type": "stream",
          "name": "stdout",
          "text": [
            "Warning: Content for non-MH entry Finance & Economics/real estate investment tips (normal) entry 2 too short (375 chars). Retrying...\n"
          ]
        },
        {
          "output_type": "stream",
          "name": "stderr",
          "text": [
            "Generating regular non-MH 'Finance & Economics' entries:  56%|█████▌    | 5/9 [02:29<01:52, 28.21s/it]WARNING:tornado.access:429 POST /v1beta/models/gemini-2.0-flash:generateContent?%24alt=json%3Benum-encoding%3Dint (127.0.0.1) 608.18ms\n"
          ]
        },
        {
          "output_type": "stream",
          "name": "stdout",
          "text": [
            "Error generating non-MH content for Finance & Economics/global economic outlook (normal) entry 1 (Attempt 1/3): 429 POST https://generativelanguage.googleapis.com/v1beta/models/gemini-2.0-flash:generateContent?%24alt=json%3Benum-encoding%3Dint: You exceeded your current quota, please check your plan and billing details. For more information on this error, head to: https://ai.google.dev/gemini-api/docs/rate-limits.\n"
          ]
        },
        {
          "output_type": "stream",
          "name": "stderr",
          "text": [
            "WARNING:tornado.access:429 POST /v1beta/models/gemini-2.0-flash:generateContent?%24alt=json%3Benum-encoding%3Dint (127.0.0.1) 634.75ms\n"
          ]
        },
        {
          "output_type": "stream",
          "name": "stdout",
          "text": [
            "Error generating non-MH content for Finance & Economics/global economic outlook (normal) entry 1 (Attempt 2/3): 429 POST https://generativelanguage.googleapis.com/v1beta/models/gemini-2.0-flash:generateContent?%24alt=json%3Benum-encoding%3Dint: You exceeded your current quota, please check your plan and billing details. For more information on this error, head to: https://ai.google.dev/gemini-api/docs/rate-limits.\n"
          ]
        },
        {
          "output_type": "stream",
          "name": "stderr",
          "text": [
            "Generating regular non-MH 'Finance & Economics' entries:  78%|███████▊  | 7/9 [03:16<00:50, 25.21s/it]WARNING:tornado.access:429 POST /v1beta/models/gemini-2.0-flash:generateContent?%24alt=json%3Benum-encoding%3Dint (127.0.0.1) 734.31ms\n"
          ]
        },
        {
          "output_type": "stream",
          "name": "stdout",
          "text": [
            "Error generating non-MH content for Finance & Economics/managing student debt (normal) entry 3 (Attempt 1/3): 429 POST https://generativelanguage.googleapis.com/v1beta/models/gemini-2.0-flash:generateContent?%24alt=json%3Benum-encoding%3Dint: You exceeded your current quota, please check your plan and billing details. For more information on this error, head to: https://ai.google.dev/gemini-api/docs/rate-limits.\n"
          ]
        },
        {
          "output_type": "stream",
          "name": "stderr",
          "text": [
            "WARNING:tornado.access:429 POST /v1beta/models/gemini-2.0-flash:generateContent?%24alt=json%3Benum-encoding%3Dint (127.0.0.1) 734.95ms\n"
          ]
        },
        {
          "output_type": "stream",
          "name": "stdout",
          "text": [
            "Error generating non-MH content for Finance & Economics/managing student debt (normal) entry 3 (Attempt 2/3): 429 POST https://generativelanguage.googleapis.com/v1beta/models/gemini-2.0-flash:generateContent?%24alt=json%3Benum-encoding%3Dint: You exceeded your current quota, please check your plan and billing details. For more information on this error, head to: https://ai.google.dev/gemini-api/docs/rate-limits.\n"
          ]
        },
        {
          "output_type": "stream",
          "name": "stderr",
          "text": [
            "WARNING:tornado.access:429 POST /v1beta/models/gemini-2.0-flash:generateContent?%24alt=json%3Benum-encoding%3Dint (127.0.0.1) 608.37ms\n"
          ]
        },
        {
          "output_type": "stream",
          "name": "stdout",
          "text": [
            "Error generating non-MH content for Finance & Economics/managing student debt (normal) entry 3 (Attempt 3/3): 429 POST https://generativelanguage.googleapis.com/v1beta/models/gemini-2.0-flash:generateContent?%24alt=json%3Benum-encoding%3Dint: You exceeded your current quota, please check your plan and billing details. For more information on this error, head to: https://ai.google.dev/gemini-api/docs/rate-limits.\n",
            "Failed to generate non-MH content for Finance & Economics/managing student debt (normal) entry 3 after 3 attempts.\n"
          ]
        },
        {
          "output_type": "stream",
          "name": "stderr",
          "text": [
            "Generating regular non-MH 'Finance & Economics' entries: 100%|██████████| 9/9 [04:07<00:00, 27.50s/it]\n",
            "Generating regular non-MH 'Science & Nature (non-medical)' entries:   0%|          | 0/9 [00:00<?, ?it/s]WARNING:tornado.access:429 POST /v1beta/models/gemini-2.0-flash:generateContent?%24alt=json%3Benum-encoding%3Dint (127.0.0.1) 609.49ms\n"
          ]
        },
        {
          "output_type": "stream",
          "name": "stdout",
          "text": [
            "Error generating non-MH content for Science & Nature (non-medical)/discoveries in astrophysics (normal) entry 6 (Attempt 1/3): 429 POST https://generativelanguage.googleapis.com/v1beta/models/gemini-2.0-flash:generateContent?%24alt=json%3Benum-encoding%3Dint: You exceeded your current quota, please check your plan and billing details. For more information on this error, head to: https://ai.google.dev/gemini-api/docs/rate-limits.\n"
          ]
        },
        {
          "output_type": "stream",
          "name": "stderr",
          "text": [
            "WARNING:tornado.access:429 POST /v1beta/models/gemini-2.0-flash:generateContent?%24alt=json%3Benum-encoding%3Dint (127.0.0.1) 633.65ms\n"
          ]
        },
        {
          "output_type": "stream",
          "name": "stdout",
          "text": [
            "Error generating non-MH content for Science & Nature (non-medical)/discoveries in astrophysics (normal) entry 6 (Attempt 2/3): 429 POST https://generativelanguage.googleapis.com/v1beta/models/gemini-2.0-flash:generateContent?%24alt=json%3Benum-encoding%3Dint: You exceeded your current quota, please check your plan and billing details. For more information on this error, head to: https://ai.google.dev/gemini-api/docs/rate-limits.\n"
          ]
        },
        {
          "output_type": "stream",
          "name": "stderr",
          "text": [
            "WARNING:tornado.access:429 POST /v1beta/models/gemini-2.0-flash:generateContent?%24alt=json%3Benum-encoding%3Dint (127.0.0.1) 633.08ms\n"
          ]
        },
        {
          "output_type": "stream",
          "name": "stdout",
          "text": [
            "Error generating non-MH content for Science & Nature (non-medical)/discoveries in astrophysics (normal) entry 6 (Attempt 3/3): 429 POST https://generativelanguage.googleapis.com/v1beta/models/gemini-2.0-flash:generateContent?%24alt=json%3Benum-encoding%3Dint: You exceeded your current quota, please check your plan and billing details. For more information on this error, head to: https://ai.google.dev/gemini-api/docs/rate-limits.\n",
            "Failed to generate non-MH content for Science & Nature (non-medical)/discoveries in astrophysics (normal) entry 6 after 3 attempts.\n"
          ]
        },
        {
          "output_type": "stream",
          "name": "stderr",
          "text": [
            "Generating regular non-MH 'Science & Nature (non-medical)' entries:  33%|███▎      | 3/9 [01:11<02:14, 22.42s/it]WARNING:tornado.access:429 POST /v1beta/models/gemini-2.0-flash:generateContent?%24alt=json%3Benum-encoding%3Dint (127.0.0.1) 683.67ms\n"
          ]
        },
        {
          "output_type": "stream",
          "name": "stdout",
          "text": [
            "Error generating non-MH content for Science & Nature (non-medical)/geology of volcanoes (normal) entry 2 (Attempt 1/3): 429 POST https://generativelanguage.googleapis.com/v1beta/models/gemini-2.0-flash:generateContent?%24alt=json%3Benum-encoding%3Dint: You exceeded your current quota, please check your plan and billing details. For more information on this error, head to: https://ai.google.dev/gemini-api/docs/rate-limits.\n"
          ]
        },
        {
          "output_type": "stream",
          "name": "stderr",
          "text": [
            "WARNING:tornado.access:429 POST /v1beta/models/gemini-2.0-flash:generateContent?%24alt=json%3Benum-encoding%3Dint (127.0.0.1) 633.19ms\n"
          ]
        },
        {
          "output_type": "stream",
          "name": "stdout",
          "text": [
            "Error generating non-MH content for Science & Nature (non-medical)/geology of volcanoes (normal) entry 2 (Attempt 2/3): 429 POST https://generativelanguage.googleapis.com/v1beta/models/gemini-2.0-flash:generateContent?%24alt=json%3Benum-encoding%3Dint: You exceeded your current quota, please check your plan and billing details. For more information on this error, head to: https://ai.google.dev/gemini-api/docs/rate-limits.\n"
          ]
        },
        {
          "output_type": "stream",
          "name": "stderr",
          "text": [
            "WARNING:tornado.access:429 POST /v1beta/models/gemini-2.0-flash:generateContent?%24alt=json%3Benum-encoding%3Dint (127.0.0.1) 6297.87ms\n"
          ]
        },
        {
          "output_type": "stream",
          "name": "stdout",
          "text": [
            "Error generating non-MH content for Science & Nature (non-medical)/geology of volcanoes (normal) entry 2 (Attempt 3/3): 429 POST https://generativelanguage.googleapis.com/v1beta/models/gemini-2.0-flash:generateContent?%24alt=json%3Benum-encoding%3Dint: You exceeded your current quota, please check your plan and billing details. For more information on this error, head to: https://ai.google.dev/gemini-api/docs/rate-limits.\n",
            "Failed to generate non-MH content for Science & Nature (non-medical)/geology of volcanoes (normal) entry 2 after 3 attempts.\n"
          ]
        },
        {
          "output_type": "stream",
          "name": "stderr",
          "text": [
            "\rGenerating regular non-MH 'Science & Nature (non-medical)' entries:  44%|████▍     | 4/9 [02:27<03:37, 43.49s/it]"
          ]
        },
        {
          "output_type": "stream",
          "name": "stdout",
          "text": [
            "Warning: Content for non-MH entry Science & Nature (non-medical)/robotics in manufacturing (normal) entry 6 too short (436 chars). Retrying...\n"
          ]
        },
        {
          "output_type": "stream",
          "name": "stderr",
          "text": [
            "Generating regular non-MH 'Science & Nature (non-medical)' entries:  67%|██████▋   | 6/9 [03:14<01:34, 31.45s/it]WARNING:tornado.access:429 POST /v1beta/models/gemini-2.0-flash:generateContent?%24alt=json%3Benum-encoding%3Dint (127.0.0.1) 633.61ms\n"
          ]
        },
        {
          "output_type": "stream",
          "name": "stdout",
          "text": [
            "Error generating non-MH content for Science & Nature (non-medical)/observing constellations (normal) entry 3 (Attempt 1/3): 429 POST https://generativelanguage.googleapis.com/v1beta/models/gemini-2.0-flash:generateContent?%24alt=json%3Benum-encoding%3Dint: You exceeded your current quota, please check your plan and billing details. For more information on this error, head to: https://ai.google.dev/gemini-api/docs/rate-limits.\n"
          ]
        },
        {
          "output_type": "stream",
          "name": "stderr",
          "text": [
            "WARNING:tornado.access:429 POST /v1beta/models/gemini-2.0-flash:generateContent?%24alt=json%3Benum-encoding%3Dint (127.0.0.1) 633.08ms\n"
          ]
        },
        {
          "output_type": "stream",
          "name": "stdout",
          "text": [
            "Error generating non-MH content for Science & Nature (non-medical)/observing constellations (normal) entry 3 (Attempt 2/3): 429 POST https://generativelanguage.googleapis.com/v1beta/models/gemini-2.0-flash:generateContent?%24alt=json%3Benum-encoding%3Dint: You exceeded your current quota, please check your plan and billing details. For more information on this error, head to: https://ai.google.dev/gemini-api/docs/rate-limits.\n"
          ]
        },
        {
          "output_type": "stream",
          "name": "stderr",
          "text": [
            "Generating regular non-MH 'Science & Nature (non-medical)' entries:  89%|████████▉ | 8/9 [04:03<00:27, 27.18s/it]"
          ]
        },
        {
          "output_type": "stream",
          "name": "stdout",
          "text": [
            "Warning: Content for non-MH entry Science & Nature (non-medical)/sustainable energy solutions (normal) entry 2 too short (460 chars). Retrying...\n"
          ]
        },
        {
          "output_type": "stream",
          "name": "stderr",
          "text": [
            "WARNING:tornado.access:429 POST /v1beta/models/gemini-2.0-flash:generateContent?%24alt=json%3Benum-encoding%3Dint (127.0.0.1) 608.81ms\n"
          ]
        },
        {
          "output_type": "stream",
          "name": "stdout",
          "text": [
            "Error generating non-MH content for Science & Nature (non-medical)/sustainable energy solutions (normal) entry 4 (Attempt 1/3): 429 POST https://generativelanguage.googleapis.com/v1beta/models/gemini-2.0-flash:generateContent?%24alt=json%3Benum-encoding%3Dint: You exceeded your current quota, please check your plan and billing details. For more information on this error, head to: https://ai.google.dev/gemini-api/docs/rate-limits.\n"
          ]
        },
        {
          "output_type": "stream",
          "name": "stderr",
          "text": [
            "WARNING:tornado.access:429 POST /v1beta/models/gemini-2.0-flash:generateContent?%24alt=json%3Benum-encoding%3Dint (127.0.0.1) 633.33ms\n"
          ]
        },
        {
          "output_type": "stream",
          "name": "stdout",
          "text": [
            "Error generating non-MH content for Science & Nature (non-medical)/sustainable energy solutions (normal) entry 4 (Attempt 2/3): 429 POST https://generativelanguage.googleapis.com/v1beta/models/gemini-2.0-flash:generateContent?%24alt=json%3Benum-encoding%3Dint: You exceeded your current quota, please check your plan and billing details. For more information on this error, head to: https://ai.google.dev/gemini-api/docs/rate-limits.\n"
          ]
        },
        {
          "output_type": "stream",
          "name": "stderr",
          "text": [
            "WARNING:tornado.access:429 POST /v1beta/models/gemini-2.0-flash:generateContent?%24alt=json%3Benum-encoding%3Dint (127.0.0.1) 3184.87ms\n"
          ]
        },
        {
          "output_type": "stream",
          "name": "stdout",
          "text": [
            "Error generating non-MH content for Science & Nature (non-medical)/sustainable energy solutions (normal) entry 4 (Attempt 3/3): 429 POST https://generativelanguage.googleapis.com/v1beta/models/gemini-2.0-flash:generateContent?%24alt=json%3Benum-encoding%3Dint: You exceeded your current quota, please check your plan and billing details. For more information on this error, head to: https://ai.google.dev/gemini-api/docs/rate-limits.\n",
            "Failed to generate non-MH content for Science & Nature (non-medical)/sustainable energy solutions (normal) entry 4 after 3 attempts.\n"
          ]
        },
        {
          "output_type": "stream",
          "name": "stderr",
          "text": [
            "Generating regular non-MH 'Science & Nature (non-medical)' entries: 100%|██████████| 9/9 [04:42<00:00, 31.41s/it]\n",
            "Generating regular non-MH 'History & Culture' entries:  11%|█         | 1/9 [00:18<02:27, 18.41s/it]WARNING:tornado.access:429 POST /v1beta/models/gemini-2.0-flash:generateContent?%24alt=json%3Benum-encoding%3Dint (127.0.0.1) 634.31ms\n"
          ]
        },
        {
          "output_type": "stream",
          "name": "stdout",
          "text": [
            "Error generating non-MH content for History & Culture/the Renaissance art movement (normal) entry 7 (Attempt 1/3): 429 POST https://generativelanguage.googleapis.com/v1beta/models/gemini-2.0-flash:generateContent?%24alt=json%3Benum-encoding%3Dint: You exceeded your current quota, please check your plan and billing details. For more information on this error, head to: https://ai.google.dev/gemini-api/docs/rate-limits.\n"
          ]
        },
        {
          "output_type": "stream",
          "name": "stderr",
          "text": [
            "WARNING:tornado.access:429 POST /v1beta/models/gemini-2.0-flash:generateContent?%24alt=json%3Benum-encoding%3Dint (127.0.0.1) 633.92ms\n"
          ]
        },
        {
          "output_type": "stream",
          "name": "stdout",
          "text": [
            "Error generating non-MH content for History & Culture/the Renaissance art movement (normal) entry 7 (Attempt 2/3): 429 POST https://generativelanguage.googleapis.com/v1beta/models/gemini-2.0-flash:generateContent?%24alt=json%3Benum-encoding%3Dint: You exceeded your current quota, please check your plan and billing details. For more information on this error, head to: https://ai.google.dev/gemini-api/docs/rate-limits.\n"
          ]
        },
        {
          "output_type": "stream",
          "name": "stderr",
          "text": [
            "WARNING:tornado.access:429 POST /v1beta/models/gemini-2.0-flash:generateContent?%24alt=json%3Benum-encoding%3Dint (127.0.0.1) 659.34ms\n"
          ]
        },
        {
          "output_type": "stream",
          "name": "stdout",
          "text": [
            "Error generating non-MH content for History & Culture/the Renaissance art movement (normal) entry 7 (Attempt 3/3): 429 POST https://generativelanguage.googleapis.com/v1beta/models/gemini-2.0-flash:generateContent?%24alt=json%3Benum-encoding%3Dint: You exceeded your current quota, please check your plan and billing details. For more information on this error, head to: https://ai.google.dev/gemini-api/docs/rate-limits.\n",
            "Failed to generate non-MH content for History & Culture/the Renaissance art movement (normal) entry 7 after 3 attempts.\n"
          ]
        },
        {
          "output_type": "stream",
          "name": "stderr",
          "text": [
            "Generating regular non-MH 'History & Culture' entries:  44%|████▍     | 4/9 [01:32<01:52, 22.56s/it]WARNING:tornado.access:429 POST /v1beta/models/gemini-2.0-flash:generateContent?%24alt=json%3Benum-encoding%3Dint (127.0.0.1) 633.17ms\n"
          ]
        },
        {
          "output_type": "stream",
          "name": "stdout",
          "text": [
            "Error generating non-MH content for History & Culture/famous literary figures (normal) entry 3 (Attempt 1/3): 429 POST https://generativelanguage.googleapis.com/v1beta/models/gemini-2.0-flash:generateContent?%24alt=json%3Benum-encoding%3Dint: You exceeded your current quota, please check your plan and billing details. For more information on this error, head to: https://ai.google.dev/gemini-api/docs/rate-limits.\n"
          ]
        },
        {
          "output_type": "stream",
          "name": "stderr",
          "text": [
            "WARNING:tornado.access:429 POST /v1beta/models/gemini-2.0-flash:generateContent?%24alt=json%3Benum-encoding%3Dint (127.0.0.1) 635.20ms\n"
          ]
        },
        {
          "output_type": "stream",
          "name": "stdout",
          "text": [
            "Error generating non-MH content for History & Culture/famous literary figures (normal) entry 3 (Attempt 2/3): 429 POST https://generativelanguage.googleapis.com/v1beta/models/gemini-2.0-flash:generateContent?%24alt=json%3Benum-encoding%3Dint: You exceeded your current quota, please check your plan and billing details. For more information on this error, head to: https://ai.google.dev/gemini-api/docs/rate-limits.\n"
          ]
        },
        {
          "output_type": "stream",
          "name": "stderr",
          "text": [
            "Generating regular non-MH 'History & Culture' entries:  67%|██████▋   | 6/9 [02:25<01:13, 24.41s/it]WARNING:tornado.access:429 POST /v1beta/models/gemini-2.0-flash:generateContent?%24alt=json%3Benum-encoding%3Dint (127.0.0.1) 864.37ms\n"
          ]
        },
        {
          "output_type": "stream",
          "name": "stdout",
          "text": [
            "Error generating non-MH content for History & Culture/exploring indigenous cultures (normal) entry 5 (Attempt 1/3): 429 POST https://generativelanguage.googleapis.com/v1beta/models/gemini-2.0-flash:generateContent?%24alt=json%3Benum-encoding%3Dint: You exceeded your current quota, please check your plan and billing details. For more information on this error, head to: https://ai.google.dev/gemini-api/docs/rate-limits.\n"
          ]
        },
        {
          "output_type": "stream",
          "name": "stderr",
          "text": [
            "WARNING:tornado.access:429 POST /v1beta/models/gemini-2.0-flash:generateContent?%24alt=json%3Benum-encoding%3Dint (127.0.0.1) 1139.74ms\n"
          ]
        },
        {
          "output_type": "stream",
          "name": "stdout",
          "text": [
            "Error generating non-MH content for History & Culture/exploring indigenous cultures (normal) entry 5 (Attempt 2/3): 429 POST https://generativelanguage.googleapis.com/v1beta/models/gemini-2.0-flash:generateContent?%24alt=json%3Benum-encoding%3Dint: You exceeded your current quota, please check your plan and billing details. For more information on this error, head to: https://ai.google.dev/gemini-api/docs/rate-limits.\n"
          ]
        },
        {
          "output_type": "stream",
          "name": "stderr",
          "text": [
            "Generating regular non-MH 'History & Culture' entries:  89%|████████▉ | 8/9 [03:21<00:25, 25.65s/it]WARNING:tornado.access:429 POST /v1beta/models/gemini-2.0-flash:generateContent?%24alt=json%3Benum-encoding%3Dint (127.0.0.1) 633.60ms\n"
          ]
        },
        {
          "output_type": "stream",
          "name": "stdout",
          "text": [
            "Error generating non-MH content for History & Culture/cultural festivals worldwide (normal) entry 7 (Attempt 1/3): 429 POST https://generativelanguage.googleapis.com/v1beta/models/gemini-2.0-flash:generateContent?%24alt=json%3Benum-encoding%3Dint: You exceeded your current quota, please check your plan and billing details. For more information on this error, head to: https://ai.google.dev/gemini-api/docs/rate-limits.\n"
          ]
        },
        {
          "output_type": "stream",
          "name": "stderr",
          "text": [
            "WARNING:tornado.access:429 POST /v1beta/models/gemini-2.0-flash:generateContent?%24alt=json%3Benum-encoding%3Dint (127.0.0.1) 608.11ms\n"
          ]
        },
        {
          "output_type": "stream",
          "name": "stdout",
          "text": [
            "Error generating non-MH content for History & Culture/cultural festivals worldwide (normal) entry 7 (Attempt 2/3): 429 POST https://generativelanguage.googleapis.com/v1beta/models/gemini-2.0-flash:generateContent?%24alt=json%3Benum-encoding%3Dint: You exceeded your current quota, please check your plan and billing details. For more information on this error, head to: https://ai.google.dev/gemini-api/docs/rate-limits.\n"
          ]
        },
        {
          "output_type": "stream",
          "name": "stderr",
          "text": [
            "Generating regular non-MH 'History & Culture' entries: 100%|██████████| 9/9 [03:51<00:00, 25.77s/it]\n",
            "Generating regular non-MH 'Everyday Life (neutral)' entries:   0%|          | 0/9 [00:00<?, ?it/s]"
          ]
        },
        {
          "output_type": "stream",
          "name": "stdout",
          "text": [
            "Warning: Content for non-MH entry Everyday Life (neutral)/tips for organizing your workspace (normal) entry 2 too short (476 chars). Retrying...\n",
            "Warning: Content for non-MH entry Everyday Life (neutral)/tips for organizing your workspace (normal) entry 7 too short (468 chars). Retrying...\n",
            "Warning: Content for non-MH entry Everyday Life (neutral)/tips for organizing your workspace (normal) entry 7 too short (467 chars). Retrying...\n",
            "Warning: Content for non-MH entry Everyday Life (neutral)/tips for organizing your workspace (normal) entry 7 too short (448 chars). Retrying...\n",
            "Failed to generate non-MH content for Everyday Life (neutral)/tips for organizing your workspace (normal) entry 7 after 3 attempts.\n"
          ]
        },
        {
          "output_type": "stream",
          "name": "stderr",
          "text": [
            "\rGenerating regular non-MH 'Everyday Life (neutral)' entries:  11%|█         | 1/9 [00:30<04:06, 30.80s/it]WARNING:tornado.access:429 POST /v1beta/models/gemini-2.0-flash:generateContent?%24alt=json%3Benum-encoding%3Dint (127.0.0.1) 633.27ms\n"
          ]
        },
        {
          "output_type": "stream",
          "name": "stdout",
          "text": [
            "Error generating non-MH content for Everyday Life (neutral)/how to choose the right pet (normal) entry 6 (Attempt 1/3): 429 POST https://generativelanguage.googleapis.com/v1beta/models/gemini-2.0-flash:generateContent?%24alt=json%3Benum-encoding%3Dint: You exceeded your current quota, please check your plan and billing details. For more information on this error, head to: https://ai.google.dev/gemini-api/docs/rate-limits.\n"
          ]
        },
        {
          "output_type": "stream",
          "name": "stderr",
          "text": [
            "WARNING:tornado.access:429 POST /v1beta/models/gemini-2.0-flash:generateContent?%24alt=json%3Benum-encoding%3Dint (127.0.0.1) 634.45ms\n"
          ]
        },
        {
          "output_type": "stream",
          "name": "stdout",
          "text": [
            "Error generating non-MH content for Everyday Life (neutral)/how to choose the right pet (normal) entry 6 (Attempt 2/3): 429 POST https://generativelanguage.googleapis.com/v1beta/models/gemini-2.0-flash:generateContent?%24alt=json%3Benum-encoding%3Dint: You exceeded your current quota, please check your plan and billing details. For more information on this error, head to: https://ai.google.dev/gemini-api/docs/rate-limits.\n"
          ]
        },
        {
          "output_type": "stream",
          "name": "stderr",
          "text": [
            "\rGenerating regular non-MH 'Everyday Life (neutral)' entries:  22%|██▏       | 2/9 [01:00<03:30, 30.10s/it]"
          ]
        },
        {
          "output_type": "stream",
          "name": "stdout",
          "text": [
            "Warning: Content for non-MH entry Everyday Life (neutral)/planning a successful road trip (normal) entry 1 too short (473 chars). Retrying...\n",
            "Warning: Content for non-MH entry Everyday Life (neutral)/planning a successful road trip (normal) entry 3 too short (490 chars). Retrying...\n"
          ]
        },
        {
          "output_type": "stream",
          "name": "stderr",
          "text": [
            "\rGenerating regular non-MH 'Everyday Life (neutral)' entries:  33%|███▎      | 3/9 [01:24<02:43, 27.26s/it]WARNING:tornado.access:429 POST /v1beta/models/gemini-2.0-flash:generateContent?%24alt=json%3Benum-encoding%3Dint (127.0.0.1) 634.53ms\n"
          ]
        },
        {
          "output_type": "stream",
          "name": "stdout",
          "text": [
            "Error generating non-MH content for Everyday Life (neutral)/daily commute challenges (normal) entry 6 (Attempt 1/3): 429 POST https://generativelanguage.googleapis.com/v1beta/models/gemini-2.0-flash:generateContent?%24alt=json%3Benum-encoding%3Dint: You exceeded your current quota, please check your plan and billing details. For more information on this error, head to: https://ai.google.dev/gemini-api/docs/rate-limits.\n"
          ]
        },
        {
          "output_type": "stream",
          "name": "stderr",
          "text": [
            "WARNING:tornado.access:429 POST /v1beta/models/gemini-2.0-flash:generateContent?%24alt=json%3Benum-encoding%3Dint (127.0.0.1) 632.99ms\n"
          ]
        },
        {
          "output_type": "stream",
          "name": "stdout",
          "text": [
            "Error generating non-MH content for Everyday Life (neutral)/daily commute challenges (normal) entry 6 (Attempt 2/3): 429 POST https://generativelanguage.googleapis.com/v1beta/models/gemini-2.0-flash:generateContent?%24alt=json%3Benum-encoding%3Dint: You exceeded your current quota, please check your plan and billing details. For more information on this error, head to: https://ai.google.dev/gemini-api/docs/rate-limits.\n"
          ]
        },
        {
          "output_type": "stream",
          "name": "stderr",
          "text": [
            "WARNING:tornado.access:429 POST /v1beta/models/gemini-2.0-flash:generateContent?%24alt=json%3Benum-encoding%3Dint (127.0.0.1) 659.25ms\n"
          ]
        },
        {
          "output_type": "stream",
          "name": "stdout",
          "text": [
            "Error generating non-MH content for Everyday Life (neutral)/daily commute challenges (normal) entry 6 (Attempt 3/3): 429 POST https://generativelanguage.googleapis.com/v1beta/models/gemini-2.0-flash:generateContent?%24alt=json%3Benum-encoding%3Dint: You exceeded your current quota, please check your plan and billing details. For more information on this error, head to: https://ai.google.dev/gemini-api/docs/rate-limits.\n",
            "Failed to generate non-MH content for Everyday Life (neutral)/daily commute challenges (normal) entry 6 after 3 attempts.\n"
          ]
        },
        {
          "output_type": "stream",
          "name": "stderr",
          "text": [
            "WARNING:tornado.access:429 POST /v1beta/models/gemini-2.0-flash:generateContent?%24alt=json%3Benum-encoding%3Dint (127.0.0.1) 633.42ms\n"
          ]
        },
        {
          "output_type": "stream",
          "name": "stdout",
          "text": [
            "Error generating non-MH content for Everyday Life (neutral)/daily commute challenges (normal) entry 7 (Attempt 1/3): 429 POST https://generativelanguage.googleapis.com/v1beta/models/gemini-2.0-flash:generateContent?%24alt=json%3Benum-encoding%3Dint: You exceeded your current quota, please check your plan and billing details. For more information on this error, head to: https://ai.google.dev/gemini-api/docs/rate-limits.\n"
          ]
        },
        {
          "output_type": "stream",
          "name": "stderr",
          "text": [
            "Generating regular non-MH 'Everyday Life (neutral)' entries:  67%|██████▋   | 6/9 [02:37<01:09, 23.28s/it]WARNING:tornado.access:429 POST /v1beta/models/gemini-2.0-flash:generateContent?%24alt=json%3Benum-encoding%3Dint (127.0.0.1) 633.41ms\n"
          ]
        },
        {
          "output_type": "stream",
          "name": "stdout",
          "text": [
            "Error generating non-MH content for Everyday Life (neutral)/a day in the life of a city dweller (normal) entry 2 (Attempt 1/3): 429 POST https://generativelanguage.googleapis.com/v1beta/models/gemini-2.0-flash:generateContent?%24alt=json%3Benum-encoding%3Dint: You exceeded your current quota, please check your plan and billing details. For more information on this error, head to: https://ai.google.dev/gemini-api/docs/rate-limits.\n"
          ]
        },
        {
          "output_type": "stream",
          "name": "stderr",
          "text": [
            "WARNING:tornado.access:429 POST /v1beta/models/gemini-2.0-flash:generateContent?%24alt=json%3Benum-encoding%3Dint (127.0.0.1) 658.97ms\n"
          ]
        },
        {
          "output_type": "stream",
          "name": "stdout",
          "text": [
            "Error generating non-MH content for Everyday Life (neutral)/a day in the life of a city dweller (normal) entry 2 (Attempt 2/3): 429 POST https://generativelanguage.googleapis.com/v1beta/models/gemini-2.0-flash:generateContent?%24alt=json%3Benum-encoding%3Dint: You exceeded your current quota, please check your plan and billing details. For more information on this error, head to: https://ai.google.dev/gemini-api/docs/rate-limits.\n"
          ]
        },
        {
          "output_type": "stream",
          "name": "stderr",
          "text": [
            "WARNING:tornado.access:429 POST /v1beta/models/gemini-2.0-flash:generateContent?%24alt=json%3Benum-encoding%3Dint (127.0.0.1) 633.80ms\n"
          ]
        },
        {
          "output_type": "stream",
          "name": "stdout",
          "text": [
            "Error generating non-MH content for Everyday Life (neutral)/a day in the life of a city dweller (normal) entry 2 (Attempt 3/3): 429 POST https://generativelanguage.googleapis.com/v1beta/models/gemini-2.0-flash:generateContent?%24alt=json%3Benum-encoding%3Dint: You exceeded your current quota, please check your plan and billing details. For more information on this error, head to: https://ai.google.dev/gemini-api/docs/rate-limits.\n",
            "Failed to generate non-MH content for Everyday Life (neutral)/a day in the life of a city dweller (normal) entry 2 after 3 attempts.\n"
          ]
        },
        {
          "output_type": "stream",
          "name": "stderr",
          "text": [
            "Generating regular non-MH 'Everyday Life (neutral)' entries:  89%|████████▉ | 8/9 [03:33<00:24, 24.91s/it]WARNING:tornado.access:429 POST /v1beta/models/gemini-2.0-flash:generateContent?%24alt=json%3Benum-encoding%3Dint (127.0.0.1) 835.93ms\n"
          ]
        },
        {
          "output_type": "stream",
          "name": "stdout",
          "text": [
            "Error generating non-MH content for Everyday Life (neutral)/understanding local zoning laws (normal) entry 5 (Attempt 1/3): 429 POST https://generativelanguage.googleapis.com/v1beta/models/gemini-2.0-flash:generateContent?%24alt=json%3Benum-encoding%3Dint: You exceeded your current quota, please check your plan and billing details. For more information on this error, head to: https://ai.google.dev/gemini-api/docs/rate-limits.\n"
          ]
        },
        {
          "output_type": "stream",
          "name": "stderr",
          "text": [
            "WARNING:tornado.access:429 POST /v1beta/models/gemini-2.0-flash:generateContent?%24alt=json%3Benum-encoding%3Dint (127.0.0.1) 1645.21ms\n"
          ]
        },
        {
          "output_type": "stream",
          "name": "stdout",
          "text": [
            "Error generating non-MH content for Everyday Life (neutral)/understanding local zoning laws (normal) entry 5 (Attempt 2/3): 429 POST https://generativelanguage.googleapis.com/v1beta/models/gemini-2.0-flash:generateContent?%24alt=json%3Benum-encoding%3Dint: You exceeded your current quota, please check your plan and billing details. For more information on this error, head to: https://ai.google.dev/gemini-api/docs/rate-limits.\n"
          ]
        },
        {
          "output_type": "stream",
          "name": "stderr",
          "text": [
            "Generating regular non-MH 'Everyday Life (neutral)' entries: 100%|██████████| 9/9 [04:07<00:00, 27.56s/it]\n",
            "Generating 'confusing' non-MH entries:   0%|          | 0/10 [00:00<?, ?it/s]"
          ]
        },
        {
          "output_type": "stream",
          "name": "stdout",
          "text": [
            "Warning: Content for non-MH entry Travel/Write a short travel blog post about an 'emotional trip' through a historical city, focusing on the historical impact and personal awe, not psychological states. The emotions should be awe, wonder, fascination, not sadness or anxiety. (confusing) entry 1 too short (400 chars). Retrying...\n",
            "Warning: Content for non-MH entry Travel/Write a short travel blog post about an 'emotional trip' through a historical city, focusing on the historical impact and personal awe, not psychological states. The emotions should be awe, wonder, fascination, not sadness or anxiety. (confusing) entry 3 too short (438 chars). Retrying...\n",
            "Warning: Content for non-MH entry Travel/Write a short travel blog post about an 'emotional trip' through a historical city, focusing on the historical impact and personal awe, not psychological states. The emotions should be awe, wonder, fascination, not sadness or anxiety. (confusing) entry 3 too short (352 chars). Retrying...\n",
            "Warning: Content for non-MH entry Travel/Write a short travel blog post about an 'emotional trip' through a historical city, focusing on the historical impact and personal awe, not psychological states. The emotions should be awe, wonder, fascination, not sadness or anxiety. (confusing) entry 3 too short (490 chars). Retrying...\n",
            "Failed to generate non-MH content for Travel/Write a short travel blog post about an 'emotional trip' through a historical city, focusing on the historical impact and personal awe, not psychological states. The emotions should be awe, wonder, fascination, not sadness or anxiety. (confusing) entry 3 after 3 attempts.\n",
            "Warning: Content for non-MH entry Travel/Write a short travel blog post about an 'emotional trip' through a historical city, focusing on the historical impact and personal awe, not psychological states. The emotions should be awe, wonder, fascination, not sadness or anxiety. (confusing) entry 4 too short (425 chars). Retrying...\n",
            "Warning: Content for non-MH entry Travel/Write a short travel blog post about an 'emotional trip' through a historical city, focusing on the historical impact and personal awe, not psychological states. The emotions should be awe, wonder, fascination, not sadness or anxiety. (confusing) entry 4 too short (475 chars). Retrying...\n",
            "Warning: Content for non-MH entry Travel/Write a short travel blog post about an 'emotional trip' through a historical city, focusing on the historical impact and personal awe, not psychological states. The emotions should be awe, wonder, fascination, not sadness or anxiety. (confusing) entry 4 too short (366 chars). Retrying...\n",
            "Failed to generate non-MH content for Travel/Write a short travel blog post about an 'emotional trip' through a historical city, focusing on the historical impact and personal awe, not psychological states. The emotions should be awe, wonder, fascination, not sadness or anxiety. (confusing) entry 4 after 3 attempts.\n",
            "Warning: Content for non-MH entry Travel/Write a short travel blog post about an 'emotional trip' through a historical city, focusing on the historical impact and personal awe, not psychological states. The emotions should be awe, wonder, fascination, not sadness or anxiety. (confusing) entry 5 too short (446 chars). Retrying...\n",
            "Warning: Content for non-MH entry Travel/Write a short travel blog post about an 'emotional trip' through a historical city, focusing on the historical impact and personal awe, not psychological states. The emotions should be awe, wonder, fascination, not sadness or anxiety. (confusing) entry 6 too short (465 chars). Retrying...\n",
            "Warning: Content for non-MH entry Travel/Write a short travel blog post about an 'emotional trip' through a historical city, focusing on the historical impact and personal awe, not psychological states. The emotions should be awe, wonder, fascination, not sadness or anxiety. (confusing) entry 6 too short (489 chars). Retrying...\n"
          ]
        },
        {
          "output_type": "stream",
          "name": "stderr",
          "text": [
            "WARNING:tornado.access:429 POST /v1beta/models/gemini-2.0-flash:generateContent?%24alt=json%3Benum-encoding%3Dint (127.0.0.1) 608.95ms\n"
          ]
        },
        {
          "output_type": "stream",
          "name": "stdout",
          "text": [
            "Error generating non-MH content for Travel/Write a short travel blog post about an 'emotional trip' through a historical city, focusing on the historical impact and personal awe, not psychological states. The emotions should be awe, wonder, fascination, not sadness or anxiety. (confusing) entry 6 (Attempt 3/3): 429 POST https://generativelanguage.googleapis.com/v1beta/models/gemini-2.0-flash:generateContent?%24alt=json%3Benum-encoding%3Dint: You exceeded your current quota, please check your plan and billing details. For more information on this error, head to: https://ai.google.dev/gemini-api/docs/rate-limits.\n",
            "Failed to generate non-MH content for Travel/Write a short travel blog post about an 'emotional trip' through a historical city, focusing on the historical impact and personal awe, not psychological states. The emotions should be awe, wonder, fascination, not sadness or anxiety. (confusing) entry 6 after 3 attempts.\n",
            "Warning: Content for non-MH entry Travel/Write a short travel blog post about an 'emotional trip' through a historical city, focusing on the historical impact and personal awe, not psychological states. The emotions should be awe, wonder, fascination, not sadness or anxiety. (confusing) entry 8 too short (485 chars). Retrying...\n",
            "Warning: Content for non-MH entry Travel/Write a short travel blog post about an 'emotional trip' through a historical city, focusing on the historical impact and personal awe, not psychological states. The emotions should be awe, wonder, fascination, not sadness or anxiety. (confusing) entry 10 too short (465 chars). Retrying...\n",
            "Warning: Content for non-MH entry Travel/Write a short travel blog post about an 'emotional trip' through a historical city, focusing on the historical impact and personal awe, not psychological states. The emotions should be awe, wonder, fascination, not sadness or anxiety. (confusing) entry 10 too short (401 chars). Retrying...\n",
            "Warning: Content for non-MH entry Travel/Write a short travel blog post about an 'emotional trip' through a historical city, focusing on the historical impact and personal awe, not psychological states. The emotions should be awe, wonder, fascination, not sadness or anxiety. (confusing) entry 10 too short (441 chars). Retrying...\n",
            "Failed to generate non-MH content for Travel/Write a short travel blog post about an 'emotional trip' through a historical city, focusing on the historical impact and personal awe, not psychological states. The emotions should be awe, wonder, fascination, not sadness or anxiety. (confusing) entry 10 after 3 attempts.\n",
            "Warning: Content for non-MH entry Travel/Write a short travel blog post about an 'emotional trip' through a historical city, focusing on the historical impact and personal awe, not psychological states. The emotions should be awe, wonder, fascination, not sadness or anxiety. (confusing) entry 11 too short (432 chars). Retrying...\n",
            "Warning: Content for non-MH entry Travel/Write a short travel blog post about an 'emotional trip' through a historical city, focusing on the historical impact and personal awe, not psychological states. The emotions should be awe, wonder, fascination, not sadness or anxiety. (confusing) entry 11 too short (462 chars). Retrying...\n",
            "Warning: Content for non-MH entry Travel/Write a short travel blog post about an 'emotional trip' through a historical city, focusing on the historical impact and personal awe, not psychological states. The emotions should be awe, wonder, fascination, not sadness or anxiety. (confusing) entry 13 too short (435 chars). Retrying...\n",
            "Warning: Content for non-MH entry Travel/Write a short travel blog post about an 'emotional trip' through a historical city, focusing on the historical impact and personal awe, not psychological states. The emotions should be awe, wonder, fascination, not sadness or anxiety. (confusing) entry 13 too short (437 chars). Retrying...\n",
            "Warning: Content for non-MH entry Travel/Write a short travel blog post about an 'emotional trip' through a historical city, focusing on the historical impact and personal awe, not psychological states. The emotions should be awe, wonder, fascination, not sadness or anxiety. (confusing) entry 13 too short (499 chars). Retrying...\n",
            "Failed to generate non-MH content for Travel/Write a short travel blog post about an 'emotional trip' through a historical city, focusing on the historical impact and personal awe, not psychological states. The emotions should be awe, wonder, fascination, not sadness or anxiety. (confusing) entry 13 after 3 attempts.\n",
            "Warning: Content for non-MH entry Travel/Write a short travel blog post about an 'emotional trip' through a historical city, focusing on the historical impact and personal awe, not psychological states. The emotions should be awe, wonder, fascination, not sadness or anxiety. (confusing) entry 14 too short (398 chars). Retrying...\n",
            "Warning: Content for non-MH entry Travel/Write a short travel blog post about an 'emotional trip' through a historical city, focusing on the historical impact and personal awe, not psychological states. The emotions should be awe, wonder, fascination, not sadness or anxiety. (confusing) entry 14 too short (459 chars). Retrying...\n"
          ]
        },
        {
          "output_type": "stream",
          "name": "stderr",
          "text": [
            "WARNING:tornado.access:429 POST /v1beta/models/gemini-2.0-flash:generateContent?%24alt=json%3Benum-encoding%3Dint (127.0.0.1) 633.36ms\n"
          ]
        },
        {
          "output_type": "stream",
          "name": "stdout",
          "text": [
            "Error generating non-MH content for Travel/Write a short travel blog post about an 'emotional trip' through a historical city, focusing on the historical impact and personal awe, not psychological states. The emotions should be awe, wonder, fascination, not sadness or anxiety. (confusing) entry 14 (Attempt 3/3): 429 POST https://generativelanguage.googleapis.com/v1beta/models/gemini-2.0-flash:generateContent?%24alt=json%3Benum-encoding%3Dint: You exceeded your current quota, please check your plan and billing details. For more information on this error, head to: https://ai.google.dev/gemini-api/docs/rate-limits.\n",
            "Failed to generate non-MH content for Travel/Write a short travel blog post about an 'emotional trip' through a historical city, focusing on the historical impact and personal awe, not psychological states. The emotions should be awe, wonder, fascination, not sadness or anxiety. (confusing) entry 14 after 3 attempts.\n",
            "Warning: Content for non-MH entry Travel/Write a short travel blog post about an 'emotional trip' through a historical city, focusing on the historical impact and personal awe, not psychological states. The emotions should be awe, wonder, fascination, not sadness or anxiety. (confusing) entry 15 too short (498 chars). Retrying...\n",
            "Warning: Content for non-MH entry Travel/Write a short travel blog post about an 'emotional trip' through a historical city, focusing on the historical impact and personal awe, not psychological states. The emotions should be awe, wonder, fascination, not sadness or anxiety. (confusing) entry 15 too short (437 chars). Retrying...\n",
            "Warning: Content for non-MH entry Travel/Write a short travel blog post about an 'emotional trip' through a historical city, focusing on the historical impact and personal awe, not psychological states. The emotions should be awe, wonder, fascination, not sadness or anxiety. (confusing) entry 15 too short (395 chars). Retrying...\n",
            "Failed to generate non-MH content for Travel/Write a short travel blog post about an 'emotional trip' through a historical city, focusing on the historical impact and personal awe, not psychological states. The emotions should be awe, wonder, fascination, not sadness or anxiety. (confusing) entry 15 after 3 attempts.\n"
          ]
        },
        {
          "output_type": "stream",
          "name": "stderr",
          "text": [
            "\rGenerating 'confusing' non-MH entries:  10%|█         | 1/10 [02:00<18:05, 120.60s/it]"
          ]
        },
        {
          "output_type": "stream",
          "name": "stdout",
          "text": [
            "Warning: Content for non-MH entry Engineering/Describe a 'stress test' performed on a new bridge design. Focus on the structural integrity, engineering principles, and physical limits, not human stress. (confusing) entry 6 too short (427 chars). Retrying...\n",
            "Warning: Content for non-MH entry Engineering/Describe a 'stress test' performed on a new bridge design. Focus on the structural integrity, engineering principles, and physical limits, not human stress. (confusing) entry 6 too short (445 chars). Retrying...\n",
            "Warning: Content for non-MH entry Engineering/Describe a 'stress test' performed on a new bridge design. Focus on the structural integrity, engineering principles, and physical limits, not human stress. (confusing) entry 7 too short (467 chars). Retrying...\n"
          ]
        },
        {
          "output_type": "stream",
          "name": "stderr",
          "text": [
            "WARNING:tornado.access:429 POST /v1beta/models/gemini-2.0-flash:generateContent?%24alt=json%3Benum-encoding%3Dint (127.0.0.1) 633.52ms\n"
          ]
        },
        {
          "output_type": "stream",
          "name": "stdout",
          "text": [
            "Error generating non-MH content for Engineering/Describe a 'stress test' performed on a new bridge design. Focus on the structural integrity, engineering principles, and physical limits, not human stress. (confusing) entry 11 (Attempt 1/3): 429 POST https://generativelanguage.googleapis.com/v1beta/models/gemini-2.0-flash:generateContent?%24alt=json%3Benum-encoding%3Dint: You exceeded your current quota, please check your plan and billing details. For more information on this error, head to: https://ai.google.dev/gemini-api/docs/rate-limits.\n"
          ]
        },
        {
          "output_type": "stream",
          "name": "stderr",
          "text": [
            "WARNING:tornado.access:429 POST /v1beta/models/gemini-2.0-flash:generateContent?%24alt=json%3Benum-encoding%3Dint (127.0.0.1) 633.90ms\n"
          ]
        },
        {
          "output_type": "stream",
          "name": "stdout",
          "text": [
            "Error generating non-MH content for Engineering/Describe a 'stress test' performed on a new bridge design. Focus on the structural integrity, engineering principles, and physical limits, not human stress. (confusing) entry 11 (Attempt 2/3): 429 POST https://generativelanguage.googleapis.com/v1beta/models/gemini-2.0-flash:generateContent?%24alt=json%3Benum-encoding%3Dint: You exceeded your current quota, please check your plan and billing details. For more information on this error, head to: https://ai.google.dev/gemini-api/docs/rate-limits.\n"
          ]
        },
        {
          "output_type": "stream",
          "name": "stderr",
          "text": [
            "WARNING:tornado.access:429 POST /v1beta/models/gemini-2.0-flash:generateContent?%24alt=json%3Benum-encoding%3Dint (127.0.0.1) 633.21ms\n"
          ]
        },
        {
          "output_type": "stream",
          "name": "stdout",
          "text": [
            "Error generating non-MH content for Engineering/Describe a 'stress test' performed on a new bridge design. Focus on the structural integrity, engineering principles, and physical limits, not human stress. (confusing) entry 11 (Attempt 3/3): 429 POST https://generativelanguage.googleapis.com/v1beta/models/gemini-2.0-flash:generateContent?%24alt=json%3Benum-encoding%3Dint: You exceeded your current quota, please check your plan and billing details. For more information on this error, head to: https://ai.google.dev/gemini-api/docs/rate-limits.\n",
            "Failed to generate non-MH content for Engineering/Describe a 'stress test' performed on a new bridge design. Focus on the structural integrity, engineering principles, and physical limits, not human stress. (confusing) entry 11 after 3 attempts.\n",
            "Warning: Content for non-MH entry Engineering/Describe a 'stress test' performed on a new bridge design. Focus on the structural integrity, engineering principles, and physical limits, not human stress. (confusing) entry 14 too short (455 chars). Retrying...\n"
          ]
        },
        {
          "output_type": "stream",
          "name": "stderr",
          "text": [
            "\rGenerating 'confusing' non-MH entries:  20%|██        | 2/10 [03:02<11:29, 86.20s/it] "
          ]
        },
        {
          "output_type": "stream",
          "name": "stdout",
          "text": [
            "Warning: Content for non-MH entry Finance/Discuss a 'depressed economy' and its indicators. Explain economic terms like recession, inflation, and unemployment, without focusing on the psychological impact on individuals. (confusing) entry 2 too short (438 chars). Retrying...\n",
            "Warning: Content for non-MH entry Finance/Discuss a 'depressed economy' and its indicators. Explain economic terms like recession, inflation, and unemployment, without focusing on the psychological impact on individuals. (confusing) entry 4 too short (409 chars). Retrying...\n",
            "Warning: Content for non-MH entry Finance/Discuss a 'depressed economy' and its indicators. Explain economic terms like recession, inflation, and unemployment, without focusing on the psychological impact on individuals. (confusing) entry 4 too short (389 chars). Retrying...\n",
            "Warning: Content for non-MH entry Finance/Discuss a 'depressed economy' and its indicators. Explain economic terms like recession, inflation, and unemployment, without focusing on the psychological impact on individuals. (confusing) entry 4 too short (434 chars). Retrying...\n",
            "Failed to generate non-MH content for Finance/Discuss a 'depressed economy' and its indicators. Explain economic terms like recession, inflation, and unemployment, without focusing on the psychological impact on individuals. (confusing) entry 4 after 3 attempts.\n",
            "Warning: Content for non-MH entry Finance/Discuss a 'depressed economy' and its indicators. Explain economic terms like recession, inflation, and unemployment, without focusing on the psychological impact on individuals. (confusing) entry 5 too short (437 chars). Retrying...\n",
            "Warning: Content for non-MH entry Finance/Discuss a 'depressed economy' and its indicators. Explain economic terms like recession, inflation, and unemployment, without focusing on the psychological impact on individuals. (confusing) entry 5 too short (368 chars). Retrying...\n",
            "Warning: Content for non-MH entry Finance/Discuss a 'depressed economy' and its indicators. Explain economic terms like recession, inflation, and unemployment, without focusing on the psychological impact on individuals. (confusing) entry 5 too short (460 chars). Retrying...\n",
            "Failed to generate non-MH content for Finance/Discuss a 'depressed economy' and its indicators. Explain economic terms like recession, inflation, and unemployment, without focusing on the psychological impact on individuals. (confusing) entry 5 after 3 attempts.\n",
            "Warning: Content for non-MH entry Finance/Discuss a 'depressed economy' and its indicators. Explain economic terms like recession, inflation, and unemployment, without focusing on the psychological impact on individuals. (confusing) entry 6 too short (486 chars). Retrying...\n"
          ]
        },
        {
          "output_type": "stream",
          "name": "stderr",
          "text": [
            "WARNING:tornado.access:429 POST /v1beta/models/gemini-2.0-flash:generateContent?%24alt=json%3Benum-encoding%3Dint (127.0.0.1) 608.22ms\n"
          ]
        },
        {
          "output_type": "stream",
          "name": "stdout",
          "text": [
            "Error generating non-MH content for Finance/Discuss a 'depressed economy' and its indicators. Explain economic terms like recession, inflation, and unemployment, without focusing on the psychological impact on individuals. (confusing) entry 6 (Attempt 2/3): 429 POST https://generativelanguage.googleapis.com/v1beta/models/gemini-2.0-flash:generateContent?%24alt=json%3Benum-encoding%3Dint: You exceeded your current quota, please check your plan and billing details. For more information on this error, head to: https://ai.google.dev/gemini-api/docs/rate-limits.\n"
          ]
        },
        {
          "output_type": "stream",
          "name": "stderr",
          "text": [
            "WARNING:tornado.access:429 POST /v1beta/models/gemini-2.0-flash:generateContent?%24alt=json%3Benum-encoding%3Dint (127.0.0.1) 633.11ms\n"
          ]
        },
        {
          "output_type": "stream",
          "name": "stdout",
          "text": [
            "Error generating non-MH content for Finance/Discuss a 'depressed economy' and its indicators. Explain economic terms like recession, inflation, and unemployment, without focusing on the psychological impact on individuals. (confusing) entry 6 (Attempt 3/3): 429 POST https://generativelanguage.googleapis.com/v1beta/models/gemini-2.0-flash:generateContent?%24alt=json%3Benum-encoding%3Dint: You exceeded your current quota, please check your plan and billing details. For more information on this error, head to: https://ai.google.dev/gemini-api/docs/rate-limits.\n",
            "Failed to generate non-MH content for Finance/Discuss a 'depressed economy' and its indicators. Explain economic terms like recession, inflation, and unemployment, without focusing on the psychological impact on individuals. (confusing) entry 6 after 3 attempts.\n",
            "Warning: Content for non-MH entry Finance/Discuss a 'depressed economy' and its indicators. Explain economic terms like recession, inflation, and unemployment, without focusing on the psychological impact on individuals. (confusing) entry 8 too short (485 chars). Retrying...\n",
            "Warning: Content for non-MH entry Finance/Discuss a 'depressed economy' and its indicators. Explain economic terms like recession, inflation, and unemployment, without focusing on the psychological impact on individuals. (confusing) entry 8 too short (429 chars). Retrying...\n",
            "Warning: Content for non-MH entry Finance/Discuss a 'depressed economy' and its indicators. Explain economic terms like recession, inflation, and unemployment, without focusing on the psychological impact on individuals. (confusing) entry 9 too short (449 chars). Retrying...\n",
            "Warning: Content for non-MH entry Finance/Discuss a 'depressed economy' and its indicators. Explain economic terms like recession, inflation, and unemployment, without focusing on the psychological impact on individuals. (confusing) entry 11 too short (453 chars). Retrying...\n",
            "Warning: Content for non-MH entry Finance/Discuss a 'depressed economy' and its indicators. Explain economic terms like recession, inflation, and unemployment, without focusing on the psychological impact on individuals. (confusing) entry 11 too short (410 chars). Retrying...\n",
            "Warning: Content for non-MH entry Finance/Discuss a 'depressed economy' and its indicators. Explain economic terms like recession, inflation, and unemployment, without focusing on the psychological impact on individuals. (confusing) entry 13 too short (440 chars). Retrying...\n",
            "Warning: Content for non-MH entry Finance/Discuss a 'depressed economy' and its indicators. Explain economic terms like recession, inflation, and unemployment, without focusing on the psychological impact on individuals. (confusing) entry 13 too short (348 chars). Retrying...\n",
            "Warning: Content for non-MH entry Finance/Discuss a 'depressed economy' and its indicators. Explain economic terms like recession, inflation, and unemployment, without focusing on the psychological impact on individuals. (confusing) entry 13 too short (449 chars). Retrying...\n",
            "Failed to generate non-MH content for Finance/Discuss a 'depressed economy' and its indicators. Explain economic terms like recession, inflation, and unemployment, without focusing on the psychological impact on individuals. (confusing) entry 13 after 3 attempts.\n",
            "Warning: Content for non-MH entry Finance/Discuss a 'depressed economy' and its indicators. Explain economic terms like recession, inflation, and unemployment, without focusing on the psychological impact on individuals. (confusing) entry 14 too short (364 chars). Retrying...\n",
            "Warning: Content for non-MH entry Finance/Discuss a 'depressed economy' and its indicators. Explain economic terms like recession, inflation, and unemployment, without focusing on the psychological impact on individuals. (confusing) entry 14 too short (493 chars). Retrying...\n"
          ]
        },
        {
          "output_type": "stream",
          "name": "stderr",
          "text": [
            "WARNING:tornado.access:429 POST /v1beta/models/gemini-2.0-flash:generateContent?%24alt=json%3Benum-encoding%3Dint (127.0.0.1) 1392.45ms\n"
          ]
        },
        {
          "output_type": "stream",
          "name": "stdout",
          "text": [
            "Error generating non-MH content for Finance/Discuss a 'depressed economy' and its indicators. Explain economic terms like recession, inflation, and unemployment, without focusing on the psychological impact on individuals. (confusing) entry 14 (Attempt 3/3): 429 POST https://generativelanguage.googleapis.com/v1beta/models/gemini-2.0-flash:generateContent?%24alt=json%3Benum-encoding%3Dint: You exceeded your current quota, please check your plan and billing details. For more information on this error, head to: https://ai.google.dev/gemini-api/docs/rate-limits.\n",
            "Failed to generate non-MH content for Finance/Discuss a 'depressed economy' and its indicators. Explain economic terms like recession, inflation, and unemployment, without focusing on the psychological impact on individuals. (confusing) entry 14 after 3 attempts.\n",
            "Warning: Content for non-MH entry Finance/Discuss a 'depressed economy' and its indicators. Explain economic terms like recession, inflation, and unemployment, without focusing on the psychological impact on individuals. (confusing) entry 15 too short (492 chars). Retrying...\n",
            "Warning: Content for non-MH entry Finance/Discuss a 'depressed economy' and its indicators. Explain economic terms like recession, inflation, and unemployment, without focusing on the psychological impact on individuals. (confusing) entry 15 too short (324 chars). Retrying...\n",
            "Warning: Content for non-MH entry Finance/Discuss a 'depressed economy' and its indicators. Explain economic terms like recession, inflation, and unemployment, without focusing on the psychological impact on individuals. (confusing) entry 15 too short (443 chars). Retrying...\n",
            "Failed to generate non-MH content for Finance/Discuss a 'depressed economy' and its indicators. Explain economic terms like recession, inflation, and unemployment, without focusing on the psychological impact on individuals. (confusing) entry 15 after 3 attempts.\n"
          ]
        },
        {
          "output_type": "stream",
          "name": "stderr",
          "text": [
            "\rGenerating 'confusing' non-MH entries:  30%|███       | 3/10 [05:07<12:05, 103.59s/it]"
          ]
        },
        {
          "output_type": "stream",
          "name": "stdout",
          "text": [
            "Warning: Content for non-MH entry Sports/Detail the 'anxious wait' for the final results of a major sporting event. Describe the tension of the game, the scores, and the anticipation of fans, not clinical anxiety. (confusing) entry 1 too short (367 chars). Retrying...\n",
            "Warning: Content for non-MH entry Sports/Detail the 'anxious wait' for the final results of a major sporting event. Describe the tension of the game, the scores, and the anticipation of fans, not clinical anxiety. (confusing) entry 1 too short (373 chars). Retrying...\n",
            "Warning: Content for non-MH entry Sports/Detail the 'anxious wait' for the final results of a major sporting event. Describe the tension of the game, the scores, and the anticipation of fans, not clinical anxiety. (confusing) entry 1 too short (253 chars). Retrying...\n",
            "Failed to generate non-MH content for Sports/Detail the 'anxious wait' for the final results of a major sporting event. Describe the tension of the game, the scores, and the anticipation of fans, not clinical anxiety. (confusing) entry 1 after 3 attempts.\n",
            "Warning: Content for non-MH entry Sports/Detail the 'anxious wait' for the final results of a major sporting event. Describe the tension of the game, the scores, and the anticipation of fans, not clinical anxiety. (confusing) entry 2 too short (433 chars). Retrying...\n",
            "Warning: Content for non-MH entry Sports/Detail the 'anxious wait' for the final results of a major sporting event. Describe the tension of the game, the scores, and the anticipation of fans, not clinical anxiety. (confusing) entry 2 too short (395 chars). Retrying...\n",
            "Warning: Content for non-MH entry Sports/Detail the 'anxious wait' for the final results of a major sporting event. Describe the tension of the game, the scores, and the anticipation of fans, not clinical anxiety. (confusing) entry 2 too short (332 chars). Retrying...\n",
            "Failed to generate non-MH content for Sports/Detail the 'anxious wait' for the final results of a major sporting event. Describe the tension of the game, the scores, and the anticipation of fans, not clinical anxiety. (confusing) entry 2 after 3 attempts.\n",
            "Warning: Content for non-MH entry Sports/Detail the 'anxious wait' for the final results of a major sporting event. Describe the tension of the game, the scores, and the anticipation of fans, not clinical anxiety. (confusing) entry 3 too short (368 chars). Retrying...\n",
            "Warning: Content for non-MH entry Sports/Detail the 'anxious wait' for the final results of a major sporting event. Describe the tension of the game, the scores, and the anticipation of fans, not clinical anxiety. (confusing) entry 3 too short (400 chars). Retrying...\n",
            "Warning: Content for non-MH entry Sports/Detail the 'anxious wait' for the final results of a major sporting event. Describe the tension of the game, the scores, and the anticipation of fans, not clinical anxiety. (confusing) entry 3 too short (281 chars). Retrying...\n",
            "Failed to generate non-MH content for Sports/Detail the 'anxious wait' for the final results of a major sporting event. Describe the tension of the game, the scores, and the anticipation of fans, not clinical anxiety. (confusing) entry 3 after 3 attempts.\n",
            "Warning: Content for non-MH entry Sports/Detail the 'anxious wait' for the final results of a major sporting event. Describe the tension of the game, the scores, and the anticipation of fans, not clinical anxiety. (confusing) entry 4 too short (312 chars). Retrying...\n",
            "Warning: Content for non-MH entry Sports/Detail the 'anxious wait' for the final results of a major sporting event. Describe the tension of the game, the scores, and the anticipation of fans, not clinical anxiety. (confusing) entry 4 too short (490 chars). Retrying...\n",
            "Warning: Content for non-MH entry Sports/Detail the 'anxious wait' for the final results of a major sporting event. Describe the tension of the game, the scores, and the anticipation of fans, not clinical anxiety. (confusing) entry 4 too short (239 chars). Retrying...\n",
            "Failed to generate non-MH content for Sports/Detail the 'anxious wait' for the final results of a major sporting event. Describe the tension of the game, the scores, and the anticipation of fans, not clinical anxiety. (confusing) entry 4 after 3 attempts.\n",
            "Warning: Content for non-MH entry Sports/Detail the 'anxious wait' for the final results of a major sporting event. Describe the tension of the game, the scores, and the anticipation of fans, not clinical anxiety. (confusing) entry 5 too short (345 chars). Retrying...\n",
            "Warning: Content for non-MH entry Sports/Detail the 'anxious wait' for the final results of a major sporting event. Describe the tension of the game, the scores, and the anticipation of fans, not clinical anxiety. (confusing) entry 5 too short (356 chars). Retrying...\n",
            "Warning: Content for non-MH entry Sports/Detail the 'anxious wait' for the final results of a major sporting event. Describe the tension of the game, the scores, and the anticipation of fans, not clinical anxiety. (confusing) entry 5 too short (289 chars). Retrying...\n",
            "Failed to generate non-MH content for Sports/Detail the 'anxious wait' for the final results of a major sporting event. Describe the tension of the game, the scores, and the anticipation of fans, not clinical anxiety. (confusing) entry 5 after 3 attempts.\n",
            "Warning: Content for non-MH entry Sports/Detail the 'anxious wait' for the final results of a major sporting event. Describe the tension of the game, the scores, and the anticipation of fans, not clinical anxiety. (confusing) entry 6 too short (377 chars). Retrying...\n",
            "Warning: Content for non-MH entry Sports/Detail the 'anxious wait' for the final results of a major sporting event. Describe the tension of the game, the scores, and the anticipation of fans, not clinical anxiety. (confusing) entry 6 too short (267 chars). Retrying...\n",
            "Warning: Content for non-MH entry Sports/Detail the 'anxious wait' for the final results of a major sporting event. Describe the tension of the game, the scores, and the anticipation of fans, not clinical anxiety. (confusing) entry 6 too short (430 chars). Retrying...\n",
            "Failed to generate non-MH content for Sports/Detail the 'anxious wait' for the final results of a major sporting event. Describe the tension of the game, the scores, and the anticipation of fans, not clinical anxiety. (confusing) entry 6 after 3 attempts.\n",
            "Warning: Content for non-MH entry Sports/Detail the 'anxious wait' for the final results of a major sporting event. Describe the tension of the game, the scores, and the anticipation of fans, not clinical anxiety. (confusing) entry 8 too short (266 chars). Retrying...\n",
            "Warning: Content for non-MH entry Sports/Detail the 'anxious wait' for the final results of a major sporting event. Describe the tension of the game, the scores, and the anticipation of fans, not clinical anxiety. (confusing) entry 8 too short (421 chars). Retrying...\n",
            "Warning: Content for non-MH entry Sports/Detail the 'anxious wait' for the final results of a major sporting event. Describe the tension of the game, the scores, and the anticipation of fans, not clinical anxiety. (confusing) entry 8 too short (334 chars). Retrying...\n",
            "Failed to generate non-MH content for Sports/Detail the 'anxious wait' for the final results of a major sporting event. Describe the tension of the game, the scores, and the anticipation of fans, not clinical anxiety. (confusing) entry 8 after 3 attempts.\n",
            "Warning: Content for non-MH entry Sports/Detail the 'anxious wait' for the final results of a major sporting event. Describe the tension of the game, the scores, and the anticipation of fans, not clinical anxiety. (confusing) entry 9 too short (321 chars). Retrying...\n",
            "Warning: Content for non-MH entry Sports/Detail the 'anxious wait' for the final results of a major sporting event. Describe the tension of the game, the scores, and the anticipation of fans, not clinical anxiety. (confusing) entry 9 too short (410 chars). Retrying...\n",
            "Warning: Content for non-MH entry Sports/Detail the 'anxious wait' for the final results of a major sporting event. Describe the tension of the game, the scores, and the anticipation of fans, not clinical anxiety. (confusing) entry 9 too short (301 chars). Retrying...\n",
            "Failed to generate non-MH content for Sports/Detail the 'anxious wait' for the final results of a major sporting event. Describe the tension of the game, the scores, and the anticipation of fans, not clinical anxiety. (confusing) entry 9 after 3 attempts.\n",
            "Warning: Content for non-MH entry Sports/Detail the 'anxious wait' for the final results of a major sporting event. Describe the tension of the game, the scores, and the anticipation of fans, not clinical anxiety. (confusing) entry 10 too short (287 chars). Retrying...\n",
            "Warning: Content for non-MH entry Sports/Detail the 'anxious wait' for the final results of a major sporting event. Describe the tension of the game, the scores, and the anticipation of fans, not clinical anxiety. (confusing) entry 10 too short (334 chars). Retrying...\n",
            "Warning: Content for non-MH entry Sports/Detail the 'anxious wait' for the final results of a major sporting event. Describe the tension of the game, the scores, and the anticipation of fans, not clinical anxiety. (confusing) entry 10 too short (352 chars). Retrying...\n",
            "Failed to generate non-MH content for Sports/Detail the 'anxious wait' for the final results of a major sporting event. Describe the tension of the game, the scores, and the anticipation of fans, not clinical anxiety. (confusing) entry 10 after 3 attempts.\n",
            "Warning: Content for non-MH entry Sports/Detail the 'anxious wait' for the final results of a major sporting event. Describe the tension of the game, the scores, and the anticipation of fans, not clinical anxiety. (confusing) entry 11 too short (349 chars). Retrying...\n",
            "Warning: Content for non-MH entry Sports/Detail the 'anxious wait' for the final results of a major sporting event. Describe the tension of the game, the scores, and the anticipation of fans, not clinical anxiety. (confusing) entry 11 too short (380 chars). Retrying...\n",
            "Warning: Content for non-MH entry Sports/Detail the 'anxious wait' for the final results of a major sporting event. Describe the tension of the game, the scores, and the anticipation of fans, not clinical anxiety. (confusing) entry 11 too short (284 chars). Retrying...\n",
            "Failed to generate non-MH content for Sports/Detail the 'anxious wait' for the final results of a major sporting event. Describe the tension of the game, the scores, and the anticipation of fans, not clinical anxiety. (confusing) entry 11 after 3 attempts.\n",
            "Warning: Content for non-MH entry Sports/Detail the 'anxious wait' for the final results of a major sporting event. Describe the tension of the game, the scores, and the anticipation of fans, not clinical anxiety. (confusing) entry 12 too short (260 chars). Retrying...\n",
            "Warning: Content for non-MH entry Sports/Detail the 'anxious wait' for the final results of a major sporting event. Describe the tension of the game, the scores, and the anticipation of fans, not clinical anxiety. (confusing) entry 12 too short (341 chars). Retrying...\n",
            "Warning: Content for non-MH entry Sports/Detail the 'anxious wait' for the final results of a major sporting event. Describe the tension of the game, the scores, and the anticipation of fans, not clinical anxiety. (confusing) entry 12 too short (360 chars). Retrying...\n",
            "Failed to generate non-MH content for Sports/Detail the 'anxious wait' for the final results of a major sporting event. Describe the tension of the game, the scores, and the anticipation of fans, not clinical anxiety. (confusing) entry 12 after 3 attempts.\n",
            "Warning: Content for non-MH entry Sports/Detail the 'anxious wait' for the final results of a major sporting event. Describe the tension of the game, the scores, and the anticipation of fans, not clinical anxiety. (confusing) entry 13 too short (254 chars). Retrying...\n",
            "Warning: Content for non-MH entry Sports/Detail the 'anxious wait' for the final results of a major sporting event. Describe the tension of the game, the scores, and the anticipation of fans, not clinical anxiety. (confusing) entry 13 too short (417 chars). Retrying...\n",
            "Warning: Content for non-MH entry Sports/Detail the 'anxious wait' for the final results of a major sporting event. Describe the tension of the game, the scores, and the anticipation of fans, not clinical anxiety. (confusing) entry 13 too short (478 chars). Retrying...\n",
            "Failed to generate non-MH content for Sports/Detail the 'anxious wait' for the final results of a major sporting event. Describe the tension of the game, the scores, and the anticipation of fans, not clinical anxiety. (confusing) entry 13 after 3 attempts.\n",
            "Warning: Content for non-MH entry Sports/Detail the 'anxious wait' for the final results of a major sporting event. Describe the tension of the game, the scores, and the anticipation of fans, not clinical anxiety. (confusing) entry 14 too short (445 chars). Retrying...\n",
            "Warning: Content for non-MH entry Sports/Detail the 'anxious wait' for the final results of a major sporting event. Describe the tension of the game, the scores, and the anticipation of fans, not clinical anxiety. (confusing) entry 14 too short (283 chars). Retrying...\n",
            "Warning: Content for non-MH entry Sports/Detail the 'anxious wait' for the final results of a major sporting event. Describe the tension of the game, the scores, and the anticipation of fans, not clinical anxiety. (confusing) entry 14 too short (467 chars). Retrying...\n",
            "Failed to generate non-MH content for Sports/Detail the 'anxious wait' for the final results of a major sporting event. Describe the tension of the game, the scores, and the anticipation of fans, not clinical anxiety. (confusing) entry 14 after 3 attempts.\n",
            "Warning: Content for non-MH entry Sports/Detail the 'anxious wait' for the final results of a major sporting event. Describe the tension of the game, the scores, and the anticipation of fans, not clinical anxiety. (confusing) entry 15 too short (345 chars). Retrying...\n",
            "Warning: Content for non-MH entry Sports/Detail the 'anxious wait' for the final results of a major sporting event. Describe the tension of the game, the scores, and the anticipation of fans, not clinical anxiety. (confusing) entry 15 too short (339 chars). Retrying...\n",
            "Warning: Content for non-MH entry Sports/Detail the 'anxious wait' for the final results of a major sporting event. Describe the tension of the game, the scores, and the anticipation of fans, not clinical anxiety. (confusing) entry 15 too short (387 chars). Retrying...\n",
            "Failed to generate non-MH content for Sports/Detail the 'anxious wait' for the final results of a major sporting event. Describe the tension of the game, the scores, and the anticipation of fans, not clinical anxiety. (confusing) entry 15 after 3 attempts.\n"
          ]
        },
        {
          "output_type": "stream",
          "name": "stderr",
          "text": [
            "\rGenerating 'confusing' non-MH entries:  40%|████      | 4/10 [07:52<12:47, 127.89s/it]"
          ]
        },
        {
          "output_type": "stream",
          "name": "stdout",
          "text": [
            "Warning: Content for non-MH entry Botany/Write about the 'healing properties' of a specific herb. Focus on its chemical compounds, traditional uses as a physical remedy, and cultivation, not mental or emotional healing. (confusing) entry 1 too short (321 chars). Retrying...\n",
            "Warning: Content for non-MH entry Botany/Write about the 'healing properties' of a specific herb. Focus on its chemical compounds, traditional uses as a physical remedy, and cultivation, not mental or emotional healing. (confusing) entry 1 too short (305 chars). Retrying...\n",
            "Warning: Content for non-MH entry Botany/Write about the 'healing properties' of a specific herb. Focus on its chemical compounds, traditional uses as a physical remedy, and cultivation, not mental or emotional healing. (confusing) entry 1 too short (376 chars). Retrying...\n",
            "Failed to generate non-MH content for Botany/Write about the 'healing properties' of a specific herb. Focus on its chemical compounds, traditional uses as a physical remedy, and cultivation, not mental or emotional healing. (confusing) entry 1 after 3 attempts.\n",
            "Warning: Content for non-MH entry Botany/Write about the 'healing properties' of a specific herb. Focus on its chemical compounds, traditional uses as a physical remedy, and cultivation, not mental or emotional healing. (confusing) entry 2 too short (412 chars). Retrying...\n",
            "Warning: Content for non-MH entry Botany/Write about the 'healing properties' of a specific herb. Focus on its chemical compounds, traditional uses as a physical remedy, and cultivation, not mental or emotional healing. (confusing) entry 2 too short (361 chars). Retrying...\n",
            "Warning: Content for non-MH entry Botany/Write about the 'healing properties' of a specific herb. Focus on its chemical compounds, traditional uses as a physical remedy, and cultivation, not mental or emotional healing. (confusing) entry 2 too short (400 chars). Retrying...\n",
            "Failed to generate non-MH content for Botany/Write about the 'healing properties' of a specific herb. Focus on its chemical compounds, traditional uses as a physical remedy, and cultivation, not mental or emotional healing. (confusing) entry 2 after 3 attempts.\n",
            "Warning: Content for non-MH entry Botany/Write about the 'healing properties' of a specific herb. Focus on its chemical compounds, traditional uses as a physical remedy, and cultivation, not mental or emotional healing. (confusing) entry 3 too short (371 chars). Retrying...\n",
            "Warning: Content for non-MH entry Botany/Write about the 'healing properties' of a specific herb. Focus on its chemical compounds, traditional uses as a physical remedy, and cultivation, not mental or emotional healing. (confusing) entry 3 too short (284 chars). Retrying...\n",
            "Warning: Content for non-MH entry Botany/Write about the 'healing properties' of a specific herb. Focus on its chemical compounds, traditional uses as a physical remedy, and cultivation, not mental or emotional healing. (confusing) entry 3 too short (276 chars). Retrying...\n",
            "Failed to generate non-MH content for Botany/Write about the 'healing properties' of a specific herb. Focus on its chemical compounds, traditional uses as a physical remedy, and cultivation, not mental or emotional healing. (confusing) entry 3 after 3 attempts.\n",
            "Warning: Content for non-MH entry Botany/Write about the 'healing properties' of a specific herb. Focus on its chemical compounds, traditional uses as a physical remedy, and cultivation, not mental or emotional healing. (confusing) entry 4 too short (357 chars). Retrying...\n",
            "Warning: Content for non-MH entry Botany/Write about the 'healing properties' of a specific herb. Focus on its chemical compounds, traditional uses as a physical remedy, and cultivation, not mental or emotional healing. (confusing) entry 4 too short (279 chars). Retrying...\n",
            "Warning: Content for non-MH entry Botany/Write about the 'healing properties' of a specific herb. Focus on its chemical compounds, traditional uses as a physical remedy, and cultivation, not mental or emotional healing. (confusing) entry 4 too short (408 chars). Retrying...\n",
            "Failed to generate non-MH content for Botany/Write about the 'healing properties' of a specific herb. Focus on its chemical compounds, traditional uses as a physical remedy, and cultivation, not mental or emotional healing. (confusing) entry 4 after 3 attempts.\n",
            "Warning: Content for non-MH entry Botany/Write about the 'healing properties' of a specific herb. Focus on its chemical compounds, traditional uses as a physical remedy, and cultivation, not mental or emotional healing. (confusing) entry 5 too short (291 chars). Retrying...\n",
            "Warning: Content for non-MH entry Botany/Write about the 'healing properties' of a specific herb. Focus on its chemical compounds, traditional uses as a physical remedy, and cultivation, not mental or emotional healing. (confusing) entry 5 too short (463 chars). Retrying...\n",
            "Warning: Content for non-MH entry Botany/Write about the 'healing properties' of a specific herb. Focus on its chemical compounds, traditional uses as a physical remedy, and cultivation, not mental or emotional healing. (confusing) entry 5 too short (400 chars). Retrying...\n",
            "Failed to generate non-MH content for Botany/Write about the 'healing properties' of a specific herb. Focus on its chemical compounds, traditional uses as a physical remedy, and cultivation, not mental or emotional healing. (confusing) entry 5 after 3 attempts.\n",
            "Warning: Content for non-MH entry Botany/Write about the 'healing properties' of a specific herb. Focus on its chemical compounds, traditional uses as a physical remedy, and cultivation, not mental or emotional healing. (confusing) entry 6 too short (314 chars). Retrying...\n",
            "Warning: Content for non-MH entry Botany/Write about the 'healing properties' of a specific herb. Focus on its chemical compounds, traditional uses as a physical remedy, and cultivation, not mental or emotional healing. (confusing) entry 6 too short (429 chars). Retrying...\n",
            "Warning: Content for non-MH entry Botany/Write about the 'healing properties' of a specific herb. Focus on its chemical compounds, traditional uses as a physical remedy, and cultivation, not mental or emotional healing. (confusing) entry 6 too short (277 chars). Retrying...\n",
            "Failed to generate non-MH content for Botany/Write about the 'healing properties' of a specific herb. Focus on its chemical compounds, traditional uses as a physical remedy, and cultivation, not mental or emotional healing. (confusing) entry 6 after 3 attempts.\n",
            "Warning: Content for non-MH entry Botany/Write about the 'healing properties' of a specific herb. Focus on its chemical compounds, traditional uses as a physical remedy, and cultivation, not mental or emotional healing. (confusing) entry 7 too short (284 chars). Retrying...\n",
            "Warning: Content for non-MH entry Botany/Write about the 'healing properties' of a specific herb. Focus on its chemical compounds, traditional uses as a physical remedy, and cultivation, not mental or emotional healing. (confusing) entry 7 too short (379 chars). Retrying...\n",
            "Warning: Content for non-MH entry Botany/Write about the 'healing properties' of a specific herb. Focus on its chemical compounds, traditional uses as a physical remedy, and cultivation, not mental or emotional healing. (confusing) entry 7 too short (310 chars). Retrying...\n",
            "Failed to generate non-MH content for Botany/Write about the 'healing properties' of a specific herb. Focus on its chemical compounds, traditional uses as a physical remedy, and cultivation, not mental or emotional healing. (confusing) entry 7 after 3 attempts.\n",
            "Warning: Content for non-MH entry Botany/Write about the 'healing properties' of a specific herb. Focus on its chemical compounds, traditional uses as a physical remedy, and cultivation, not mental or emotional healing. (confusing) entry 8 too short (300 chars). Retrying...\n",
            "Warning: Content for non-MH entry Botany/Write about the 'healing properties' of a specific herb. Focus on its chemical compounds, traditional uses as a physical remedy, and cultivation, not mental or emotional healing. (confusing) entry 8 too short (343 chars). Retrying...\n",
            "Warning: Content for non-MH entry Botany/Write about the 'healing properties' of a specific herb. Focus on its chemical compounds, traditional uses as a physical remedy, and cultivation, not mental or emotional healing. (confusing) entry 8 too short (262 chars). Retrying...\n",
            "Failed to generate non-MH content for Botany/Write about the 'healing properties' of a specific herb. Focus on its chemical compounds, traditional uses as a physical remedy, and cultivation, not mental or emotional healing. (confusing) entry 8 after 3 attempts.\n",
            "Warning: Content for non-MH entry Botany/Write about the 'healing properties' of a specific herb. Focus on its chemical compounds, traditional uses as a physical remedy, and cultivation, not mental or emotional healing. (confusing) entry 9 too short (324 chars). Retrying...\n",
            "Warning: Content for non-MH entry Botany/Write about the 'healing properties' of a specific herb. Focus on its chemical compounds, traditional uses as a physical remedy, and cultivation, not mental or emotional healing. (confusing) entry 9 too short (415 chars). Retrying...\n",
            "Warning: Content for non-MH entry Botany/Write about the 'healing properties' of a specific herb. Focus on its chemical compounds, traditional uses as a physical remedy, and cultivation, not mental or emotional healing. (confusing) entry 9 too short (278 chars). Retrying...\n",
            "Failed to generate non-MH content for Botany/Write about the 'healing properties' of a specific herb. Focus on its chemical compounds, traditional uses as a physical remedy, and cultivation, not mental or emotional healing. (confusing) entry 9 after 3 attempts.\n",
            "Warning: Content for non-MH entry Botany/Write about the 'healing properties' of a specific herb. Focus on its chemical compounds, traditional uses as a physical remedy, and cultivation, not mental or emotional healing. (confusing) entry 10 too short (381 chars). Retrying...\n",
            "Warning: Content for non-MH entry Botany/Write about the 'healing properties' of a specific herb. Focus on its chemical compounds, traditional uses as a physical remedy, and cultivation, not mental or emotional healing. (confusing) entry 10 too short (488 chars). Retrying...\n",
            "Warning: Content for non-MH entry Botany/Write about the 'healing properties' of a specific herb. Focus on its chemical compounds, traditional uses as a physical remedy, and cultivation, not mental or emotional healing. (confusing) entry 10 too short (432 chars). Retrying...\n",
            "Failed to generate non-MH content for Botany/Write about the 'healing properties' of a specific herb. Focus on its chemical compounds, traditional uses as a physical remedy, and cultivation, not mental or emotional healing. (confusing) entry 10 after 3 attempts.\n",
            "Warning: Content for non-MH entry Botany/Write about the 'healing properties' of a specific herb. Focus on its chemical compounds, traditional uses as a physical remedy, and cultivation, not mental or emotional healing. (confusing) entry 11 too short (214 chars). Retrying...\n",
            "Warning: Content for non-MH entry Botany/Write about the 'healing properties' of a specific herb. Focus on its chemical compounds, traditional uses as a physical remedy, and cultivation, not mental or emotional healing. (confusing) entry 11 too short (306 chars). Retrying...\n",
            "Warning: Content for non-MH entry Botany/Write about the 'healing properties' of a specific herb. Focus on its chemical compounds, traditional uses as a physical remedy, and cultivation, not mental or emotional healing. (confusing) entry 11 too short (317 chars). Retrying...\n",
            "Failed to generate non-MH content for Botany/Write about the 'healing properties' of a specific herb. Focus on its chemical compounds, traditional uses as a physical remedy, and cultivation, not mental or emotional healing. (confusing) entry 11 after 3 attempts.\n",
            "Warning: Content for non-MH entry Botany/Write about the 'healing properties' of a specific herb. Focus on its chemical compounds, traditional uses as a physical remedy, and cultivation, not mental or emotional healing. (confusing) entry 12 too short (350 chars). Retrying...\n",
            "Warning: Content for non-MH entry Botany/Write about the 'healing properties' of a specific herb. Focus on its chemical compounds, traditional uses as a physical remedy, and cultivation, not mental or emotional healing. (confusing) entry 12 too short (421 chars). Retrying...\n",
            "Warning: Content for non-MH entry Botany/Write about the 'healing properties' of a specific herb. Focus on its chemical compounds, traditional uses as a physical remedy, and cultivation, not mental or emotional healing. (confusing) entry 12 too short (241 chars). Retrying...\n",
            "Failed to generate non-MH content for Botany/Write about the 'healing properties' of a specific herb. Focus on its chemical compounds, traditional uses as a physical remedy, and cultivation, not mental or emotional healing. (confusing) entry 12 after 3 attempts.\n",
            "Warning: Content for non-MH entry Botany/Write about the 'healing properties' of a specific herb. Focus on its chemical compounds, traditional uses as a physical remedy, and cultivation, not mental or emotional healing. (confusing) entry 13 too short (273 chars). Retrying...\n",
            "Warning: Content for non-MH entry Botany/Write about the 'healing properties' of a specific herb. Focus on its chemical compounds, traditional uses as a physical remedy, and cultivation, not mental or emotional healing. (confusing) entry 13 too short (448 chars). Retrying...\n",
            "Warning: Content for non-MH entry Botany/Write about the 'healing properties' of a specific herb. Focus on its chemical compounds, traditional uses as a physical remedy, and cultivation, not mental or emotional healing. (confusing) entry 13 too short (297 chars). Retrying...\n",
            "Failed to generate non-MH content for Botany/Write about the 'healing properties' of a specific herb. Focus on its chemical compounds, traditional uses as a physical remedy, and cultivation, not mental or emotional healing. (confusing) entry 13 after 3 attempts.\n",
            "Warning: Content for non-MH entry Botany/Write about the 'healing properties' of a specific herb. Focus on its chemical compounds, traditional uses as a physical remedy, and cultivation, not mental or emotional healing. (confusing) entry 14 too short (407 chars). Retrying...\n",
            "Warning: Content for non-MH entry Botany/Write about the 'healing properties' of a specific herb. Focus on its chemical compounds, traditional uses as a physical remedy, and cultivation, not mental or emotional healing. (confusing) entry 14 too short (322 chars). Retrying...\n",
            "Warning: Content for non-MH entry Botany/Write about the 'healing properties' of a specific herb. Focus on its chemical compounds, traditional uses as a physical remedy, and cultivation, not mental or emotional healing. (confusing) entry 14 too short (307 chars). Retrying...\n",
            "Failed to generate non-MH content for Botany/Write about the 'healing properties' of a specific herb. Focus on its chemical compounds, traditional uses as a physical remedy, and cultivation, not mental or emotional healing. (confusing) entry 14 after 3 attempts.\n",
            "Warning: Content for non-MH entry Botany/Write about the 'healing properties' of a specific herb. Focus on its chemical compounds, traditional uses as a physical remedy, and cultivation, not mental or emotional healing. (confusing) entry 15 too short (320 chars). Retrying...\n",
            "Warning: Content for non-MH entry Botany/Write about the 'healing properties' of a specific herb. Focus on its chemical compounds, traditional uses as a physical remedy, and cultivation, not mental or emotional healing. (confusing) entry 15 too short (329 chars). Retrying...\n",
            "Warning: Content for non-MH entry Botany/Write about the 'healing properties' of a specific herb. Focus on its chemical compounds, traditional uses as a physical remedy, and cultivation, not mental or emotional healing. (confusing) entry 15 too short (389 chars). Retrying...\n",
            "Failed to generate non-MH content for Botany/Write about the 'healing properties' of a specific herb. Focus on its chemical compounds, traditional uses as a physical remedy, and cultivation, not mental or emotional healing. (confusing) entry 15 after 3 attempts.\n"
          ]
        },
        {
          "output_type": "stream",
          "name": "stderr",
          "text": [
            "\rGenerating 'confusing' non-MH entries:  50%|█████     | 5/10 [10:59<12:27, 149.41s/it]"
          ]
        },
        {
          "output_type": "stream",
          "name": "stdout",
          "text": [
            "Warning: Content for non-MH entry DIY/Explain how to fix a 'broken window' at its 'breaking point'. Focus on the physical repair process, tools, and materials needed. (confusing) entry 4 too short (416 chars). Retrying...\n",
            "Warning: Content for non-MH entry DIY/Explain how to fix a 'broken window' at its 'breaking point'. Focus on the physical repair process, tools, and materials needed. (confusing) entry 7 too short (494 chars). Retrying...\n"
          ]
        },
        {
          "output_type": "stream",
          "name": "stderr",
          "text": [
            "WARNING:tornado.access:429 POST /v1beta/models/gemini-2.0-flash:generateContent?%24alt=json%3Benum-encoding%3Dint (127.0.0.1) 658.73ms\n"
          ]
        },
        {
          "output_type": "stream",
          "name": "stdout",
          "text": [
            "Error generating non-MH content for DIY/Explain how to fix a 'broken window' at its 'breaking point'. Focus on the physical repair process, tools, and materials needed. (confusing) entry 12 (Attempt 1/3): 429 POST https://generativelanguage.googleapis.com/v1beta/models/gemini-2.0-flash:generateContent?%24alt=json%3Benum-encoding%3Dint: You exceeded your current quota, please check your plan and billing details. For more information on this error, head to: https://ai.google.dev/gemini-api/docs/rate-limits.\n"
          ]
        },
        {
          "output_type": "stream",
          "name": "stderr",
          "text": [
            "WARNING:tornado.access:429 POST /v1beta/models/gemini-2.0-flash:generateContent?%24alt=json%3Benum-encoding%3Dint (127.0.0.1) 634.11ms\n"
          ]
        },
        {
          "output_type": "stream",
          "name": "stdout",
          "text": [
            "Error generating non-MH content for DIY/Explain how to fix a 'broken window' at its 'breaking point'. Focus on the physical repair process, tools, and materials needed. (confusing) entry 12 (Attempt 2/3): 429 POST https://generativelanguage.googleapis.com/v1beta/models/gemini-2.0-flash:generateContent?%24alt=json%3Benum-encoding%3Dint: You exceeded your current quota, please check your plan and billing details. For more information on this error, head to: https://ai.google.dev/gemini-api/docs/rate-limits.\n"
          ]
        },
        {
          "output_type": "stream",
          "name": "stderr",
          "text": [
            "WARNING:tornado.access:429 POST /v1beta/models/gemini-2.0-flash:generateContent?%24alt=json%3Benum-encoding%3Dint (127.0.0.1) 633.13ms\n"
          ]
        },
        {
          "output_type": "stream",
          "name": "stdout",
          "text": [
            "Error generating non-MH content for DIY/Explain how to fix a 'broken window' at its 'breaking point'. Focus on the physical repair process, tools, and materials needed. (confusing) entry 12 (Attempt 3/3): 429 POST https://generativelanguage.googleapis.com/v1beta/models/gemini-2.0-flash:generateContent?%24alt=json%3Benum-encoding%3Dint: You exceeded your current quota, please check your plan and billing details. For more information on this error, head to: https://ai.google.dev/gemini-api/docs/rate-limits.\n",
            "Failed to generate non-MH content for DIY/Explain how to fix a 'broken window' at its 'breaking point'. Focus on the physical repair process, tools, and materials needed. (confusing) entry 12 after 3 attempts.\n"
          ]
        },
        {
          "output_type": "stream",
          "name": "stderr",
          "text": [
            "\rGenerating 'confusing' non-MH entries:  60%|██████    | 6/10 [11:59<07:55, 118.97s/it]"
          ]
        },
        {
          "output_type": "stream",
          "name": "stdout",
          "text": [
            "Warning: Content for non-MH entry Daily Life/Write a short piece advising people to 'mind the gap' on a subway platform. Explain it as a safety instruction, not a mental state. (confusing) entry 1 too short (306 chars). Retrying...\n",
            "Warning: Content for non-MH entry Daily Life/Write a short piece advising people to 'mind the gap' on a subway platform. Explain it as a safety instruction, not a mental state. (confusing) entry 1 too short (244 chars). Retrying...\n",
            "Warning: Content for non-MH entry Daily Life/Write a short piece advising people to 'mind the gap' on a subway platform. Explain it as a safety instruction, not a mental state. (confusing) entry 1 too short (312 chars). Retrying...\n",
            "Failed to generate non-MH content for Daily Life/Write a short piece advising people to 'mind the gap' on a subway platform. Explain it as a safety instruction, not a mental state. (confusing) entry 1 after 3 attempts.\n",
            "Warning: Content for non-MH entry Daily Life/Write a short piece advising people to 'mind the gap' on a subway platform. Explain it as a safety instruction, not a mental state. (confusing) entry 2 too short (184 chars). Retrying...\n",
            "Warning: Content for non-MH entry Daily Life/Write a short piece advising people to 'mind the gap' on a subway platform. Explain it as a safety instruction, not a mental state. (confusing) entry 2 too short (308 chars). Retrying...\n",
            "Warning: Content for non-MH entry Daily Life/Write a short piece advising people to 'mind the gap' on a subway platform. Explain it as a safety instruction, not a mental state. (confusing) entry 2 too short (316 chars). Retrying...\n",
            "Failed to generate non-MH content for Daily Life/Write a short piece advising people to 'mind the gap' on a subway platform. Explain it as a safety instruction, not a mental state. (confusing) entry 2 after 3 attempts.\n",
            "Warning: Content for non-MH entry Daily Life/Write a short piece advising people to 'mind the gap' on a subway platform. Explain it as a safety instruction, not a mental state. (confusing) entry 3 too short (341 chars). Retrying...\n",
            "Warning: Content for non-MH entry Daily Life/Write a short piece advising people to 'mind the gap' on a subway platform. Explain it as a safety instruction, not a mental state. (confusing) entry 3 too short (267 chars). Retrying...\n",
            "Warning: Content for non-MH entry Daily Life/Write a short piece advising people to 'mind the gap' on a subway platform. Explain it as a safety instruction, not a mental state. (confusing) entry 3 too short (203 chars). Retrying...\n",
            "Failed to generate non-MH content for Daily Life/Write a short piece advising people to 'mind the gap' on a subway platform. Explain it as a safety instruction, not a mental state. (confusing) entry 3 after 3 attempts.\n",
            "Warning: Content for non-MH entry Daily Life/Write a short piece advising people to 'mind the gap' on a subway platform. Explain it as a safety instruction, not a mental state. (confusing) entry 4 too short (282 chars). Retrying...\n",
            "Warning: Content for non-MH entry Daily Life/Write a short piece advising people to 'mind the gap' on a subway platform. Explain it as a safety instruction, not a mental state. (confusing) entry 4 too short (186 chars). Retrying...\n",
            "Warning: Content for non-MH entry Daily Life/Write a short piece advising people to 'mind the gap' on a subway platform. Explain it as a safety instruction, not a mental state. (confusing) entry 4 too short (324 chars). Retrying...\n",
            "Failed to generate non-MH content for Daily Life/Write a short piece advising people to 'mind the gap' on a subway platform. Explain it as a safety instruction, not a mental state. (confusing) entry 4 after 3 attempts.\n",
            "Warning: Content for non-MH entry Daily Life/Write a short piece advising people to 'mind the gap' on a subway platform. Explain it as a safety instruction, not a mental state. (confusing) entry 5 too short (251 chars). Retrying...\n"
          ]
        },
        {
          "output_type": "stream",
          "name": "stderr",
          "text": [
            "WARNING:tornado.access:429 POST /v1beta/models/gemini-2.0-flash:generateContent?%24alt=json%3Benum-encoding%3Dint (127.0.0.1) 659.31ms\n"
          ]
        },
        {
          "output_type": "stream",
          "name": "stdout",
          "text": [
            "Error generating non-MH content for Daily Life/Write a short piece advising people to 'mind the gap' on a subway platform. Explain it as a safety instruction, not a mental state. (confusing) entry 5 (Attempt 2/3): 429 POST https://generativelanguage.googleapis.com/v1beta/models/gemini-2.0-flash:generateContent?%24alt=json%3Benum-encoding%3Dint: You exceeded your current quota, please check your plan and billing details. For more information on this error, head to: https://ai.google.dev/gemini-api/docs/rate-limits.\n",
            "Warning: Content for non-MH entry Daily Life/Write a short piece advising people to 'mind the gap' on a subway platform. Explain it as a safety instruction, not a mental state. (confusing) entry 5 too short (270 chars). Retrying...\n",
            "Failed to generate non-MH content for Daily Life/Write a short piece advising people to 'mind the gap' on a subway platform. Explain it as a safety instruction, not a mental state. (confusing) entry 5 after 3 attempts.\n",
            "Warning: Content for non-MH entry Daily Life/Write a short piece advising people to 'mind the gap' on a subway platform. Explain it as a safety instruction, not a mental state. (confusing) entry 6 too short (291 chars). Retrying...\n",
            "Warning: Content for non-MH entry Daily Life/Write a short piece advising people to 'mind the gap' on a subway platform. Explain it as a safety instruction, not a mental state. (confusing) entry 6 too short (412 chars). Retrying...\n",
            "Warning: Content for non-MH entry Daily Life/Write a short piece advising people to 'mind the gap' on a subway platform. Explain it as a safety instruction, not a mental state. (confusing) entry 6 too short (306 chars). Retrying...\n",
            "Failed to generate non-MH content for Daily Life/Write a short piece advising people to 'mind the gap' on a subway platform. Explain it as a safety instruction, not a mental state. (confusing) entry 6 after 3 attempts.\n",
            "Warning: Content for non-MH entry Daily Life/Write a short piece advising people to 'mind the gap' on a subway platform. Explain it as a safety instruction, not a mental state. (confusing) entry 7 too short (270 chars). Retrying...\n",
            "Warning: Content for non-MH entry Daily Life/Write a short piece advising people to 'mind the gap' on a subway platform. Explain it as a safety instruction, not a mental state. (confusing) entry 7 too short (249 chars). Retrying...\n",
            "Warning: Content for non-MH entry Daily Life/Write a short piece advising people to 'mind the gap' on a subway platform. Explain it as a safety instruction, not a mental state. (confusing) entry 7 too short (358 chars). Retrying...\n",
            "Failed to generate non-MH content for Daily Life/Write a short piece advising people to 'mind the gap' on a subway platform. Explain it as a safety instruction, not a mental state. (confusing) entry 7 after 3 attempts.\n",
            "Warning: Content for non-MH entry Daily Life/Write a short piece advising people to 'mind the gap' on a subway platform. Explain it as a safety instruction, not a mental state. (confusing) entry 8 too short (217 chars). Retrying...\n",
            "Warning: Content for non-MH entry Daily Life/Write a short piece advising people to 'mind the gap' on a subway platform. Explain it as a safety instruction, not a mental state. (confusing) entry 8 too short (333 chars). Retrying...\n",
            "Warning: Content for non-MH entry Daily Life/Write a short piece advising people to 'mind the gap' on a subway platform. Explain it as a safety instruction, not a mental state. (confusing) entry 8 too short (250 chars). Retrying...\n",
            "Failed to generate non-MH content for Daily Life/Write a short piece advising people to 'mind the gap' on a subway platform. Explain it as a safety instruction, not a mental state. (confusing) entry 8 after 3 attempts.\n",
            "Warning: Content for non-MH entry Daily Life/Write a short piece advising people to 'mind the gap' on a subway platform. Explain it as a safety instruction, not a mental state. (confusing) entry 9 too short (303 chars). Retrying...\n",
            "Warning: Content for non-MH entry Daily Life/Write a short piece advising people to 'mind the gap' on a subway platform. Explain it as a safety instruction, not a mental state. (confusing) entry 9 too short (349 chars). Retrying...\n",
            "Warning: Content for non-MH entry Daily Life/Write a short piece advising people to 'mind the gap' on a subway platform. Explain it as a safety instruction, not a mental state. (confusing) entry 9 too short (402 chars). Retrying...\n",
            "Failed to generate non-MH content for Daily Life/Write a short piece advising people to 'mind the gap' on a subway platform. Explain it as a safety instruction, not a mental state. (confusing) entry 9 after 3 attempts.\n",
            "Warning: Content for non-MH entry Daily Life/Write a short piece advising people to 'mind the gap' on a subway platform. Explain it as a safety instruction, not a mental state. (confusing) entry 10 too short (215 chars). Retrying...\n",
            "Warning: Content for non-MH entry Daily Life/Write a short piece advising people to 'mind the gap' on a subway platform. Explain it as a safety instruction, not a mental state. (confusing) entry 10 too short (293 chars). Retrying...\n",
            "Warning: Content for non-MH entry Daily Life/Write a short piece advising people to 'mind the gap' on a subway platform. Explain it as a safety instruction, not a mental state. (confusing) entry 10 too short (266 chars). Retrying...\n",
            "Failed to generate non-MH content for Daily Life/Write a short piece advising people to 'mind the gap' on a subway platform. Explain it as a safety instruction, not a mental state. (confusing) entry 10 after 3 attempts.\n",
            "Warning: Content for non-MH entry Daily Life/Write a short piece advising people to 'mind the gap' on a subway platform. Explain it as a safety instruction, not a mental state. (confusing) entry 11 too short (299 chars). Retrying...\n",
            "Warning: Content for non-MH entry Daily Life/Write a short piece advising people to 'mind the gap' on a subway platform. Explain it as a safety instruction, not a mental state. (confusing) entry 11 too short (259 chars). Retrying...\n",
            "Warning: Content for non-MH entry Daily Life/Write a short piece advising people to 'mind the gap' on a subway platform. Explain it as a safety instruction, not a mental state. (confusing) entry 11 too short (225 chars). Retrying...\n",
            "Failed to generate non-MH content for Daily Life/Write a short piece advising people to 'mind the gap' on a subway platform. Explain it as a safety instruction, not a mental state. (confusing) entry 11 after 3 attempts.\n",
            "Warning: Content for non-MH entry Daily Life/Write a short piece advising people to 'mind the gap' on a subway platform. Explain it as a safety instruction, not a mental state. (confusing) entry 12 too short (170 chars). Retrying...\n",
            "Warning: Content for non-MH entry Daily Life/Write a short piece advising people to 'mind the gap' on a subway platform. Explain it as a safety instruction, not a mental state. (confusing) entry 12 too short (282 chars). Retrying...\n",
            "Warning: Content for non-MH entry Daily Life/Write a short piece advising people to 'mind the gap' on a subway platform. Explain it as a safety instruction, not a mental state. (confusing) entry 12 too short (305 chars). Retrying...\n",
            "Failed to generate non-MH content for Daily Life/Write a short piece advising people to 'mind the gap' on a subway platform. Explain it as a safety instruction, not a mental state. (confusing) entry 12 after 3 attempts.\n",
            "Warning: Content for non-MH entry Daily Life/Write a short piece advising people to 'mind the gap' on a subway platform. Explain it as a safety instruction, not a mental state. (confusing) entry 13 too short (281 chars). Retrying...\n",
            "Warning: Content for non-MH entry Daily Life/Write a short piece advising people to 'mind the gap' on a subway platform. Explain it as a safety instruction, not a mental state. (confusing) entry 13 too short (244 chars). Retrying...\n",
            "Warning: Content for non-MH entry Daily Life/Write a short piece advising people to 'mind the gap' on a subway platform. Explain it as a safety instruction, not a mental state. (confusing) entry 13 too short (222 chars). Retrying...\n",
            "Failed to generate non-MH content for Daily Life/Write a short piece advising people to 'mind the gap' on a subway platform. Explain it as a safety instruction, not a mental state. (confusing) entry 13 after 3 attempts.\n",
            "Warning: Content for non-MH entry Daily Life/Write a short piece advising people to 'mind the gap' on a subway platform. Explain it as a safety instruction, not a mental state. (confusing) entry 14 too short (428 chars). Retrying...\n",
            "Warning: Content for non-MH entry Daily Life/Write a short piece advising people to 'mind the gap' on a subway platform. Explain it as a safety instruction, not a mental state. (confusing) entry 14 too short (313 chars). Retrying...\n",
            "Warning: Content for non-MH entry Daily Life/Write a short piece advising people to 'mind the gap' on a subway platform. Explain it as a safety instruction, not a mental state. (confusing) entry 14 too short (300 chars). Retrying...\n",
            "Failed to generate non-MH content for Daily Life/Write a short piece advising people to 'mind the gap' on a subway platform. Explain it as a safety instruction, not a mental state. (confusing) entry 14 after 3 attempts.\n",
            "Warning: Content for non-MH entry Daily Life/Write a short piece advising people to 'mind the gap' on a subway platform. Explain it as a safety instruction, not a mental state. (confusing) entry 15 too short (302 chars). Retrying...\n",
            "Warning: Content for non-MH entry Daily Life/Write a short piece advising people to 'mind the gap' on a subway platform. Explain it as a safety instruction, not a mental state. (confusing) entry 15 too short (260 chars). Retrying...\n",
            "Warning: Content for non-MH entry Daily Life/Write a short piece advising people to 'mind the gap' on a subway platform. Explain it as a safety instruction, not a mental state. (confusing) entry 15 too short (413 chars). Retrying...\n",
            "Failed to generate non-MH content for Daily Life/Write a short piece advising people to 'mind the gap' on a subway platform. Explain it as a safety instruction, not a mental state. (confusing) entry 15 after 3 attempts.\n"
          ]
        },
        {
          "output_type": "stream",
          "name": "stderr",
          "text": [
            "\rGenerating 'confusing' non-MH entries:  70%|███████   | 7/10 [14:43<06:41, 133.73s/it]WARNING:tornado.access:429 POST /v1beta/models/gemini-2.0-flash:generateContent?%24alt=json%3Benum-encoding%3Dint (127.0.0.1) 684.91ms\n"
          ]
        },
        {
          "output_type": "stream",
          "name": "stdout",
          "text": [
            "Error generating non-MH content for Culinary/Describe how to create a 'depressed' or 'sunken' cake, explaining the baking process and common baking errors. (confusing) entry 1 (Attempt 1/3): 429 POST https://generativelanguage.googleapis.com/v1beta/models/gemini-2.0-flash:generateContent?%24alt=json%3Benum-encoding%3Dint: You exceeded your current quota, please check your plan and billing details. For more information on this error, head to: https://ai.google.dev/gemini-api/docs/rate-limits.\n",
            "Warning: Content for non-MH entry Culinary/Describe how to create a 'depressed' or 'sunken' cake, explaining the baking process and common baking errors. (confusing) entry 6 too short (387 chars). Retrying...\n",
            "Warning: Content for non-MH entry Culinary/Describe how to create a 'depressed' or 'sunken' cake, explaining the baking process and common baking errors. (confusing) entry 6 too short (353 chars). Retrying...\n",
            "Warning: Content for non-MH entry Culinary/Describe how to create a 'depressed' or 'sunken' cake, explaining the baking process and common baking errors. (confusing) entry 6 too short (351 chars). Retrying...\n",
            "Failed to generate non-MH content for Culinary/Describe how to create a 'depressed' or 'sunken' cake, explaining the baking process and common baking errors. (confusing) entry 6 after 3 attempts.\n",
            "Warning: Content for non-MH entry Culinary/Describe how to create a 'depressed' or 'sunken' cake, explaining the baking process and common baking errors. (confusing) entry 7 too short (343 chars). Retrying...\n",
            "Warning: Content for non-MH entry Culinary/Describe how to create a 'depressed' or 'sunken' cake, explaining the baking process and common baking errors. (confusing) entry 8 too short (479 chars). Retrying...\n"
          ]
        },
        {
          "output_type": "stream",
          "name": "stderr",
          "text": [
            "WARNING:tornado.access:429 POST /v1beta/models/gemini-2.0-flash:generateContent?%24alt=json%3Benum-encoding%3Dint (127.0.0.1) 607.90ms\n"
          ]
        },
        {
          "output_type": "stream",
          "name": "stdout",
          "text": [
            "Error generating non-MH content for Culinary/Describe how to create a 'depressed' or 'sunken' cake, explaining the baking process and common baking errors. (confusing) entry 13 (Attempt 1/3): 429 POST https://generativelanguage.googleapis.com/v1beta/models/gemini-2.0-flash:generateContent?%24alt=json%3Benum-encoding%3Dint: You exceeded your current quota, please check your plan and billing details. For more information on this error, head to: https://ai.google.dev/gemini-api/docs/rate-limits.\n"
          ]
        },
        {
          "output_type": "stream",
          "name": "stderr",
          "text": [
            "WARNING:tornado.access:429 POST /v1beta/models/gemini-2.0-flash:generateContent?%24alt=json%3Benum-encoding%3Dint (127.0.0.1) 658.78ms\n"
          ]
        },
        {
          "output_type": "stream",
          "name": "stdout",
          "text": [
            "Error generating non-MH content for Culinary/Describe how to create a 'depressed' or 'sunken' cake, explaining the baking process and common baking errors. (confusing) entry 13 (Attempt 2/3): 429 POST https://generativelanguage.googleapis.com/v1beta/models/gemini-2.0-flash:generateContent?%24alt=json%3Benum-encoding%3Dint: You exceeded your current quota, please check your plan and billing details. For more information on this error, head to: https://ai.google.dev/gemini-api/docs/rate-limits.\n"
          ]
        },
        {
          "output_type": "stream",
          "name": "stderr",
          "text": [
            "WARNING:tornado.access:429 POST /v1beta/models/gemini-2.0-flash:generateContent?%24alt=json%3Benum-encoding%3Dint (127.0.0.1) 633.65ms\n"
          ]
        },
        {
          "output_type": "stream",
          "name": "stdout",
          "text": [
            "Error generating non-MH content for Culinary/Describe how to create a 'depressed' or 'sunken' cake, explaining the baking process and common baking errors. (confusing) entry 13 (Attempt 3/3): 429 POST https://generativelanguage.googleapis.com/v1beta/models/gemini-2.0-flash:generateContent?%24alt=json%3Benum-encoding%3Dint: You exceeded your current quota, please check your plan and billing details. For more information on this error, head to: https://ai.google.dev/gemini-api/docs/rate-limits.\n",
            "Failed to generate non-MH content for Culinary/Describe how to create a 'depressed' or 'sunken' cake, explaining the baking process and common baking errors. (confusing) entry 13 after 3 attempts.\n",
            "Warning: Content for non-MH entry Culinary/Describe how to create a 'depressed' or 'sunken' cake, explaining the baking process and common baking errors. (confusing) entry 14 too short (392 chars). Retrying...\n",
            "Warning: Content for non-MH entry Culinary/Describe how to create a 'depressed' or 'sunken' cake, explaining the baking process and common baking errors. (confusing) entry 15 too short (470 chars). Retrying...\n"
          ]
        },
        {
          "output_type": "stream",
          "name": "stderr",
          "text": [
            "\rGenerating 'confusing' non-MH entries:  80%|████████  | 8/10 [16:01<03:51, 115.83s/it]"
          ]
        },
        {
          "output_type": "stream",
          "name": "stdout",
          "text": [
            "Warning: Content for non-MH entry Weather/Describe a 'blue' sky on a clear day, or a 'down' pour of rain. Focus on meteorological descriptions. (confusing) entry 4 too short (401 chars). Retrying...\n",
            "Warning: Content for non-MH entry Weather/Describe a 'blue' sky on a clear day, or a 'down' pour of rain. Focus on meteorological descriptions. (confusing) entry 5 too short (411 chars). Retrying...\n",
            "Warning: Content for non-MH entry Weather/Describe a 'blue' sky on a clear day, or a 'down' pour of rain. Focus on meteorological descriptions. (confusing) entry 5 too short (479 chars). Retrying...\n",
            "Warning: Content for non-MH entry Weather/Describe a 'blue' sky on a clear day, or a 'down' pour of rain. Focus on meteorological descriptions. (confusing) entry 5 too short (405 chars). Retrying...\n",
            "Failed to generate non-MH content for Weather/Describe a 'blue' sky on a clear day, or a 'down' pour of rain. Focus on meteorological descriptions. (confusing) entry 5 after 3 attempts.\n",
            "Warning: Content for non-MH entry Weather/Describe a 'blue' sky on a clear day, or a 'down' pour of rain. Focus on meteorological descriptions. (confusing) entry 6 too short (360 chars). Retrying...\n",
            "Warning: Content for non-MH entry Weather/Describe a 'blue' sky on a clear day, or a 'down' pour of rain. Focus on meteorological descriptions. (confusing) entry 6 too short (374 chars). Retrying...\n",
            "Warning: Content for non-MH entry Weather/Describe a 'blue' sky on a clear day, or a 'down' pour of rain. Focus on meteorological descriptions. (confusing) entry 6 too short (309 chars). Retrying...\n",
            "Failed to generate non-MH content for Weather/Describe a 'blue' sky on a clear day, or a 'down' pour of rain. Focus on meteorological descriptions. (confusing) entry 6 after 3 attempts.\n",
            "Warning: Content for non-MH entry Weather/Describe a 'blue' sky on a clear day, or a 'down' pour of rain. Focus on meteorological descriptions. (confusing) entry 7 too short (332 chars). Retrying...\n"
          ]
        },
        {
          "output_type": "stream",
          "name": "stderr",
          "text": [
            "WARNING:tornado.access:429 POST /v1beta/models/gemini-2.0-flash:generateContent?%24alt=json%3Benum-encoding%3Dint (127.0.0.1) 634.65ms\n"
          ]
        },
        {
          "output_type": "stream",
          "name": "stdout",
          "text": [
            "Error generating non-MH content for Weather/Describe a 'blue' sky on a clear day, or a 'down' pour of rain. Focus on meteorological descriptions. (confusing) entry 7 (Attempt 2/3): 429 POST https://generativelanguage.googleapis.com/v1beta/models/gemini-2.0-flash:generateContent?%24alt=json%3Benum-encoding%3Dint: You exceeded your current quota, please check your plan and billing details. For more information on this error, head to: https://ai.google.dev/gemini-api/docs/rate-limits.\n"
          ]
        },
        {
          "output_type": "stream",
          "name": "stderr",
          "text": [
            "WARNING:tornado.access:429 POST /v1beta/models/gemini-2.0-flash:generateContent?%24alt=json%3Benum-encoding%3Dint (127.0.0.1) 633.42ms\n"
          ]
        },
        {
          "output_type": "stream",
          "name": "stdout",
          "text": [
            "Error generating non-MH content for Weather/Describe a 'blue' sky on a clear day, or a 'down' pour of rain. Focus on meteorological descriptions. (confusing) entry 7 (Attempt 3/3): 429 POST https://generativelanguage.googleapis.com/v1beta/models/gemini-2.0-flash:generateContent?%24alt=json%3Benum-encoding%3Dint: You exceeded your current quota, please check your plan and billing details. For more information on this error, head to: https://ai.google.dev/gemini-api/docs/rate-limits.\n",
            "Failed to generate non-MH content for Weather/Describe a 'blue' sky on a clear day, or a 'down' pour of rain. Focus on meteorological descriptions. (confusing) entry 7 after 3 attempts.\n",
            "Warning: Content for non-MH entry Weather/Describe a 'blue' sky on a clear day, or a 'down' pour of rain. Focus on meteorological descriptions. (confusing) entry 8 too short (437 chars). Retrying...\n",
            "Warning: Content for non-MH entry Weather/Describe a 'blue' sky on a clear day, or a 'down' pour of rain. Focus on meteorological descriptions. (confusing) entry 8 too short (288 chars). Retrying...\n",
            "Warning: Content for non-MH entry Weather/Describe a 'blue' sky on a clear day, or a 'down' pour of rain. Focus on meteorological descriptions. (confusing) entry 9 too short (408 chars). Retrying...\n",
            "Warning: Content for non-MH entry Weather/Describe a 'blue' sky on a clear day, or a 'down' pour of rain. Focus on meteorological descriptions. (confusing) entry 9 too short (306 chars). Retrying...\n",
            "Warning: Content for non-MH entry Weather/Describe a 'blue' sky on a clear day, or a 'down' pour of rain. Focus on meteorological descriptions. (confusing) entry 9 too short (344 chars). Retrying...\n",
            "Failed to generate non-MH content for Weather/Describe a 'blue' sky on a clear day, or a 'down' pour of rain. Focus on meteorological descriptions. (confusing) entry 9 after 3 attempts.\n",
            "Warning: Content for non-MH entry Weather/Describe a 'blue' sky on a clear day, or a 'down' pour of rain. Focus on meteorological descriptions. (confusing) entry 10 too short (361 chars). Retrying...\n",
            "Warning: Content for non-MH entry Weather/Describe a 'blue' sky on a clear day, or a 'down' pour of rain. Focus on meteorological descriptions. (confusing) entry 10 too short (414 chars). Retrying...\n",
            "Warning: Content for non-MH entry Weather/Describe a 'blue' sky on a clear day, or a 'down' pour of rain. Focus on meteorological descriptions. (confusing) entry 10 too short (471 chars). Retrying...\n",
            "Failed to generate non-MH content for Weather/Describe a 'blue' sky on a clear day, or a 'down' pour of rain. Focus on meteorological descriptions. (confusing) entry 10 after 3 attempts.\n",
            "Warning: Content for non-MH entry Weather/Describe a 'blue' sky on a clear day, or a 'down' pour of rain. Focus on meteorological descriptions. (confusing) entry 11 too short (292 chars). Retrying...\n",
            "Warning: Content for non-MH entry Weather/Describe a 'blue' sky on a clear day, or a 'down' pour of rain. Focus on meteorological descriptions. (confusing) entry 11 too short (340 chars). Retrying...\n",
            "Warning: Content for non-MH entry Weather/Describe a 'blue' sky on a clear day, or a 'down' pour of rain. Focus on meteorological descriptions. (confusing) entry 11 too short (376 chars). Retrying...\n",
            "Failed to generate non-MH content for Weather/Describe a 'blue' sky on a clear day, or a 'down' pour of rain. Focus on meteorological descriptions. (confusing) entry 11 after 3 attempts.\n",
            "Warning: Content for non-MH entry Weather/Describe a 'blue' sky on a clear day, or a 'down' pour of rain. Focus on meteorological descriptions. (confusing) entry 12 too short (342 chars). Retrying...\n",
            "Warning: Content for non-MH entry Weather/Describe a 'blue' sky on a clear day, or a 'down' pour of rain. Focus on meteorological descriptions. (confusing) entry 12 too short (432 chars). Retrying...\n",
            "Warning: Content for non-MH entry Weather/Describe a 'blue' sky on a clear day, or a 'down' pour of rain. Focus on meteorological descriptions. (confusing) entry 12 too short (265 chars). Retrying...\n",
            "Failed to generate non-MH content for Weather/Describe a 'blue' sky on a clear day, or a 'down' pour of rain. Focus on meteorological descriptions. (confusing) entry 12 after 3 attempts.\n"
          ]
        },
        {
          "output_type": "stream",
          "name": "stderr",
          "text": [
            "WARNING:tornado.access:429 POST /v1beta/models/gemini-2.0-flash:generateContent?%24alt=json%3Benum-encoding%3Dint (127.0.0.1) 633.09ms\n"
          ]
        },
        {
          "output_type": "stream",
          "name": "stdout",
          "text": [
            "Error generating non-MH content for Weather/Describe a 'blue' sky on a clear day, or a 'down' pour of rain. Focus on meteorological descriptions. (confusing) entry 14 (Attempt 1/3): 429 POST https://generativelanguage.googleapis.com/v1beta/models/gemini-2.0-flash:generateContent?%24alt=json%3Benum-encoding%3Dint: You exceeded your current quota, please check your plan and billing details. For more information on this error, head to: https://ai.google.dev/gemini-api/docs/rate-limits.\n",
            "Warning: Content for non-MH entry Weather/Describe a 'blue' sky on a clear day, or a 'down' pour of rain. Focus on meteorological descriptions. (confusing) entry 14 too short (416 chars). Retrying...\n",
            "Warning: Content for non-MH entry Weather/Describe a 'blue' sky on a clear day, or a 'down' pour of rain. Focus on meteorological descriptions. (confusing) entry 14 too short (424 chars). Retrying...\n",
            "Failed to generate non-MH content for Weather/Describe a 'blue' sky on a clear day, or a 'down' pour of rain. Focus on meteorological descriptions. (confusing) entry 14 after 3 attempts.\n",
            "Warning: Content for non-MH entry Weather/Describe a 'blue' sky on a clear day, or a 'down' pour of rain. Focus on meteorological descriptions. (confusing) entry 15 too short (481 chars). Retrying...\n",
            "Warning: Content for non-MH entry Weather/Describe a 'blue' sky on a clear day, or a 'down' pour of rain. Focus on meteorological descriptions. (confusing) entry 15 too short (285 chars). Retrying...\n",
            "Warning: Content for non-MH entry Weather/Describe a 'blue' sky on a clear day, or a 'down' pour of rain. Focus on meteorological descriptions. (confusing) entry 15 too short (299 chars). Retrying...\n",
            "Failed to generate non-MH content for Weather/Describe a 'blue' sky on a clear day, or a 'down' pour of rain. Focus on meteorological descriptions. (confusing) entry 15 after 3 attempts.\n"
          ]
        },
        {
          "output_type": "stream",
          "name": "stderr",
          "text": [
            "\rGenerating 'confusing' non-MH entries:  90%|█████████ | 9/10 [18:09<01:59, 119.70s/it]"
          ]
        },
        {
          "output_type": "stream",
          "name": "stdout",
          "text": [
            "Warning: Content for non-MH entry Music/Discuss the 'mood' of a particular piece of classical music, describing its tempo, instrumentation, and emotional impact on the listener purely from an aesthetic perspective, not mental health states. (confusing) entry 1 too short (355 chars). Retrying...\n",
            "Warning: Content for non-MH entry Music/Discuss the 'mood' of a particular piece of classical music, describing its tempo, instrumentation, and emotional impact on the listener purely from an aesthetic perspective, not mental health states. (confusing) entry 1 too short (474 chars). Retrying...\n",
            "Warning: Content for non-MH entry Music/Discuss the 'mood' of a particular piece of classical music, describing its tempo, instrumentation, and emotional impact on the listener purely from an aesthetic perspective, not mental health states. (confusing) entry 1 too short (491 chars). Retrying...\n",
            "Failed to generate non-MH content for Music/Discuss the 'mood' of a particular piece of classical music, describing its tempo, instrumentation, and emotional impact on the listener purely from an aesthetic perspective, not mental health states. (confusing) entry 1 after 3 attempts.\n",
            "Warning: Content for non-MH entry Music/Discuss the 'mood' of a particular piece of classical music, describing its tempo, instrumentation, and emotional impact on the listener purely from an aesthetic perspective, not mental health states. (confusing) entry 2 too short (448 chars). Retrying...\n",
            "Warning: Content for non-MH entry Music/Discuss the 'mood' of a particular piece of classical music, describing its tempo, instrumentation, and emotional impact on the listener purely from an aesthetic perspective, not mental health states. (confusing) entry 3 too short (432 chars). Retrying...\n",
            "Warning: Content for non-MH entry Music/Discuss the 'mood' of a particular piece of classical music, describing its tempo, instrumentation, and emotional impact on the listener purely from an aesthetic perspective, not mental health states. (confusing) entry 3 too short (390 chars). Retrying...\n",
            "Warning: Content for non-MH entry Music/Discuss the 'mood' of a particular piece of classical music, describing its tempo, instrumentation, and emotional impact on the listener purely from an aesthetic perspective, not mental health states. (confusing) entry 3 too short (370 chars). Retrying...\n",
            "Failed to generate non-MH content for Music/Discuss the 'mood' of a particular piece of classical music, describing its tempo, instrumentation, and emotional impact on the listener purely from an aesthetic perspective, not mental health states. (confusing) entry 3 after 3 attempts.\n",
            "Warning: Content for non-MH entry Music/Discuss the 'mood' of a particular piece of classical music, describing its tempo, instrumentation, and emotional impact on the listener purely from an aesthetic perspective, not mental health states. (confusing) entry 4 too short (464 chars). Retrying...\n",
            "Warning: Content for non-MH entry Music/Discuss the 'mood' of a particular piece of classical music, describing its tempo, instrumentation, and emotional impact on the listener purely from an aesthetic perspective, not mental health states. (confusing) entry 4 too short (394 chars). Retrying...\n",
            "Warning: Content for non-MH entry Music/Discuss the 'mood' of a particular piece of classical music, describing its tempo, instrumentation, and emotional impact on the listener purely from an aesthetic perspective, not mental health states. (confusing) entry 4 too short (389 chars). Retrying...\n",
            "Failed to generate non-MH content for Music/Discuss the 'mood' of a particular piece of classical music, describing its tempo, instrumentation, and emotional impact on the listener purely from an aesthetic perspective, not mental health states. (confusing) entry 4 after 3 attempts.\n",
            "Warning: Content for non-MH entry Music/Discuss the 'mood' of a particular piece of classical music, describing its tempo, instrumentation, and emotional impact on the listener purely from an aesthetic perspective, not mental health states. (confusing) entry 5 too short (409 chars). Retrying...\n",
            "Warning: Content for non-MH entry Music/Discuss the 'mood' of a particular piece of classical music, describing its tempo, instrumentation, and emotional impact on the listener purely from an aesthetic perspective, not mental health states. (confusing) entry 5 too short (391 chars). Retrying...\n",
            "Warning: Content for non-MH entry Music/Discuss the 'mood' of a particular piece of classical music, describing its tempo, instrumentation, and emotional impact on the listener purely from an aesthetic perspective, not mental health states. (confusing) entry 6 too short (342 chars). Retrying...\n",
            "Warning: Content for non-MH entry Music/Discuss the 'mood' of a particular piece of classical music, describing its tempo, instrumentation, and emotional impact on the listener purely from an aesthetic perspective, not mental health states. (confusing) entry 6 too short (450 chars). Retrying...\n",
            "Warning: Content for non-MH entry Music/Discuss the 'mood' of a particular piece of classical music, describing its tempo, instrumentation, and emotional impact on the listener purely from an aesthetic perspective, not mental health states. (confusing) entry 6 too short (378 chars). Retrying...\n",
            "Failed to generate non-MH content for Music/Discuss the 'mood' of a particular piece of classical music, describing its tempo, instrumentation, and emotional impact on the listener purely from an aesthetic perspective, not mental health states. (confusing) entry 6 after 3 attempts.\n",
            "Warning: Content for non-MH entry Music/Discuss the 'mood' of a particular piece of classical music, describing its tempo, instrumentation, and emotional impact on the listener purely from an aesthetic perspective, not mental health states. (confusing) entry 7 too short (380 chars). Retrying...\n",
            "Warning: Content for non-MH entry Music/Discuss the 'mood' of a particular piece of classical music, describing its tempo, instrumentation, and emotional impact on the listener purely from an aesthetic perspective, not mental health states. (confusing) entry 7 too short (377 chars). Retrying...\n",
            "Warning: Content for non-MH entry Music/Discuss the 'mood' of a particular piece of classical music, describing its tempo, instrumentation, and emotional impact on the listener purely from an aesthetic perspective, not mental health states. (confusing) entry 7 too short (484 chars). Retrying...\n",
            "Failed to generate non-MH content for Music/Discuss the 'mood' of a particular piece of classical music, describing its tempo, instrumentation, and emotional impact on the listener purely from an aesthetic perspective, not mental health states. (confusing) entry 7 after 3 attempts.\n",
            "Warning: Content for non-MH entry Music/Discuss the 'mood' of a particular piece of classical music, describing its tempo, instrumentation, and emotional impact on the listener purely from an aesthetic perspective, not mental health states. (confusing) entry 8 too short (462 chars). Retrying...\n",
            "Warning: Content for non-MH entry Music/Discuss the 'mood' of a particular piece of classical music, describing its tempo, instrumentation, and emotional impact on the listener purely from an aesthetic perspective, not mental health states. (confusing) entry 8 too short (377 chars). Retrying...\n",
            "Warning: Content for non-MH entry Music/Discuss the 'mood' of a particular piece of classical music, describing its tempo, instrumentation, and emotional impact on the listener purely from an aesthetic perspective, not mental health states. (confusing) entry 8 too short (381 chars). Retrying...\n",
            "Failed to generate non-MH content for Music/Discuss the 'mood' of a particular piece of classical music, describing its tempo, instrumentation, and emotional impact on the listener purely from an aesthetic perspective, not mental health states. (confusing) entry 8 after 3 attempts.\n",
            "Warning: Content for non-MH entry Music/Discuss the 'mood' of a particular piece of classical music, describing its tempo, instrumentation, and emotional impact on the listener purely from an aesthetic perspective, not mental health states. (confusing) entry 10 too short (456 chars). Retrying...\n",
            "Warning: Content for non-MH entry Music/Discuss the 'mood' of a particular piece of classical music, describing its tempo, instrumentation, and emotional impact on the listener purely from an aesthetic perspective, not mental health states. (confusing) entry 10 too short (458 chars). Retrying...\n",
            "Warning: Content for non-MH entry Music/Discuss the 'mood' of a particular piece of classical music, describing its tempo, instrumentation, and emotional impact on the listener purely from an aesthetic perspective, not mental health states. (confusing) entry 10 too short (398 chars). Retrying...\n",
            "Failed to generate non-MH content for Music/Discuss the 'mood' of a particular piece of classical music, describing its tempo, instrumentation, and emotional impact on the listener purely from an aesthetic perspective, not mental health states. (confusing) entry 10 after 3 attempts.\n"
          ]
        },
        {
          "output_type": "stream",
          "name": "stderr",
          "text": [
            "WARNING:tornado.access:429 POST /v1beta/models/gemini-2.0-flash:generateContent?%24alt=json%3Benum-encoding%3Dint (127.0.0.1) 633.51ms\n"
          ]
        },
        {
          "output_type": "stream",
          "name": "stdout",
          "text": [
            "Error generating non-MH content for Music/Discuss the 'mood' of a particular piece of classical music, describing its tempo, instrumentation, and emotional impact on the listener purely from an aesthetic perspective, not mental health states. (confusing) entry 11 (Attempt 1/3): 429 POST https://generativelanguage.googleapis.com/v1beta/models/gemini-2.0-flash:generateContent?%24alt=json%3Benum-encoding%3Dint: You exceeded your current quota, please check your plan and billing details. For more information on this error, head to: https://ai.google.dev/gemini-api/docs/rate-limits.\n",
            "Warning: Content for non-MH entry Music/Discuss the 'mood' of a particular piece of classical music, describing its tempo, instrumentation, and emotional impact on the listener purely from an aesthetic perspective, not mental health states. (confusing) entry 11 too short (469 chars). Retrying...\n",
            "Warning: Content for non-MH entry Music/Discuss the 'mood' of a particular piece of classical music, describing its tempo, instrumentation, and emotional impact on the listener purely from an aesthetic perspective, not mental health states. (confusing) entry 11 too short (336 chars). Retrying...\n",
            "Failed to generate non-MH content for Music/Discuss the 'mood' of a particular piece of classical music, describing its tempo, instrumentation, and emotional impact on the listener purely from an aesthetic perspective, not mental health states. (confusing) entry 11 after 3 attempts.\n",
            "Warning: Content for non-MH entry Music/Discuss the 'mood' of a particular piece of classical music, describing its tempo, instrumentation, and emotional impact on the listener purely from an aesthetic perspective, not mental health states. (confusing) entry 12 too short (380 chars). Retrying...\n",
            "Warning: Content for non-MH entry Music/Discuss the 'mood' of a particular piece of classical music, describing its tempo, instrumentation, and emotional impact on the listener purely from an aesthetic perspective, not mental health states. (confusing) entry 12 too short (342 chars). Retrying...\n",
            "Warning: Content for non-MH entry Music/Discuss the 'mood' of a particular piece of classical music, describing its tempo, instrumentation, and emotional impact on the listener purely from an aesthetic perspective, not mental health states. (confusing) entry 12 too short (431 chars). Retrying...\n",
            "Failed to generate non-MH content for Music/Discuss the 'mood' of a particular piece of classical music, describing its tempo, instrumentation, and emotional impact on the listener purely from an aesthetic perspective, not mental health states. (confusing) entry 12 after 3 attempts.\n",
            "Warning: Content for non-MH entry Music/Discuss the 'mood' of a particular piece of classical music, describing its tempo, instrumentation, and emotional impact on the listener purely from an aesthetic perspective, not mental health states. (confusing) entry 13 too short (478 chars). Retrying...\n",
            "Warning: Content for non-MH entry Music/Discuss the 'mood' of a particular piece of classical music, describing its tempo, instrumentation, and emotional impact on the listener purely from an aesthetic perspective, not mental health states. (confusing) entry 13 too short (438 chars). Retrying...\n",
            "Warning: Content for non-MH entry Music/Discuss the 'mood' of a particular piece of classical music, describing its tempo, instrumentation, and emotional impact on the listener purely from an aesthetic perspective, not mental health states. (confusing) entry 13 too short (469 chars). Retrying...\n",
            "Failed to generate non-MH content for Music/Discuss the 'mood' of a particular piece of classical music, describing its tempo, instrumentation, and emotional impact on the listener purely from an aesthetic perspective, not mental health states. (confusing) entry 13 after 3 attempts.\n",
            "Warning: Content for non-MH entry Music/Discuss the 'mood' of a particular piece of classical music, describing its tempo, instrumentation, and emotional impact on the listener purely from an aesthetic perspective, not mental health states. (confusing) entry 15 too short (392 chars). Retrying...\n"
          ]
        },
        {
          "output_type": "stream",
          "name": "stderr",
          "text": [
            "Generating 'confusing' non-MH entries: 100%|██████████| 10/10 [20:31<00:00, 123.12s/it]"
          ]
        },
        {
          "output_type": "stream",
          "name": "stdout",
          "text": [
            "\n",
            "Total non-mental health entries generated and saved to /content/drive/MyDrive/Mental Health/non_mental_health_dataset.csv: 717\n",
            "\n",
            "Sample of updated non-mental health data:\n",
            "    category                                          sub_topic  \\\n",
            "712    Music  Discuss the 'mood' of a particular piece of cl...   \n",
            "713    Music  Discuss the 'mood' of a particular piece of cl...   \n",
            "714    Music  Discuss the 'mood' of a particular piece of cl...   \n",
            "715    Music  Discuss the 'mood' of a particular piece of cl...   \n",
            "716    Music  Discuss the 'mood' of a particular piece of cl...   \n",
            "\n",
            "                                                 title  \\\n",
            "712  Failed to generate for Discuss the 'mood' of a...   \n",
            "713  Failed to generate for Discuss the 'mood' of a...   \n",
            "714  Failed to generate for Discuss the 'mood' of a...   \n",
            "715  ### Shostakovich's Waltz No. 2: A Dance of Sha...   \n",
            "716                  ### Alpine Dawn: Smetana's Moldau   \n",
            "\n",
            "                                               content  is_mental_health  \\\n",
            "712                         Content generation failed.             False   \n",
            "713                         Content generation failed.             False   \n",
            "714                         Content generation failed.             False   \n",
            "715  Shostakovich's Waltz No. 2, from his Suite for...             False   \n",
            "716  Smetana's \"Moldau\" paints a vivid sonic landsc...             False   \n",
            "\n",
            "     is_confusing_keyword_type  \n",
            "712                       True  \n",
            "713                       True  \n",
            "714                       True  \n",
            "715                       True  \n",
            "716                       True  \n",
            "\n",
            "Entry counts by category and confusing type:\n",
            "is_confusing_keyword_type       False  True \n",
            "category                                    \n",
            "Botany                              0     15\n",
            "Cooking & Recipes                  63      0\n",
            "Culinary                            0     15\n",
            "DIY                                 0     15\n",
            "Daily Life                          0     15\n",
            "Engineering                         0     15\n",
            "Everyday Life (neutral)            63      0\n",
            "Finance                             0     15\n",
            "Finance & Economics                63      0\n",
            "History & Culture                  63      0\n",
            "Home Improvement & DIY             63      0\n",
            "Music                               0     15\n",
            "Science & Nature (non-medical)     63      0\n",
            "Sports                              0     15\n",
            "Sports & Fitness                   63      0\n",
            "Technology & Gadgets               63      0\n",
            "Travel                              0     15\n",
            "Travel & Tourism                   63      0\n",
            "Weather                             0     15\n",
            "\n",
            "Total non-mental health entries: 717\n"
          ]
        },
        {
          "output_type": "stream",
          "name": "stderr",
          "text": [
            "\n"
          ]
        }
      ]
    },
    {
      "cell_type": "markdown",
      "source": [
        "still a lot of duplicates"
      ],
      "metadata": {
        "id": "IDsII0_UGEja"
      }
    },
    {
      "cell_type": "code",
      "source": [
        "from google.colab import drive, userdata\n",
        "import google.generativeai as genai\n",
        "import os\n",
        "import pandas as pd\n",
        "from tqdm import tqdm\n",
        "import time\n",
        "import random\n",
        "import hashlib # For creating content hashes\n",
        "from google.api_core.exceptions import ResourceExhausted, GoogleAPIError\n",
        "\n",
        "# --- Configuration ---\n",
        "# Securely configure Gemini API Key using Google Colab Secrets\n",
        "try:\n",
        "    genai.configure(api_key=userdata.get(\"GOOGLE_API_KEY_3\"))\n",
        "except Exception as e:\n",
        "    print(f\"Error configuring Gemini API: {e}\")\n",
        "    print(\"Please ensure you have set 'GOOGLE_API_KEY_3' in Google Colab Secrets (key icon on the left sidebar).\")\n",
        "    exit()\n",
        "\n",
        "# Initialize the Generative Model with Gemini 1.5 Flash.\n",
        "model = genai.GenerativeModel('gemini-2.0-flash')\n",
        "\n",
        "# Mount Google Drive\n",
        "drive.mount('/content/drive')\n",
        "\n",
        "# --- List of mental health conditions ---\n",
        "diseases = [\n",
        "    'acute stress disorder', 'chronic stress', 'episodic acute stress',\n",
        "    'obsessive-compulsive disorder (contamination type)', 'obsessive-compulsive disorder (symmetry type)',\n",
        "    'obsessive-compulsive disorder (checking type)', 'generalized anxiety disorder',\n",
        "    'major depressive disorder', 'postpartum depression', 'atypical depression',\n",
        "    'panic disorder with agoraphobia', 'separation anxiety disorder',\n",
        "    'single event trauma (PTSD)', 'complex trauma (C-PTSD)', 'developmental trauma',\n",
        "    'social anxiety disorder', 'body dysmorphic disorder', 'bipolar II disorder',\n",
        "    'borderline personality disorder (emotional dysregulation focus)', 'eating disorder (anorexia nervosa)'\n",
        "]\n",
        "\n",
        "# --- Prompt Engineering for Gemini 1.5/2.0 Flash ---\n",
        "\n",
        "def generate_entry(condition, style, entry_sequence_num, is_edge_case=False):\n",
        "    \"\"\"\n",
        "    Generates a single mental health entry.\n",
        "    Includes robust retry mechanism with exponential backoff for API errors.\n",
        "    Returns the entry dictionary on success, None on failure (content too short, duplicate, or persistent API errors).\n",
        "    \"\"\"\n",
        "    max_retries = 8 # Increased retries for better success rate\n",
        "    initial_delay = 1 # seconds\n",
        "    min_content_length = 1500 # Minimum length for content (excluding title)\n",
        "    max_content_length = 9000 # Maximum length for content (excluding title)\n",
        "\n",
        "    for attempt in range(max_retries):\n",
        "        current_delay = initial_delay * (2 ** attempt) + random.uniform(0, 1) # Exponential backoff with jitter\n",
        "\n",
        "        # Add a unique identifier to the prompt to encourage different responses\n",
        "        # This will help Gemini know it's a new request even for the same base condition/style\n",
        "        unique_prompt_seed = f\"Generation attempt {entry_sequence_num}, run_id: {int(time.time()) + random.randint(0, 1000)}\"\n",
        "\n",
        "        if style == 'doctor':\n",
        "            base_prompt_instructions = f\"\"\"\n",
        "            You are a highly experienced, board-certified psychiatrist or clinical psychologist writing a comprehensive, empathetic, and evidence-based article for a reputable mental health awareness website, targeting a general audience. The goal is to inform, destigmatize, and offer hope.\n",
        "\n",
        "            **Condition Focus:** {condition}\n",
        "            **Tone:** Professional, empathetic, clear, authoritative yet accessible.\n",
        "            **Language:** Use clear, concise language, explaining any technical terms simply.\n",
        "            \"\"\"\n",
        "            if is_edge_case:\n",
        "                edge_case_instructions = f\"\"\"\n",
        "                **Special Focus (Edge Case for Doctor's Perspective):** For this specific article, focus on a **less common or particularly challenging aspect** of {condition}. Choose ONE of the following to elaborate on:\n",
        "                * An **atypical symptom presentation** (e.g., masked symptoms, presentation in specific overlooked demographics like the elderly or culturally diverse groups, or symptoms that strongly mimic physical illness).\n",
        "                * **Complex comorbidities** that significantly complicate diagnosis, prognosis, or treatment planning for {condition} (e.g., co-occurring severe physical illness, multiple personality disorders, or complex neurological conditions).\n",
        "                * Challenges in **differential diagnosis** when {condition} presents similarly to other, vastly different conditions, requiring nuanced clinical judgment.\n",
        "                * **Resistance to standard treatments** or the necessity for highly specialized, multidisciplinary, or novel interventions (e.g., intensive inpatient care, specific neuro-modulation techniques, very integrated care models) not commonly discussed.\n",
        "                * Profound **cultural or socio-economic factors** that uniquely influence the presentation, stigma, or access to care for {condition} in specific populations.\n",
        "                * A focus on a specific, **less-discussed subtype or manifestation** of {condition} that poses unique clinical challenges.\n",
        "                * **Your goal is to provide deep, insightful clinical perspective on this specific challenging facet.** Avoid generic information; make this article distinct from typical overviews.\n",
        "                \"\"\"\n",
        "            else:\n",
        "                edge_case_instructions = f\"\"\"\n",
        "                **Special Focus (Typical Case for Doctor's Perspective):** For this specific article, provide a deep dive into the **typical and most common presentations, diagnostic pathways, and first-line, evidence-based treatment strategies** for {condition}. Choose ONE of the following to elaborate on:\n",
        "                * The **classic symptomology** and how it commonly impacts an individual's functioning across various life domains.\n",
        "                * The **standard diagnostic process**, including common assessment tools and criteria used in routine clinical practice.\n",
        "                * The **most widely accepted and effective first-line treatments**, detailing how they work and what a typical treatment journey involves.\n",
        "                * **Early intervention strategies** for {condition} and their impact on long-term prognosis.\n",
        "                * **Psychoeducation** for patients and families about managing {condition} in a typical course.\n",
        "                * **Your goal is to provide a detailed, yet accessible, overview of the common clinical picture and standard management.** Avoid highly niche or unusual scenarios.\n",
        "                \"\"\"\n",
        "\n",
        "            prompt = f\"\"\"\n",
        "            {base_prompt_instructions}\n",
        "            {edge_case_instructions}\n",
        "\n",
        "            **Required Structure & Content (Strictly Adhere to Lengths and Sections):**\n",
        "            1.  **Title:** A compelling, informative title (10-100 characters). Should clearly indicate the condition and, if applicable, hint at the specific focus (e.g., \"Understanding Atypical Presentations of PTSD\").\n",
        "            2.  **Introduction (200-500 characters):** Briefly define the condition and its prevalence. Hook the reader with a relevant statistic or a compelling statement related to the article's specific focus.\n",
        "            3.  **Clinical Overview & Diagnostic Nuances (700-2000 characters):**\n",
        "                * Detailed definition and specific diagnostic criteria relevant to your chosen focus (typical or edge case).\n",
        "                * Common and, crucially, *atypical or nuanced* symptoms (emotional, physical, cognitive, behavioral) as they relate to the article's specific angle.\n",
        "                * Potential triggers and risk factors, highlighting any less obvious ones relevant to the specific focus.\n",
        "                * Brief explanation of underlying mechanisms or contributing factors.\n",
        "            4.  **Impact on Daily Life (300-800 characters):** Describe how this condition typically or uniquely affects an individual's life, including specific challenges presented by the chosen focus.\n",
        "            5.  **Treatment & Management Strategies (800-3000 characters):**\n",
        "                * Overview of evidence-based therapies (e.g., CBT, DBT, EMDR, psychodynamic) relevant to the specific focus.\n",
        "                * Pharmacological interventions (if applicable), noting any considerations for the specific scenario.\n",
        "                * Self-care strategies and the importance of social support and community resources.\n",
        "                * Crucially, discuss adaptations or considerations for the specific aspect of the condition being highlighted (e.g., multidisciplinary approaches for complex cases, tailored interventions for atypical presentations).\n",
        "            6.  **Patient Vignette or Quote (150-400 characters):** A short, anonymized, realistic quote or brief scenario illustrating a key challenge or insight, specifically related to the discussed presentation (typical or edge case). Make it unique for this entry.\n",
        "            7.  **Conclusion & Encouragement (200-500 characters):** Summarize key takeaways, emphasize hope, recovery, and encourage seeking professional help and self-compassion, with a closing thought relevant to the article's specific focus.\n",
        "\n",
        "            **Output Format:**\n",
        "            Start directly with the title, then a new line, then the content. Ensure the total content length (excluding title) is between {min_content_length} and {max_content_length} characters. Maintain medical accuracy and avoid any fabricated statistics or treatments.\n",
        "            {unique_prompt_seed}\n",
        "            \"\"\"\n",
        "        else: # style == 'patient'\n",
        "            base_prompt_instructions = f\"\"\"\n",
        "            You are a person bravely sharing your deeply personal, first-person story about living with {condition}. Your narrative is intended to offer solidarity, understanding, and hope to others who might be struggling or to educate those who want to understand.\n",
        "\n",
        "            **Condition Focus:** {condition}\n",
        "            **Tone:** Authentic, vulnerable, reflective, hopeful, and relatable.\n",
        "            **Language:** Use natural, descriptive language.\n",
        "            \"\"\"\n",
        "            if is_edge_case:\n",
        "                edge_case_instructions = f\"\"\"\n",
        "                **Special Focus (Edge Case for Patient's Story):** For this specific personal story, highlight a **less typical or particularly challenging aspect** of your journey with {condition}. Choose ONE of the following to elaborate on:\n",
        "                * Your experience with **misdiagnosis** or a **very long and frustrating diagnostic journey** spanning years or multiple professionals.\n",
        "                * The **late-onset of symptoms** in adulthood or elderly years, and how this differed from typical adolescent/young adult onset.\n",
        "                * How the condition manifested or was perceived differently due to your **age, gender identity, or cultural/ethnic background**, leading to unique challenges.\n",
        "                * Living with **severe, chronic, or highly debilitating symptoms** that significantly impact daily functioning, and the unique strategies you employ to cope.\n",
        "                * Navigating the healthcare system with **unusual obstacles** (e.g., extreme geographical isolation, severe financial constraints, lack of specialized care for your specific needs).\n",
        "                * Coping with {condition} alongside **major, compounding life events** (e.g., severe grief, job loss, becoming a new parent, chronic physical illness) that severely exacerbated your mental health.\n",
        "                * The discovery and implementation of **unconventional or highly personalized coping strategies** that eventually worked for you after many standard approaches failed.\n",
        "                * A raw and honest story of **significant relapse** or a non-linear, messy recovery path with numerous setbacks, and how you found resilience.\n",
        "                * **Share a truly unique and specific personal experience** that goes beyond the common narrative.\n",
        "                \"\"\"\n",
        "            else:\n",
        "                edge_case_instructions = f\"\"\"\n",
        "                **Special Focus (Typical Case for Patient's Story):** For this specific story, describe a **common or typical experience** of living with {condition}, focusing on the general onset, impact, and recovery journey. Choose ONE of the following to elaborate on:\n",
        "                * The **initial, recognizable symptoms** and how they commonly manifested in your daily life.\n",
        "                * The **standard impact** {condition} had on your relationships, work/school, hobbies, and overall well-being.\n",
        "                * Your experience with **common therapies or coping mechanisms** (e.g., CBT, medication, support groups) that are widely used and how they helped you.\n",
        "                * The process of **seeking and receiving a diagnosis** and your initial reactions to it.\n",
        "                * How routine self-care practices played a role in your recovery.\n",
        "                * **Provide specific, relatable details within a common experience** that resonates with many others facing {condition}. Avoid highly unusual or extreme scenarios unless contrasting with a typical experience.\n",
        "                \"\"\"\n",
        "\n",
        "            prompt = f\"\"\"\n",
        "            {base_prompt_instructions}\n",
        "            {edge_case_instructions}\n",
        "\n",
        "            **Required Structure & Content (Strictly Adhere to Lengths and Sections):**\n",
        "            1.  **Title:** A heartfelt, evocative title (10-100 characters). Should capture the essence of your journey and hint at the specific aspect (typical or edge case).\n",
        "            2.  **My Background & Early Signs (200-500 characters):** Briefly introduce yourself and describe when you first started noticing symptoms or challenges related to the condition, with details specific to your chosen focus.\n",
        "            3.  **The Onset and Emotional Impact (700-2000 characters):** Detail the moment or period when the condition became undeniable. Describe the initial emotional turmoil, confusion, fear, isolation, or other feelings, particularly as experienced in your specific (typical or edge case) scenario.\n",
        "            4.  **Daily Struggles and Challenges (800-3000 characters):** Paint a vivid picture of the day-to-day difficulties. How did it affect your relationships, work/school, hobbies, and overall quality of life? Include specific examples of struggles, emphasizing the unique challenges of the edge case if applicable.\n",
        "            5.  **Finding Help and Coping Strategies (700-2000 characters):** Describe your journey to diagnosis and seeking help. What therapies, medications, self-help techniques, or support systems did you try? Which were helpful, and which were not? Detail specific coping mechanisms, especially those adapted for complex situations or those you found particularly effective for your specific experience.\n",
        "            6.  **Current Status and Lessons Learned (300-800 characters):** Where are you now in your journey? What insights have you gained? How has your perspective changed? Reflect on the specific challenges overcome and lessons learned from your unique path.\n",
        "            7.  **A Message for Others (200-500 characters):** Offer encouragement, advice, or a message of hope to others who might be experiencing similar challenges. What do you wish someone had told you? Tailor this message to those facing similar edge cases or typical struggles.\n",
        "\n",
        "            **Output Format:**\n",
        "            Start directly with the title, then a new line, then the content. Ensure the total content length (excluding title) is between {min_content_length} and {max_content_length} characters. Focus on emotional authenticity and a clear narrative arc.\n",
        "            {unique_prompt_seed}\n",
        "            \"\"\"\n",
        "        try:\n",
        "            response = model.generate_content(\n",
        "                prompt,\n",
        "                generation_config=genai.types.GenerationConfig(\n",
        "                    temperature=0.85, # Slightly higher temperature for more creativity and less repetition\n",
        "                    max_output_tokens=max_content_length + 500, # Allow some buffer for title + content + formatting\n",
        "                    stop_sequences=[]\n",
        "                )\n",
        "            )\n",
        "\n",
        "            text = response.text.strip()\n",
        "\n",
        "            # Robust parsing for title and content\n",
        "            title = \"\"\n",
        "            content = \"\"\n",
        "            lines = text.split('\\n', 1) # Split only on the first newline\n",
        "\n",
        "            if len(lines) > 1:\n",
        "                potential_title = lines[0].strip()\n",
        "                potential_content = lines[1].strip()\n",
        "\n",
        "                # Basic check for title length and if it looks like a title\n",
        "                if 10 <= len(potential_title) <= 100 and potential_title.count('\\n') == 0:\n",
        "                    title = potential_title\n",
        "                    content = potential_content\n",
        "                else: # Fallback if first line isn't a good title\n",
        "                    first_period_idx = text.find('.')\n",
        "                    if first_period_idx != -1 and first_period_idx < 100:\n",
        "                        title = text[:first_period_idx+1].strip()\n",
        "                        content = text[first_period_idx+1:].strip()\n",
        "                    else: # Last resort if no clear title/content separation\n",
        "                        title = text[:min(len(text), 100)].split('\\n')[0].strip() # Take first 100 chars, up to first newline\n",
        "                        content = text[len(title):].strip()\n",
        "            else: # If no newline at all\n",
        "                title = text[:min(len(text), 100)].split('.')[0].strip() + \"...\" if len(text) > 100 else text.strip()\n",
        "                content = text[len(title):].strip()\n",
        "\n",
        "\n",
        "            # Ensure title is not too long\n",
        "            if len(title) > 100:\n",
        "                title = title[:97] + \"...\"\n",
        "\n",
        "            # Check for failed generation content indicators from the model itself\n",
        "            failed_keywords = [\"failed to generate\", \"content generation failed\", \"error occurred\", \"quota exceeded\", \"i cannot fulfill this request\"]\n",
        "            if any(kw in content.lower() for kw in failed_keywords) or any(kw in title.lower() for kw in failed_keywords):\n",
        "                print(f\"Warning: API generated failure message for {condition} ({style}) entry {entry_sequence_num} (Edge Case: {is_edge_case}). Retrying...\")\n",
        "                time.sleep(current_delay)\n",
        "                continue # Retry if it's an API-generated failure message\n",
        "\n",
        "            # Basic content length check\n",
        "            if not (min_content_length <= len(content) <= max_content_length):\n",
        "                print(f\"Warning: Content for {condition} ({style}) entry {entry_sequence_num} (Edge Case: {is_edge_case}) not within length limits ({len(content)} chars). Retrying...\")\n",
        "                time.sleep(current_delay) # Small delay for retry\n",
        "                continue\n",
        "\n",
        "            return {\n",
        "                'condition': condition,\n",
        "                'style': style,\n",
        "                'title': title,\n",
        "                'content': content,\n",
        "                'is_mental_health': True, # This is the crucial label for mental health data\n",
        "                'is_edge_case': is_edge_case # New column to track if it's an edge case\n",
        "            }\n",
        "\n",
        "        except ResourceExhausted as e:\n",
        "            # Re-raise ResourceExhausted directly to be caught by the outer try-except\n",
        "            raise e\n",
        "        except GoogleAPIError as e:\n",
        "            if e.response.status_code == 429: # Explicitly check for 429 (rate limit)\n",
        "                # Re-raise 429 errors as ResourceExhausted for consistent outer handling\n",
        "                raise ResourceExhausted(f\"API Rate Limit (429) hit: {e.message}\")\n",
        "            else:\n",
        "                print(f\"Google API Error for {condition} ({style}) entry {entry_sequence_num} (Attempt {attempt+1}/{max_retries}): {e}\")\n",
        "                time.sleep(current_delay) # Wait for other API errors too\n",
        "        except Exception as e:\n",
        "            print(f\"Unexpected Error generating content for {condition} ({style}) entry {entry_sequence_num} (Attempt {attempt+1}/{max_retries}): {e}\")\n",
        "            time.sleep(current_delay)\n",
        "            continue # Try again for other errors\n",
        "\n",
        "    # If all retries fail, return None so it's not added to the dataset\n",
        "    print(f\"Failed to generate valid content for {condition} ({style}) entry {entry_sequence_num} (Edge Case: {is_edge_case}) after {max_retries} attempts. Skipping this entry.\")\n",
        "    return None\n",
        "\n",
        "# --- Main Generation Logic ---\n",
        "output_dir = '/content/drive/MyDrive/Mental Health'\n",
        "output_path = os.path.join(output_dir, 'mental_health_dataset_enhanced3.csv')\n",
        "os.makedirs(output_dir, exist_ok=True)\n",
        "\n",
        "# Load existing data if the file exists, otherwise start with an empty list\n",
        "if os.path.exists(output_path):\n",
        "    print(f\"Loading existing mental health dataset from {output_path}...\")\n",
        "    df_existing = pd.read_csv(output_path)\n",
        "    # Filter out any \"failed to generate\" or too-short entries from previous runs\n",
        "    df_existing_filtered = df_existing[\n",
        "        (~df_existing['title'].str.contains(\"Failed to generate\", na=False)) &\n",
        "        (~df_existing['content'].str.contains(\"Content generation failed\", na=False)) &\n",
        "        (df_existing['content'].str.len() >= 1500) # Ensure existing content meets length criteria\n",
        "    ].copy() # Use .copy() to avoid SettingWithCopyWarning\n",
        "\n",
        "    mental_health_records = df_existing_filtered.to_dict('records')\n",
        "    # Use a set to track unique content hashes to prevent adding duplicates\n",
        "    unique_content_hashes = set(hashlib.md5(d['content'].encode('utf-8')).hexdigest() for d in mental_health_records if 'content' in d and d['content'])\n",
        "\n",
        "    print(f\"Loaded {len(mental_health_records)} valid existing entries and {len(unique_content_hashes)} unique content hashes.\")\n",
        "else:\n",
        "    mental_health_records = []\n",
        "    unique_content_hashes = set()\n",
        "    print(\"No existing dataset found. Starting with an empty dataset.\")\n",
        "\n",
        "# Target number of *additional* entries to generate\n",
        "TARGET_ADDITIONAL_ENTRIES = 700\n",
        "generated_successful_count = 0 # Counter for NEW successful entries in this run\n",
        "\n",
        "print(f\"\\nAiming to generate {TARGET_ADDITIONAL_ENTRIES} more *new and unique* mental health entries.\")\n",
        "print(f\"Dataset currently has {len(mental_health_records)} valid entries.\")\n",
        "\n",
        "# Create a list of all possible generation tasks to ensure fair distribution and uniqueness\n",
        "all_generation_tasks = []\n",
        "# We need 700 new entries.\n",
        "# 20 diseases * 2 styles * 2 edge_case_flags = 80 base combinations.\n",
        "# To get 700 unique entries, we need to iterate each combination roughly 700 / 80 = ~8.75 times.\n",
        "# Let's aim for 10-12 iterations per unique (disease, style, edge_case) tuple to have a buffer for failed/duplicate generations.\n",
        "num_iterations_per_variant = 12 # Adjust this if you want more or fewer total entries\n",
        "\n",
        "for style in ['doctor', 'patient']:\n",
        "    for cond in diseases:\n",
        "        for is_edge_case_flag in [False, True]:\n",
        "            for i in range(num_iterations_per_variant):\n",
        "                all_generation_tasks.append({\n",
        "                    'condition': cond,\n",
        "                    'style': style,\n",
        "                    'is_edge_case': is_edge_case_flag,\n",
        "                    'entry_sequence_num': i + 1 # Unique sequence number for prompt diversity\n",
        "                })\n",
        "\n",
        "random.shuffle(all_generation_tasks) # Shuffle to ensure varied generation order\n",
        "\n",
        "task_idx = 0\n",
        "\n",
        "try:\n",
        "    with tqdm(total=TARGET_ADDITIONAL_ENTRIES, desc=\"Generating new mental health entries\") as pbar:\n",
        "        # Continue generating until we hit the target or run out of unique tasks to attempt\n",
        "        while generated_successful_count < TARGET_ADDITIONAL_ENTRIES and task_idx < len(all_generation_tasks):\n",
        "            task = all_generation_tasks[task_idx]\n",
        "            entry = generate_entry(\n",
        "                task['condition'],\n",
        "                task['style'],\n",
        "                task['entry_sequence_num'],\n",
        "                task['is_edge_case']\n",
        "            )\n",
        "\n",
        "            if entry is not None: # ONLY process if generation was successful (not None due to internal retries failing)\n",
        "                # Check for content uniqueness BEFORE adding\n",
        "                current_content_hash = hashlib.md5(entry['content'].encode('utf-8')).hexdigest()\n",
        "                if current_content_hash not in unique_content_hashes:\n",
        "                    mental_health_records.append(entry)\n",
        "                    unique_content_hashes.add(current_content_hash)\n",
        "                    generated_successful_count += 1\n",
        "                    pbar.update(1)\n",
        "                else:\n",
        "                    # print(f\"Skipping duplicate content generated for {task['condition']} ({task['style']}) (Edge Case: {task['is_edge_case']}).\")\n",
        "                    pass # Don't print for every duplicate to avoid excessive output\n",
        "\n",
        "            task_idx += 1\n",
        "            # Dynamic sleep to manage API calls without hitting limits too aggressively\n",
        "            # If successful count is high, reduce sleep; if low, increase sleep\n",
        "            if generated_successful_count > 0 and generated_successful_count % 50 == 0:\n",
        "                 time.sleep(3) # Longer pause every 50 successful entries\n",
        "            else:\n",
        "                 time.sleep(1.2) # General delay for each call\n",
        "\n",
        "            # If we've exhausted all predefined tasks but still need more entries, break.\n",
        "            if task_idx >= len(all_generation_tasks) and generated_successful_count < TARGET_ADDITIONAL_ENTRIES:\n",
        "                print(\"\\nWarning: Exhausted all predefined unique generation tasks but did not reach the target count.\")\n",
        "                print(f\"Generated {generated_successful_count} new unique entries, needed {TARGET_ADDITIONAL_ENTRIES}.\")\n",
        "                print(\"Consider increasing `num_iterations_per_variant` or adding more diseases/styles to `diseases` list.\")\n",
        "                break\n",
        "\n",
        "except ResourceExhausted:\n",
        "    print(\"\\n--- API QUOTA LIMIT REACHED ---\")\n",
        "    print(\"Stopping generation to save current progress. Your data will be saved.\")\n",
        "except Exception as e:\n",
        "    print(f\"\\n--- An unexpected error occurred during generation: {e} ---\")\n",
        "    print(\"Stopping generation to save current progress. Your data will be saved.\")\n",
        "finally:\n",
        "    # This block will always execute, ensuring data is saved\n",
        "    df_final = pd.DataFrame(mental_health_records)\n",
        "    # Ensure no actual duplicates are in the final saved CSV due to any unforeseen issues\n",
        "    df_final.drop_duplicates(subset=['content'], inplace=True)\n",
        "    df_final.to_csv(output_path, index=False)\n",
        "    print(f\"\\nFinal total unique mental health entries saved to {output_path}: {len(df_final)}\")\n",
        "\n",
        "    # --- Display Final Results ---\n",
        "    print(\"\\nSample of the final mental health data:\")\n",
        "    print(df_final.tail())\n",
        "\n",
        "    print(\"\\nEntry counts by condition, style, and edge_case status (final dataset):\")\n",
        "    if not df_final.empty:\n",
        "        # Group by all relevant columns to see the distribution\n",
        "        counts = df_final.groupby(['condition', 'style', 'is_edge_case']).size().unstack(fill_value=0)\n",
        "        print(counts)\n",
        "        print(f\"\\nTotal unique mental health entries in final dataset: {len(df_final)}\")\n",
        "    else:\n",
        "        print(\"No entries in the final dataset to display counts.\")"
      ],
      "metadata": {
        "colab": {
          "base_uri": "https://localhost:8080/",
          "height": 1000
        },
        "id": "4ViaLbAfy_AK",
        "outputId": "fe587393-8798-48e2-a860-9613caf4de18"
      },
      "execution_count": null,
      "outputs": [
        {
          "output_type": "stream",
          "name": "stdout",
          "text": [
            "Mounted at /content/drive\n",
            "No existing dataset found. Starting with an empty dataset.\n",
            "\n",
            "Aiming to generate 700 more *new and unique* mental health entries.\n",
            "Dataset currently has 0 valid entries.\n"
          ]
        },
        {
          "output_type": "stream",
          "name": "stderr",
          "text": [
            "Generating new mental health entries: 100%|██████████| 700/700 [1:45:53<00:00,  9.08s/it]\n"
          ]
        },
        {
          "output_type": "stream",
          "name": "stdout",
          "text": [
            "\n",
            "Final total unique mental health entries saved to /content/drive/MyDrive/Mental Health/mental_health_dataset_enhanced3.csv: 700\n",
            "\n",
            "Sample of the final mental health data:\n",
            "                                             condition    style  \\\n",
            "695                       generalized anxiety disorder  patient   \n",
            "696                        separation anxiety disorder  patient   \n",
            "697                        separation anxiety disorder   doctor   \n",
            "698                    panic disorder with agoraphobia  patient   \n",
            "699  borderline personality disorder (emotional dys...  patient   \n",
            "\n",
            "                                                 title  \\\n",
            "695                                   The Constant Hum   \n",
            "696                                The Invisible Leash   \n",
            "697  Separation Anxiety: When Fear Closes In on the...   \n",
            "698              The World Shrunk, But So Did My Fears   \n",
            "699                            Cracked, But Not Broken   \n",
            "\n",
            "                                               content  is_mental_health  \\\n",
            "695  I'm Sarah, and my anxiety started subtly in my...              True   \n",
            "696  My Background & Early Signs: I'm Sarah, and lo...              True   \n",
            "697  Separation anxiety disorder (SAD) affects roug...              True   \n",
            "698  My Background & Early Signs:\\nI'm Sarah, and f...              True   \n",
            "699  My Background & Early Signs: I'm Sarah, and lo...              True   \n",
            "\n",
            "     is_edge_case  \n",
            "695         False  \n",
            "696         False  \n",
            "697          True  \n",
            "698         False  \n",
            "699         False  \n",
            "\n",
            "Entry counts by condition, style, and edge_case status (final dataset):\n",
            "is_edge_case                                                False  True \n",
            "condition                                          style                \n",
            "acute stress disorder                              doctor       7      6\n",
            "                                                   patient      8     10\n",
            "atypical depression                                doctor       9     11\n",
            "                                                   patient     10     10\n",
            "bipolar II disorder                                doctor      11     11\n",
            "                                                   patient      7      8\n",
            "body dysmorphic disorder                           doctor       8     10\n",
            "                                                   patient      7      7\n",
            "borderline personality disorder (emotional dysr... doctor      10     11\n",
            "                                                   patient      7      8\n",
            "chronic stress                                     doctor      10      9\n",
            "                                                   patient     10      9\n",
            "complex trauma (C-PTSD)                            doctor      10      8\n",
            "                                                   patient      8      8\n",
            "developmental trauma                               doctor       8     11\n",
            "                                                   patient     10      8\n",
            "eating disorder (anorexia nervosa)                 doctor      11      9\n",
            "                                                   patient      8      9\n",
            "episodic acute stress                              doctor       7      9\n",
            "                                                   patient      9      7\n",
            "generalized anxiety disorder                       doctor      10      9\n",
            "                                                   patient     10     10\n",
            "major depressive disorder                          doctor      11      6\n",
            "                                                   patient      8     10\n",
            "obsessive-compulsive disorder (checking type)      doctor      10      7\n",
            "                                                   patient     10      5\n",
            "obsessive-compulsive disorder (contamination type) doctor       6      7\n",
            "                                                   patient      8      9\n",
            "obsessive-compulsive disorder (symmetry type)      doctor       8      9\n",
            "                                                   patient      8      9\n",
            "panic disorder with agoraphobia                    doctor      10     11\n",
            "                                                   patient     11      9\n",
            "postpartum depression                              doctor       8      6\n",
            "                                                   patient      9      7\n",
            "separation anxiety disorder                        doctor       9      6\n",
            "                                                   patient      8     11\n",
            "single event trauma (PTSD)                         doctor      10      9\n",
            "                                                   patient      8      8\n",
            "social anxiety disorder                            doctor      10     11\n",
            "                                                   patient      6      9\n",
            "\n",
            "Total unique mental health entries in final dataset: 700\n"
          ]
        }
      ]
    },
    {
      "cell_type": "code",
      "source": [],
      "metadata": {
        "id": "s9oTi87s9k76"
      },
      "execution_count": null,
      "outputs": []
    }
  ]
}